{
 "cells": [
  {
   "cell_type": "markdown",
   "metadata": {},
   "source": [
    "# Basic recipes for working with n-grams"
   ]
  },
  {
   "cell_type": "markdown",
   "metadata": {},
   "source": [
    "## Getting word completions with `.startswith`\n",
    "\n",
    "Given a list of words, it is very easy to find possible completions using the `.startswith` method.\n",
    "A condition like `some_string.startswith(other_string)` evalutes to `True` iff `some_string` starts with `other_string`."
   ]
  },
  {
   "cell_type": "code",
   "execution_count": null,
   "metadata": {
    "collapsed": false
   },
   "outputs": [],
   "source": [
    "if \"hello\".startswith(\"hell\"):\n",
    "    print(\"You can't spell hello without hell.\")"
   ]
  },
  {
   "cell_type": "markdown",
   "metadata": {},
   "source": [
    "The set of all possible completions is best built with a set comprehension (see the Python recap for details on comprehensions)."
   ]
  },
  {
   "cell_type": "code",
   "execution_count": null,
   "metadata": {
    "collapsed": false
   },
   "outputs": [],
   "source": [
    "from nltk.corpus import brown\n",
    "\n",
    "\n",
    "def completions(word, corpus):\n",
    "    \"\"\"Compute set of completions for word according to corpus.\"\"\"\n",
    "    return {comp for comp in corpus\n",
    "            if comp.startswith(word)}\n",
    "\n",
    "\n",
    "completions(\"test\", brown.words())"
   ]
  },
  {
   "cell_type": "markdown",
   "metadata": {},
   "source": [
    "## Converting counts to frequencies\n",
    "\n",
    "For many applications we do not want absolute counts but rather frequencies.\n",
    "The frequency of a word is obtained by dividing its counts in a corpus by the total number of words in the same corpus."
   ]
  },
  {
   "cell_type": "code",
   "execution_count": null,
   "metadata": {
    "collapsed": false
   },
   "outputs": [],
   "source": [
    "from nltk.corpus import brown\n",
    "from collections import Counter\n",
    "from pprint import pprint\n",
    "\n",
    "# compute counts for all words in the Brown corpus\n",
    "counts = Counter(brown.words())\n",
    "# let's look at the 10 most common words and their counts\n",
    "pprint(counts.most_common(10))\n",
    "\n",
    "# now we convert to frequencies;\n",
    "# the total is the sum of all the values (i.e. counts) in the Counter\n",
    "total = sum(counts.values())\n",
    "# we replace each word count by its frequency\n",
    "for word in counts:\n",
    "    counts[word] /= total  # augmented assignment divides each count by total\n",
    "\n",
    "# and here's the results after converting to frequencies\n",
    "pprint(counts.most_common(10))"
   ]
  },
  {
   "cell_type": "markdown",
   "metadata": {},
   "source": [
    "## Sorting with `key`\n",
    "\n",
    "When presenting word completions, we do not want them in alphabetical order, but rather in decreasing order of frequency.\n",
    "This is a bit tricky.\n",
    "The `sorted` function by default orders lists in ascending order:\n",
    "\n",
    "- Lists of numbers are sorted from smallest to largest."
   ]
  },
  {
   "cell_type": "code",
   "execution_count": null,
   "metadata": {
    "collapsed": false
   },
   "outputs": [],
   "source": [
    "sorted([10, 4, 3, 8, 7, 5])"
   ]
  },
  {
   "cell_type": "markdown",
   "metadata": {},
   "source": [
    "- Lists of strings are ordered alphabetically, but with all uppercase letters before all lowercase letters."
   ]
  },
  {
   "cell_type": "code",
   "execution_count": null,
   "metadata": {
    "collapsed": false
   },
   "outputs": [],
   "source": [
    "sorted([\"banana\", \"John\", \"Bill\", \"J-pop\", \"apple\"])"
   ]
  },
  {
   "cell_type": "markdown",
   "metadata": {},
   "source": [
    "The option `reverse` can be used to flip the order from asending to descending."
   ]
  },
  {
   "cell_type": "code",
   "execution_count": null,
   "metadata": {
    "collapsed": false
   },
   "outputs": [],
   "source": [
    "sorted([10, 4, 3, 8, 7, 5], reverse=True)"
   ]
  },
  {
   "cell_type": "code",
   "execution_count": null,
   "metadata": {
    "collapsed": false
   },
   "outputs": [],
   "source": [
    "sorted([\"banana\", \"John\", \"Bill\", \"J-pop\", \"apple\"], reverse=True)"
   ]
  },
  {
   "cell_type": "markdown",
   "metadata": {},
   "source": [
    "When a completely different ordering pattern is desired, it has to be specified by a function that is passed in through the `key` parameter.\n",
    "Here is a silly example:"
   ]
  },
  {
   "cell_type": "code",
   "execution_count": null,
   "metadata": {
    "collapsed": false
   },
   "outputs": [],
   "source": [
    "def new_sort(word):\n",
    "    \"\"\"Deprioritize banana and J-pop.\"\"\"\n",
    "    if word == \"banana\":\n",
    "        return 1000\n",
    "    elif word == \"J-pop\":\n",
    "        return 2000\n",
    "    else:\n",
    "        return 250\n",
    "    \n",
    "sorted([\"banana\", \"John\", \"Bill\", \"J-pop\", \"apple\"], key=new_sort)"
   ]
  },
  {
   "cell_type": "markdown",
   "metadata": {},
   "source": [
    "The function `new_sort` maps `\"banana\"` to `1000`, `\"J-pop\"` to `100`, and everything else to `250`.\n",
    "When we tell `sorted` to use `new_sort` as the key for sorting, it no longer tries to establish an alphabetical order.\n",
    "Instead, it looks at the numbers returned by `new_sort` and orders the words as if they had been replaced by these numbers.\n",
    "Intuitively, `[\"banana\", \"John\", \"Bill\", \"J-pop\", \"apple\"]` becomes `[1000, 250, 250, 2000, 250]`, which is sorted as `[250, 250, 250, 1000, 2000]` and then is mapped back to `[\"John\", \"Bill\", \"apple\", \"banana\", \"J-pop\"].\n",
    "For elements that are mapped to the same number, the original order is preserved."
   ]
  },
  {
   "cell_type": "code",
   "execution_count": null,
   "metadata": {
    "collapsed": false
   },
   "outputs": [],
   "source": [
    "# we've switched John and apple, and they're also switched after sorting\n",
    "sorted([\"banana\", \"apple\", \"Bill\", \"J-pop\", \"John\"], key=new_sort)"
   ]
  },
  {
   "cell_type": "markdown",
   "metadata": {},
   "source": [
    "So if we want to order completions by frequency, we can write a function that maps each word to its frequency using our frequency counter.\n",
    "This function is then used as a key for sorting.\n",
    "Fortunately, such a function already exists.\n",
    "Instead of something like `some_counter[some_item]`, one can also use `some_counter.get(some_item)`."
   ]
  },
  {
   "cell_type": "code",
   "execution_count": null,
   "metadata": {
    "collapsed": false
   },
   "outputs": [],
   "source": [
    "from nltk.corpus import brown\n",
    "from collections import Counter\n",
    "\n",
    "counts = Counter(brown.words())\n",
    "print(counts[\"test\"])\n",
    "print(counts.get(\"test\"))"
   ]
  },
  {
   "cell_type": "markdown",
   "metadata": {},
   "source": [
    "So we can use the `get` method as a key."
   ]
  },
  {
   "cell_type": "code",
   "execution_count": null,
   "metadata": {
    "collapsed": false
   },
   "outputs": [],
   "source": [
    "# a toy example\n",
    "from nltk.corpus import brown\n",
    "from collections import Counter\n",
    "\n",
    "counts = Counter(brown.words())\n",
    "test_list = [\"test\", \"wicked\", \"John\", \"Sue\", \"polar\", \"the\", \"of\"]\n",
    "sorted(test_list, key=counts.get)  # sort in increasing order of frequency"
   ]
  },
  {
   "cell_type": "markdown",
   "metadata": {},
   "source": [
    "And here's a full example for sorting word completions"
   ]
  },
  {
   "cell_type": "code",
   "execution_count": null,
   "metadata": {
    "collapsed": false
   },
   "outputs": [],
   "source": [
    "from nltk.corpus import brown\n",
    "from collections import Counter\n",
    "\n",
    "\n",
    "def completions(word, counter):\n",
    "    \"\"\"Compute list of completions for word according to counter\"\"\"\n",
    "    return [comp for comp in counter\n",
    "            if comp.startswith(word)]\n",
    "\n",
    "\n",
    "def sorted_completions(word, counter):\n",
    "    \"\"\"Sort completions in descending order of frequency\"\"\"\n",
    "    return sorted(completions(word, counter), key=counter.get, reverse=True)\n",
    "\n",
    "\n",
    "counts = Counter(brown.words())\n",
    "total = sum(counts.values())\n",
    "for c in counts:\n",
    "    counts[c] /= total\n",
    "\n",
    "sorted_completions(\"test\", counts)"
   ]
  },
  {
   "cell_type": "markdown",
   "metadata": {},
   "source": [
    "## Converting a text to bigrams\n",
    "\n",
    "The lecture notes provide the following recipe for obtaining a list of bigrams from a tokenized text."
   ]
  },
  {
   "cell_type": "code",
   "execution_count": null,
   "metadata": {
    "collapsed": false
   },
   "outputs": [],
   "source": [
    "def bigrams(text):\n",
    "    \"\"\"Convert a text (list of strings) to bigrams.\"\"\"\n",
    "    return [text[n:n+2] for n in range(len(text) - 1)]\n",
    "\n",
    "bigrams([\"A\", \"simple\", \"example\", \"for\", \"our\", \"bigram\", \"conversion\"])"
   ]
  },
  {
   "cell_type": "markdown",
   "metadata": {},
   "source": [
    "In order to understand how this works, you need to know the following:\n",
    "\n",
    "1. slices (covered in Python recap), and\n",
    "1. `len` (covered in Python recap), and\n",
    "1. list comprehensions (covered in Python recap), and\n",
    "1. `range`.\n",
    "\n",
    "The range function is very intuitive: it can be used in a `for`-loop to iterate over numbers."
   ]
  },
  {
   "cell_type": "code",
   "execution_count": null,
   "metadata": {
    "collapsed": false
   },
   "outputs": [],
   "source": [
    "for n in range(4):\n",
    "    print(n)"
   ]
  },
  {
   "cell_type": "markdown",
   "metadata": {},
   "source": [
    "So `range(n)` allows us to iterate over `0`, `1`, `2`, ..., `n-1`.\n",
    "Careful, though, `range(n)` does **not** include `n`.\n",
    "For instance, `range(4)` above only goes from `0` to `3`, it excludes `4`."
   ]
  },
  {
   "cell_type": "markdown",
   "metadata": {},
   "source": [
    "What, then, does the code above do?\n",
    "It constructs a list that consists of slices of `text`.\n",
    "Each slice spans from position `n` to `n+2`.\n",
    "The lowest value of `n` is 0, the beginning of the text.\n",
    "The largest value is a bit trickier:\n",
    "\n",
    "The largest value must be chosen such that `[n:n+2]` is the slice of the last two words in the text.\n",
    "To achieve this, `n` must be the index of the last but one word.\n",
    "Because of how Python lists work, this means that `n` must be `len(text) - 2`.\n",
    "But remember that the highest value of `range(len(text))` is `len(text) - 1`.\n",
    "That's one too high, so we have to subtract one, giving us `range(len(text) - 1)`.\n",
    "\n",
    "Observe how the code misbehaves if we change the range:"
   ]
  },
  {
   "cell_type": "code",
   "execution_count": null,
   "metadata": {
    "collapsed": false
   },
   "outputs": [],
   "source": [
    "def bigrams(text):\n",
    "    \"\"\"Convert a text (list of strings) to bigrams.\"\"\"\n",
    "    return [text[n:n+2] for n in range(len(text))]  # range too big\n",
    "\n",
    "bigrams([\"A\", \"simple\", \"example\", \"for\", \"our\", \"bigram\", \"conversion\"])"
   ]
  },
  {
   "cell_type": "code",
   "execution_count": null,
   "metadata": {
    "collapsed": false
   },
   "outputs": [],
   "source": [
    "def bigrams(text):\n",
    "    \"\"\"Convert a text (list of strings) to bigrams.\"\"\"\n",
    "    return [text[n:n+2] for n in range(len(text) - 2)]  # range too small\n",
    "\n",
    "bigrams([\"A\", \"simple\", \"example\", \"for\", \"our\", \"bigram\", \"conversion\"])"
   ]
  },
  {
   "cell_type": "markdown",
   "metadata": {},
   "source": [
    "Make sure you understand the position math in these examples.\n",
    "In particular:\n",
    "\n",
    "- Why does the slice go from `n` to `n+2`, rather than `n+1` or `n+3`?\n",
    "- Why do we subtract 1 from the length before computing the range?\n",
    "\n",
    "If you are unsure, revisit the material on list indices.\n",
    "From here on out, it is crucial that you can easily do index calculations of this kind."
   ]
  }
 ],
 "metadata": {
  "kernelspec": {
   "display_name": "Python 3",
   "language": "python",
   "name": "python3"
  },
  "language_info": {
   "codemirror_mode": {
    "name": "ipython",
    "version": 3
   },
   "file_extension": ".py",
   "mimetype": "text/x-python",
   "name": "python",
   "nbconvert_exporter": "python",
   "pygments_lexer": "ipython3",
   "version": "3.5.3"
  }
 },
 "nbformat": 4,
 "nbformat_minor": 2
}
