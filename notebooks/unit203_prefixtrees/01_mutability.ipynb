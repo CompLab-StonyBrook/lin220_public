{
 "cells": [
  {
   "cell_type": "markdown",
   "metadata": {},
   "source": [
    "# Hashable = (im)mutable\n",
    "\n",
    "The previous notebook established that the keys of a dictionary must be hashable.\n",
    "Among the data types we know so far, only strings and numbers (i.e. integers and floats) are hashable.\n",
    "But there are hashable data types we haven't encountered yet.\n",
    "How, then, can one tell whether a data type is hashable?\n",
    "The essential property for being a hashable data type is that objects of this type cannot be changed in place.\n",
    "In other words, the data type must be **immutable**."
   ]
  },
  {
   "cell_type": "markdown",
   "metadata": {},
   "source": [
    "## Mutability\n",
    "\n",
    "Python has many kinds of objects that can be changed in place.\n",
    "To \"change in place\" means that one can modify the object after it has been created.\n",
    "Objects that can be changed in place are **mutable**, all other objects are **immutable**.\n",
    "The protoypical example of a mutable data type are lists."
   ]
  },
  {
   "cell_type": "code",
   "execution_count": null,
   "metadata": {
    "collapsed": false
   },
   "outputs": [],
   "source": [
    "some_list = [\"I\", \"have\", \"four\", \"items\"]\n",
    "print(some_list)\n",
    "\n",
    "print(\"Let's change the list in place:\")\n",
    "some_list.append(\"no more\")\n",
    "print(some_list)"
   ]
  },
  {
   "cell_type": "markdown",
   "metadata": {},
   "source": [
    "Sets, counters, and dictionaries can also be modified after they have been created."
   ]
  },
  {
   "cell_type": "code",
   "execution_count": null,
   "metadata": {
    "collapsed": false
   },
   "outputs": [],
   "source": [
    "from collections import Counter\n",
    "\n",
    "some_set = {\"I\", \"have\", \"four\", \"items\"}\n",
    "some_counter = Counter([\"I\", \"have\", \"four\", \"items\"])\n",
    "some_dict = {\"I\": 1, \"have\": 1, \"four\": 1, \"items\": 1}\n",
    "\n",
    "for struct in [some_set, some_counter, some_dict]:\n",
    "    print(struct)\n",
    "    \n",
    "print(\"Let's change these guys in place:\")\n",
    "some_set.add(\"no more\")\n",
    "some_counter[\"no more\"] = 1\n",
    "some_dict[\"no more\"] = 1\n",
    "\n",
    "for struct in [some_set, some_counter, some_dict]:\n",
    "    print(struct)"
   ]
  },
  {
   "cell_type": "markdown",
   "metadata": {},
   "source": [
    "Strings and numbers cannot be changed in place like this."
   ]
  },
  {
   "cell_type": "code",
   "execution_count": null,
   "metadata": {
    "collapsed": false
   },
   "outputs": [],
   "source": [
    "some_string = \"I have four items\"\n",
    "print(some_string)\n",
    "\n",
    "print(\"We cannot change the string in place:\")\n",
    "some_string + \" no more\"\n",
    "print(some_string)"
   ]
  },
  {
   "cell_type": "code",
   "execution_count": null,
   "metadata": {
    "collapsed": false
   },
   "outputs": [],
   "source": [
    "some_number = 5\n",
    "print(some_number)\n",
    "\n",
    "print(\"We cannot change the number in place:\")\n",
    "some_number + 10\n",
    "print(some_number)"
   ]
  },
  {
   "cell_type": "markdown",
   "metadata": {},
   "source": [
    "At this point you might object that we can easily change the value of `some_string` or `some_number`."
   ]
  },
  {
   "cell_type": "code",
   "execution_count": null,
   "metadata": {
    "collapsed": false
   },
   "outputs": [],
   "source": [
    "some_string = \"I have four items\"\n",
    "print(some_string)\n",
    "\n",
    "print(\"We cannot change the string in place:\")\n",
    "some_string += \" no more\"\n",
    "print(some_string)"
   ]
  },
  {
   "cell_type": "markdown",
   "metadata": {},
   "source": [
    "Bam, we've changed the value of `some_string`, so strings are mutable!\n",
    "Except, that's not really what happened.\n",
    "\n",
    "The code above changes the value for the variable `some_string`, but it does not change the actual string in place.\n",
    "Instead, the code takes the current value of `some_string` and combines that with `\" no more\"` to build a new string, which is then stored as the new value of `some_string.\n",
    "So overall, three objects are involved: `\"I have four items\"`, `\" no more\"`, and the newly built string `\"I have four items no more\"`.\n",
    "\n",
    "In the list case, on the other hand, no new list is built.\n",
    "Instead, Python just extends the existing one.\n",
    "So only two objects are involved: the list `[\"I\", \"have\", \"four\", \"items\"]`, and the string `\"no more\"`.\n",
    "\n",
    "The distinction might seem academic to you, and Python does a good job of hiding it most of the time.\n",
    "If you find all of this confusing and pointless, just memorize that strings and numbers are immutable, whereas lists, sets, dictionaries, and Counters are not.\n",
    "Then skip ahead to the next section in this notebook."
   ]
  },
  {
   "cell_type": "markdown",
   "metadata": {},
   "source": [
    "...\n",
    "\n",
    "...\n",
    "\n",
    "...\n",
    "\n",
    "last chance to skip ahead\n",
    "\n",
    "...\n",
    "\n",
    "...\n",
    "\n",
    "...\n",
    "\n",
    "Alright, if you're still reading this, you apparently care about the technical details.\n",
    "Under the hood, the distinction between mutable and immutable data types is very important.\n",
    "Creating new objects is more costly than modifying existing ones.\n",
    "That's fairly intuitive.\n",
    "Suppose you have a list with a million entries.\n",
    "What do you think is easier:\n",
    "Adding one entry to the end of that list, or creating a new list from scratch and adding one million and one entries?\n",
    "Yes, the first one seems a lot easier.\n",
    "This is why mutable data types are very common in programming languages (but there are also programming languages where everything is immutable, including even lists).\n",
    "\n",
    "The major downside of mutable data types is that they are, well, mutable.\n",
    "We've already seen how that makes them unsuitable for hash maps.\n",
    "Mutability also increases the risk of accidentally changing data that should not have been altered.\n",
    "That's not a big problem for the programs you will be creating in this course.\n",
    "But in larger software projects, where multiple functions might be operating on the same objects simultaneously, strange things can happen if one function modifies an object while another one is still working on it.\n",
    "If you want to know more about that, google *concurrency mutable*.\n",
    "\n",
    "We will talk more about mutability later on in the semester, when we discuss the distinction between references, copies, and deep copies.\n",
    "It really is a very important property of data structures, but we have to cover quite a bit of ground before we can explore its full range of implications."
   ]
  },
  {
   "cell_type": "code",
   "execution_count": null,
   "metadata": {
    "collapsed": false
   },
   "outputs": [],
   "source": [
    "# we define a test dictionary\n",
    "playground = {\"key12\": \"value for key12\"}\n",
    "\n",
    "# define a variable\n",
    "key = \"key1\"\n",
    "# and use it as a key\n",
    "playground[key] = \"value for key1\"\n",
    "\n",
    "print(\"key is now\", key)\n",
    "print(\"Here's the value for key:\", playground[key])\n",
    "\n",
    "# we change key\n",
    "key += \"2\"\n",
    "print(\"key is now\", key)\n",
    "print(\"And playground[key] is:\", playground[key])"
   ]
  },
  {
   "cell_type": "markdown",
   "metadata": {},
   "source": [
    "In this example, we tell the dictionary `playground` that the string stored in the variable `key` points to the string `\"value for key1\"`.\n",
    "If strings could be changed in place, then modifying `key` should have also modified the mapping in `playground`.\n",
    "But that did not happen\n",
    "If strings could be changed in place, then changing the value of `key` should not have altered the value of `playground[key]` because"
   ]
  },
  {
   "cell_type": "markdown",
   "metadata": {},
   "source": [
    "## Immutable lists: Tuples\n",
    "\n",
    "Since lists are mutable, they cannot be used as keys in dictionaries or counters, and they cannot be contained in sets at all.\n",
    "Considering how useful lists have been to us so far, this is a major limitation.\n",
    "For instance, our text-to-bigram converter implements bigrams as lists that contain two words each.\n",
    "But that means that a list of bigrams cannot be converted to a counter."
   ]
  },
  {
   "cell_type": "code",
   "execution_count": null,
   "metadata": {
    "collapsed": false
   },
   "outputs": [],
   "source": [
    "from collections import Counter\n",
    "\n",
    "\n",
    "def text_to_bigrams(text):\n",
    "    \"\"\"Convert a text (list of strings) to bigrams.\"\"\"\n",
    "    return [text[n:n+2] for n in range(len(text) - 1)]\n",
    "\n",
    "\n",
    "bg_list = text_to_bigrams([\"A\", \"simple\", \"example\", \"for\", \"our\", \"bigram\", \"conversion\"])\n",
    "print(Counter(bg_list))"
   ]
  },
  {
   "cell_type": "markdown",
   "metadata": {},
   "source": [
    "Fortunately, there is an easy fix for this.\n",
    "Every list can be made immutable by converting it to a **tuple**."
   ]
  },
  {
   "cell_type": "code",
   "execution_count": null,
   "metadata": {
    "collapsed": false
   },
   "outputs": [],
   "source": [
    "from collections import Counter\n",
    "\n",
    "\n",
    "def text_to_bigrams(text):\n",
    "    \"\"\"Convert a text (list of strings) to bigrams.\"\"\"\n",
    "    return [tuple(text[n:n+2]) for n in range(len(text) - 1)]\n",
    "\n",
    "\n",
    "bg_list = text_to_bigrams([\"A\", \"simple\", \"example\", \"for\", \"our\", \"bigram\", \"conversion\"])\n",
    "print(Counter(bg_list))"
   ]
  },
  {
   "cell_type": "markdown",
   "metadata": {},
   "source": [
    "In contrast to lists, tuples are delimited by standard parentheses.\n",
    "Like lists, they can be arbitrarily long, and contain objects of arbitrary complexity (including mutable data structures).\n",
    "They are ordered, may contain duplicates, can be iterated over with `for`, and membership can be tested with `in`.\n",
    "You can also retrieve items by their indices, and `+` can be used to concatenate tuples into a larger tuple.\n",
    "However, since tuples are immutable, you cannot use `.append` to add new items on the fly."
   ]
  },
  {
   "cell_type": "code",
   "execution_count": null,
   "metadata": {
    "collapsed": false
   },
   "outputs": [],
   "source": [
    "pair = (\"first\", \"second\")\n",
    "print(pair[0])\n",
    "print(pair[1])\n",
    "print(pair + (\"third\", 4))"
   ]
  },
  {
   "cell_type": "code",
   "execution_count": null,
   "metadata": {
    "collapsed": false
   },
   "outputs": [],
   "source": [
    "pair = ([\"a\", \"list\"], {\"a\", \"set\"})\n",
    "print(pair[0])\n",
    "print(pair[1])\n",
    "print(pair + (\"third\", 4))"
   ]
  },
  {
   "cell_type": "code",
   "execution_count": null,
   "metadata": {
    "collapsed": false
   },
   "outputs": [],
   "source": [
    "for item in (\"a\", \"tuple\", \"of\", \"strings\", \"and\", \"strings\", \"and\", \"strings\"):\n",
    "    print(item)"
   ]
  },
  {
   "cell_type": "code",
   "execution_count": null,
   "metadata": {
    "collapsed": false
   },
   "outputs": [],
   "source": [
    "if \"pair\" in (\"this\", \"pair\"):\n",
    "    print(\"Succesful membership test\")"
   ]
  },
  {
   "cell_type": "markdown",
   "metadata": {},
   "source": [
    "You have to be careful, though, when putting a mutable data structure inside a tuple.\n",
    "Since tuples are immutable, they do not change even if the mutable data structure does.\n",
    "For instance, if a list is added to a tuple, any changes that are made to the list later on do not alter the tuple."
   ]
  },
  {
   "cell_type": "code",
   "execution_count": null,
   "metadata": {
    "collapsed": false
   },
   "outputs": [],
   "source": [
    "mutable = [\"the\", \"list\"]\n",
    "immutable = (mutable, {\"a\", \"set\"})\n",
    "print(\"The list is:\", mutable)\n",
    "print(\"The tuple contains:\", immutable[0])\n",
    "\n",
    "mutable = [\"the\", \"list\", \"has\", \"changed\"]\n",
    "print(\"The list is now:\", mutable)\n",
    "print(\"The tuple still contains:\", immutable[0])"
   ]
  },
  {
   "cell_type": "markdown",
   "metadata": {},
   "source": [
    "As the immutable counterpart to lists, tuples are very easy to handle in Python.\n",
    "Hence we will make extensive use of them from here on out."
   ]
  },
  {
   "cell_type": "markdown",
   "metadata": {},
   "source": [
    "## Bullet-point summary\n",
    "\n",
    "- Only immutable data types are hashable: strings, numbers (int, float), and tuples.\n",
    "- Tuples are used exactly like lists, but cannot be changed in place with `.append`.\n",
    "- If a mutable object is added to an immutable one, changes to the former do not show up in the latter.\n",
    "\n",
    "|                   | **Integer** | **String** | **Tuple** | **List** | **Set** | **Counter**       | **Dictionary**    |\n",
    "| --:               | :-:         | :-:        | :-:      | :-:      | :-:     | :-:               | :-:               |\n",
    "| Container?        | N           | only char  | Y        | Y        | Y       | Y                 | Y                 |\n",
    "| Iterable?         | N           | Y          | Y        | Y        | Y       | Y (default: keys) | Y (default: keys) |\n",
    "| Duplicate values? | N           | Y          | Y        | Y        | N       | Y                 | Y                 |\n",
    "| Order?            | N           | Y          | Y        | Y        | N       | N                 | N                 |\n",
    "| Index?            | N           | Y          | Y        | Y        | N       | N                 | N                 |\n",
    "| Fast search?      | N           | N          | N        | N        | Y       | Y                 | Y                 |\n",
    "| `[key]`?          | N           | N          | N        | N        | N       | Y (safe)          | Y (not safe)      |\n",
    "| `.get`?           | N           | N          | N        | N        | N       | Y (disprefered)   | Y (prefered)      |\n",
    "| Immutable?        | Y           | Y          | Y        | N        | N       | N                 | N                 |"
   ]
  }
 ],
 "metadata": {
  "kernelspec": {
   "display_name": "Python 3",
   "language": "python",
   "name": "python3"
  },
  "language_info": {
   "codemirror_mode": {
    "name": "ipython",
    "version": 3
   },
   "file_extension": ".py",
   "mimetype": "text/x-python",
   "name": "python",
   "nbconvert_exporter": "python",
   "pygments_lexer": "ipython3",
   "version": "3.5.3"
  }
 },
 "nbformat": 4,
 "nbformat_minor": 2
}
