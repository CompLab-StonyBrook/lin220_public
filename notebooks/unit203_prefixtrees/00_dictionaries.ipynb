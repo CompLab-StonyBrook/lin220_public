{
 "cells": [
  {
   "cell_type": "markdown",
   "metadata": {},
   "source": [
    "# Diving deeper into Python data structures\n",
    "\n",
    "As discussed in the last lecture, prefix trees are a very useful data structure.\n",
    "They provide:\n",
    "\n",
    "- compact storage\n",
    "- quick search\n",
    "- easy addition of new elements\n",
    "\n",
    "But they aren't as easy to use as simpler data structures.\n",
    "In particular, Python does not have a built-in implementation of prefix trees.\n",
    "So we'll have to role our own.\n",
    "This will be a topic for another notebook, though.\n",
    "First, let's take another gander at what data structures we already have: lists, sets, and Counters.\n",
    "As we will see next, sets and Counters are actually specialized instances of another data type, called **dictionaries**."
   ]
  },
  {
   "cell_type": "markdown",
   "metadata": {},
   "source": [
    "## Reminder: Lists, sets, counters\n",
    "\n",
    "By now you have seen your fair share of lists, sets, and counters.\n",
    "**Lists** are the default data structure:\n",
    "\n",
    "- They are linearly ordered.\n",
    "- They can contain duplicates.\n",
    "- Appending items at the end is cheap.\n",
    "- Search is slow.\n",
    "- They lack \"semantics\": items are only identified by their position in the list, which might change.\n",
    "\n",
    "The last two points can be big detriments depending on the application.\n",
    "Let's first consider the speed of search.\n",
    "Run the cells below to see how much faster it can be to store a word list in a set compared to a dictionary.\n",
    "Each cell uses the Jupyter notebook command `%%time` to keep track of how long the computation takes."
   ]
  },
  {
   "cell_type": "code",
   "execution_count": null,
   "metadata": {
    "collapsed": false
   },
   "outputs": [],
   "source": [
    "%%time\n",
    "from nltk.corpus import brown, words\n",
    "\n",
    "corpus = brown.words()\n",
    "wordlist = list(words.words())  # we explicitly tell Python to store this as a list\n",
    "\n",
    "\n",
    "def spellcheck(text, wordlist):\n",
    "    \"\"\"Compute list of misspelled words and their positions\"\"\"\n",
    "    return [[text[n], n] for n in range(len(text))\n",
    "            if text[n] not in wordlist]\n",
    "\n",
    "\n",
    "spellcheck(corpus, wordlist)"
   ]
  },
  {
   "cell_type": "code",
   "execution_count": null,
   "metadata": {
    "collapsed": false
   },
   "outputs": [],
   "source": [
    "%%time\n",
    "from nltk.corpus import brown, words\n",
    "\n",
    "corpus = brown.words()\n",
    "wordlist = set(words.words())  # and now we store it as a set\n",
    "\n",
    "\n",
    "def spellcheck(text, wordlist):\n",
    "    \"\"\"Compute list of misspelled words and their positions\"\"\"\n",
    "    return [[text[n], n] for n in range(len(text))\n",
    "            if text[n] not in wordlist]\n",
    "\n",
    "\n",
    "spellcheck(corpus, wordlist)"
   ]
  },
  {
   "cell_type": "markdown",
   "metadata": {},
   "source": [
    "Depending on your machine, the code with sets might have taken 10 seconds to a minute to run.\n",
    "In that time, it checked over a million words.\n",
    "The list code, on the other hand, might have taken so long that you just decided to restart the kernel.\n",
    "So yes, **sets** are much more efficient than lists:\n",
    "\n",
    "- almost instantaneous search\n",
    "- no linear order\n",
    "- no duplicates\n",
    "\n",
    "But why are sets so much faster than lists?\n",
    "In order to understand this, we have to look at a more general data type, **dictionaries**.\n",
    "Dictionaries will look instantly familiar to you, as you already their two most common subtypes: sets, and Counters."
   ]
  },
  {
   "cell_type": "markdown",
   "metadata": {},
   "source": [
    "## Python dictionaries (i.e. hashmaps)\n",
    "\n",
    "Just like a counter, a dictionary is a collection of keys and values.\n",
    "In all the counters we have used so far, the keys were words and the values were numbers.\n",
    "Dictionaries work pretty much the same, but allow a wider range of values.\n",
    "For instance, we could have a dictionary that uses phone numbers as keys and the owner's name as the value."
   ]
  },
  {
   "cell_type": "code",
   "execution_count": null,
   "metadata": {
    "collapsed": true
   },
   "outputs": [],
   "source": [
    "phone_matcher = {\"555-732\": \"Bruce\", \"555-238\": \"Diana\", \"555-3927\": \"Clark\"}"
   ]
  },
  {
   "cell_type": "markdown",
   "metadata": {},
   "source": [
    "As with counters, we can use the keys to get the values.\n",
    "While the bracket notation is available, it is preferable to use the `.get` method (the reason for that will be explained later)."
   ]
  },
  {
   "cell_type": "code",
   "execution_count": null,
   "metadata": {
    "collapsed": false
   },
   "outputs": [],
   "source": [
    "phone_matcher[\"555-732\"]"
   ]
  },
  {
   "cell_type": "code",
   "execution_count": null,
   "metadata": {
    "collapsed": false
   },
   "outputs": [],
   "source": [
    "phone_matcher.get(\"555-732\")"
   ]
  },
  {
   "cell_type": "markdown",
   "metadata": {},
   "source": [
    "But maybe we want more structured information, such as both first name and last name.\n",
    "Of course we can just add that to the strings."
   ]
  },
  {
   "cell_type": "code",
   "execution_count": null,
   "metadata": {
    "collapsed": true
   },
   "outputs": [],
   "source": [
    "phone_matcher = {\"555-732\": \"Bruce Wayne\", \"555-238\": \"Diana\", \"555-3927\": \"Clark Kent\"}\n",
    "phone_matcher.get(\"555-732\")"
   ]
  },
  {
   "cell_type": "markdown",
   "metadata": {},
   "source": [
    "But then it gets tricky to extract just first names or just last names.\n",
    "And what should we do if an entry lacks a last name, like Diana above.\n",
    "Is that just a mistake in the records?\n",
    "In the case at hand, it isn't --- while Wonder Woman once used the secret identity of Diana Prince, Prince is not her actual last name.\n",
    "Her name is just Diana.\n",
    "To handle cases like this more gracefully, we can make our values more complex by using lists."
   ]
  },
  {
   "cell_type": "code",
   "execution_count": null,
   "metadata": {
    "collapsed": true
   },
   "outputs": [],
   "source": [
    "phone_matcher = {\"555-732\": [\"Bruce\", \"Wayne\"], \"555-238\": [\"Diana\", \"\"], \"555-3927\": [\"Clark\", \"Kent\"]}\n",
    "phone_matcher.get(\"555-732\")[1]"
   ]
  },
  {
   "cell_type": "markdown",
   "metadata": {},
   "source": [
    "But that's still tedious because we have to remember whether the first component is the first name or the last name.\n",
    "So instead, we can use dictionaries instead of lists.\n",
    "Yes, we can use dictionaries inside dictionaries!"
   ]
  },
  {
   "cell_type": "code",
   "execution_count": null,
   "metadata": {
    "collapsed": true
   },
   "outputs": [],
   "source": [
    "phone_matcher = {\"555-732\": {\"first name\": \"Bruce\",\n",
    "                             \"last name\": \"Wayne\"},\n",
    "                 \"555-238\": {\"first name\": \"Diana\",\n",
    "                             \"last name\": \"\"},\n",
    "                 \"555-3927\": {\"first name\": \"Clark\",\n",
    "                              \"last name\": \"Kent\"}}\n",
    "phone_matcher.get(\"555-732\").get(\"last name\")"
   ]
  },
  {
   "cell_type": "markdown",
   "metadata": {},
   "source": [
    "So dictionaries are similar to lists in the sense that they can contain items that themselves contain other items.\n",
    "They can also contain duplicate items, as long as the keys are distinct."
   ]
  },
  {
   "cell_type": "code",
   "execution_count": null,
   "metadata": {
    "collapsed": false
   },
   "outputs": [],
   "source": [
    "phone_matcher = {\"555-732\": {\"first name\": \"Bruce\",\n",
    "                             \"last name\": \"Wayne\"},\n",
    "                 \"555-739\": {\"first name\": \"Bruce\",\n",
    "                             \"last name\": \"Wayne\"},\n",
    "                 \"555-238\": {\"first name\": \"Diana\",\n",
    "                             \"last name\": \"\"},\n",
    "                 \"555-3927\": {\"first name\": \"Clark\",\n",
    "                              \"last name\": \"Kent\"}}\n",
    "print(phone_matcher.get(\"555-732\").get(\"last name\"))\n",
    "print(phone_matcher.get(\"555-739\").get(\"last name\"))"
   ]
  },
  {
   "cell_type": "markdown",
   "metadata": {},
   "source": [
    "But in most other respects, dictionaries are much closer to sets and counters."
   ]
  },
  {
   "cell_type": "markdown",
   "metadata": {},
   "source": [
    "## Comparing dictionaries and sets\n",
    "\n",
    "Like sets, dictionaries aren't ordered, and search is very fast:"
   ]
  },
  {
   "cell_type": "code",
   "execution_count": null,
   "metadata": {
    "collapsed": false
   },
   "outputs": [],
   "source": [
    "%%time\n",
    "from nltk.corpus import brown, words\n",
    "\n",
    "corpus = brown.words()\n",
    "# we use a dictionary comprehension to store it as a dictionary\n",
    "wordlist = {word: word for word in words.words()}\n",
    "\n",
    "def spellcheck(text, wordlist):\n",
    "    \"\"\"Compute list of misspelled words and their positions\"\"\"\n",
    "    return [[text[n], n] for n in range(len(text))\n",
    "            if wordlist.get(text[n])]\n",
    "\n",
    "\n",
    "spellcheck(corpus, wordlist)"
   ]
  },
  {
   "cell_type": "markdown",
   "metadata": {},
   "source": [
    "The code above takes approximately as much time as the one using a set for `wordlist`.\n",
    "That's because a set is essentially a dictionary where each value is also its own key."
   ]
  },
  {
   "cell_type": "code",
   "execution_count": null,
   "metadata": {
    "collapsed": true
   },
   "outputs": [],
   "source": [
    "# a set\n",
    "some_set = {\"a\", \"b\", \"c\"}\n",
    "# the corresponding dictionary\n",
    "some_dict = {\"a\": \"a\", \"b\": \"b\", \"c\": \"c\"}"
   ]
  },
  {
   "cell_type": "markdown",
   "metadata": {},
   "source": [
    "Don't take this metaphor too literally, sets aren't just a shorthand for defining dictionaries.\n",
    "Any identity tests will fail because sets and dictionaries are still data structures with different types.\n",
    "And they provide different methods (for instance, `.get` doesn't work with sets)."
   ]
  },
  {
   "cell_type": "code",
   "execution_count": null,
   "metadata": {
    "collapsed": false
   },
   "outputs": [],
   "source": [
    "# a set\n",
    "some_set = {\"a\", \"b\", \"c\"}\n",
    "# the corresponding dictionary\n",
    "some_dict = {\"a\": \"a\", \"b\": \"b\", \"c\": \"c\"}\n",
    "\n",
    "print(\"Sets and dictionaries are the same?\", some_set == some_dict)\n",
    "print(\"Type of set:\", type(some_set))\n",
    "print(\"Type of dictionary:\", type(some_dict))"
   ]
  },
  {
   "cell_type": "code",
   "execution_count": null,
   "metadata": {
    "collapsed": false
   },
   "outputs": [],
   "source": [
    "print(some_dict.get(\"a\"))\n",
    "print(some_set.get(\"b\"))"
   ]
  },
  {
   "cell_type": "markdown",
   "metadata": {},
   "source": [
    "So why would one ever use a set instead of a dictionary?\n",
    "For limited cases, sets are easier to use.\n",
    "They can be defined directly from a list, and they behave like a list for membership tests (`in`, `not in`).\n",
    "They are also slightly more efficient than dictionaries.\n",
    "Whenever you need more speed than what a list provides, both sets and dictionaries are plausible candidates.\n",
    "But if you have no need for keeping keys and values distinct, or for retrieving a specific element, then a dictionary offers no advantages over a set and is a bit clunkier to work with."
   ]
  },
  {
   "cell_type": "markdown",
   "metadata": {},
   "source": [
    "## Comparing dictionaries and counters\n",
    "\n",
    "Dictionaries and counters are very similar.\n",
    "That's because the latter is a dictionary with additional tweaks for the specialized purpose of counting.\n",
    "\n",
    "- Both dictionaries and counters use the key, value format.\n",
    "- Both dictionaries and counters allow the use of `[key]` and `.get(key)` for retrieving values.\n",
    "- Only counters provide the `.most_common` method.\n",
    "- Only counters can be defined from a list of single values.\n",
    "\n",
    "Let us look at the last point in detail:"
   ]
  },
  {
   "cell_type": "code",
   "execution_count": null,
   "metadata": {
    "collapsed": true
   },
   "outputs": [],
   "source": [
    "from collections import Counter\n",
    "some_list = [\"a\", \"b\", \"b\", \"c\", \"c\", \"c\"]\n",
    "# construct counter: succeeds\n",
    "counts = Counter(some_list)\n",
    "print(counts)"
   ]
  },
  {
   "cell_type": "code",
   "execution_count": null,
   "metadata": {
    "collapsed": true
   },
   "outputs": [],
   "source": [
    "some_list = [\"a\", \"b\", \"b\", \"c\", \"c\", \"c\"]\n",
    "# construct dictionary: fails\n",
    "counts = dict(some_list)\n",
    "print(counts)"
   ]
  },
  {
   "cell_type": "markdown",
   "metadata": {},
   "source": [
    "The error message in the code cell above might seem a bit cryptic to you.\n",
    "What it is saying is that there actually is a way to define a dictionary from a list, but it doesn't work for `some_list` above.\n",
    "Instead, we need to provide a list of key-value pairs."
   ]
  },
  {
   "cell_type": "code",
   "execution_count": null,
   "metadata": {
    "collapsed": false
   },
   "outputs": [],
   "source": [
    "some_list = [[\"a\", 1], [\"b\", 2], [\"c\", 3]]\n",
    "# construct dictionary: fails\n",
    "counts = dict(some_list)\n",
    "print(counts)"
   ]
  },
  {
   "cell_type": "markdown",
   "metadata": {},
   "source": [
    "When printed, this dictionary will look exactly like the counter.\n",
    "But the two are still distinct data types.\n",
    "For one thing, only the counter provides the `most_common` method."
   ]
  },
  {
   "cell_type": "code",
   "execution_count": null,
   "metadata": {
    "collapsed": false
   },
   "outputs": [],
   "source": [
    "from collections import Counter\n",
    "\n",
    "value_list = [\"a\", \"b\", \"b\", \"c\", \"c\", \"c\"]\n",
    "keyvalue_list = [[\"a\", 1], [\"b\", 2], [\"c\", 3]]\n",
    "\n",
    "# construct counter and dictionary\n",
    "counts_counter = Counter(value_list)\n",
    "counts_dict = dict(keyvalue_list)\n",
    "\n",
    "print(counts_counter.most_common(1))\n",
    "print(counts_dict.most_common(1))"
   ]
  },
  {
   "cell_type": "markdown",
   "metadata": {},
   "source": [
    "They also have different types: dictionaries are of type `dict`, whereas counters are of type `collections.Counter`."
   ]
  },
  {
   "cell_type": "code",
   "execution_count": null,
   "metadata": {
    "collapsed": false
   },
   "outputs": [],
   "source": [
    "print(type(counts_counter))\n",
    "print(type(counts_dict))"
   ]
  },
  {
   "cell_type": "markdown",
   "metadata": {},
   "source": [
    "Finally, counters behave more gracefully when you're trying to get the value for a key that does not exist."
   ]
  },
  {
   "cell_type": "code",
   "execution_count": null,
   "metadata": {
    "collapsed": false
   },
   "outputs": [],
   "source": [
    "from collections import Counter\n",
    "\n",
    "value_list = [\"a\", \"b\", \"b\", \"c\", \"c\", \"c\"]\n",
    "keyvalue_list = [[\"a\", 1], [\"b\", 2], [\"c\", 3]]\n",
    "\n",
    "# construct counter and dictionary\n",
    "counts_counter = Counter(value_list)\n",
    "counts_dict = dict(keyvalue_list)\n",
    "\n",
    "print(\"Counter's value for e\", counts_counter[\"e\"])\n",
    "print(\"Dictionary's value for e\", counts_dict[\"e\"])"
   ]
  },
  {
   "cell_type": "markdown",
   "metadata": {},
   "source": [
    "As you can see, the counter returns a count of 0, whereas the dictionary aborts with a key error.\n",
    "This is why you should use the `.get`-method with dictionaries, which returns a default value of `None` instead of crashing the program.\n",
    "With counters, on the other hand, `.get` is less useful because they already return a reasonable default value."
   ]
  },
  {
   "cell_type": "code",
   "execution_count": null,
   "metadata": {
    "collapsed": false
   },
   "outputs": [],
   "source": [
    "from collections import Counter\n",
    "\n",
    "value_list = [\"a\", \"b\", \"b\", \"c\", \"c\", \"c\"]\n",
    "keyvalue_list = [[\"a\", 1], [\"b\", 2], [\"c\", 3]]\n",
    "\n",
    "# construct counter and dictionary\n",
    "counts_counter = Counter(value_list)\n",
    "counts_dict = dict(keyvalue_list)\n",
    "\n",
    "print(\"Counter's value for e\", counts_counter.get(\"e\"))\n",
    "print(\"Dictionary's value for e\", counts_dict.get(\"e\"))"
   ]
  },
  {
   "cell_type": "markdown",
   "metadata": {},
   "source": [
    "In sum, then, counters are a better choice than dictionaries for their specialized purpose of calculating counts from a list of items.\n",
    "Dictionaries are more versatile, but this also means that they cannot be optimized for the specific needs of each application."
   ]
  },
  {
   "cell_type": "markdown",
   "metadata": {},
   "source": [
    "## Interim summary: Overview of data types\n",
    "\n",
    "With all the different options, it's easy to lose track of their capabilities.\n",
    "The table below gives a quick overview of the most important distinctions.\n",
    "\n",
    "|                   | **Integer** | **String** | **List** | **Set** | **Counter**       | **Dictionary**    |\n",
    "| --:               | :-:         | :-:        | :-:      | :-:     | :-:               | :-:               |\n",
    "| Container?        | N           | only char  | Y        | Y       | Y                 | Y                 |\n",
    "| Iterable?         | N           | Y          | Y        | Y       | Y (default: keys) | Y (default: keys) |\n",
    "| Duplicate values? | N           | Y          | Y        | N       | Y                 | Y                 |\n",
    "| Order?            | N           | Y          | Y        | N       | N                 | N                 |\n",
    "| Index?            | N           | Y          | Y        | N       | N                 | N                 |\n",
    "| Fast search?      | N           | N          | N        | Y       | Y                 | Y                 |\n",
    "| `[key]`?          | N           | N          | N        | N       | Y (safe)          | Y (not safe)      |\n",
    "| `.get`?           | N           | N          | N        | N       | Y (disprefered)   | Y (prefered)      |\n",
    "\n",
    "Here's what each property means:\n",
    "\n",
    "- **Container**: Can it contain multiple items?\n",
    "- **Iterable**: Can it be iterated over with a `for`-loop? For dictionaries and counters, `for`-loops by default iterate over keys, not values (with sets, the distinction does not matter). Note that all containers are iterable, and the other way round.\n",
    "- **Duplicate values**: Can a value appear multiple times? Dictionaries, sets, and counters allow duplicate values, but not duplicate keys.\n",
    "- **Order**: Does the data type have an intrinsic order?\n",
    "- **Index**: Can items be retrieved by their index? This presupposes having an intrinsic order, but there are data types that have order but not indices (see the expansion unit on some less common data structures).\n",
    "- **Fast search**: Can items be retrieved quickly even if the data structure is very large? For small data structures (less than a couple thousand entries), this usually does not matter in practice.\n",
    "- **`[key]`**: Can items be retrieved using the `[key]`-notation? This is not recommended for dictionaries because it gives an error if the key does not exist.\n",
    "- **`.get`**: Can items be retrieved using the `.get`-method? This is possible for Counters, but it is rarely needed because they handle non-existing keys more gracefully."
   ]
  },
  {
   "cell_type": "markdown",
   "metadata": {},
   "source": [
    "## Explaining the speed of dictionaries\n",
    "\n",
    "### Hash maps\n",
    "\n",
    "You should now have a better idea of what all the different data structures are and how they differ from each other.\n",
    "But our initial question still remains open: why are sets and dictionaries so much faster than lists when it comes to look-up?\n",
    "The answer lies in the key-value architecture.\n",
    "Remember, a set is essentially a dictionary where each value is its own key.\n",
    "Therefore, sets also follow the key-value architecture even though it is not readily apparent.\n",
    "The key-value architecture allows us to get around major shortcomings of the index-architecture used by lists.\n",
    "\n",
    "In a list, there is no easy way of telling the position of an item.\n",
    "If we want to know if `some_list` contains `foo`, there is no obvious starting point.\n",
    "Just about any index could contain `foo`.\n",
    "We have to go through the list from left to right until we find `foo` (if the list is ordered, there are some shortcuts, but the basic problem remains).\n",
    "This necessarily means looking at many items that are not `foo`, wasting time.\n",
    "The central problem is that there is no direct connection between an item and its position in the list, and thus the only safe option is an exhaustive search.\n",
    "\n",
    "The key-value architecture works very differently.\n",
    "It can be used to define a **hash map**.\n",
    "Without going too much into the math, the hash map provides a mechanism for converting keys to indices.\n",
    "In a loose sense, a dictionary is a list with a function that converts the key to the index of the item in the list.\n",
    "Returning to our previous example, suppose that our item `foo` were accessible under the key `bar`.\n",
    "The dictionary basically takes `bar`, runs it through the hash map to get back some value, say, 17.\n",
    "It then immediately retrieves `some_list[17]`, giving us `foo`.\n",
    "The whole process doesn't really involve any search at all.\n",
    "We never search through `some_list`.\n",
    "Instead, we immediately get the correct index from the hash map and immediately retrieve the desired item from the list.\n",
    "Metaphorically speaking, the hash map is a bit like an address book where we can use an item's key to look up its index.\n",
    "But as all metaphors, this is not quite right because an address book is itself a list, whereas a hash map is more like a system of rules for mechanically transforming a key into an index.\n",
    "Be that as it may, the bottom line is easy: search in dictionaries (and sets and Counters) is fast because it does not involve any actual searching."
   ]
  },
  {
   "cell_type": "markdown",
   "metadata": {},
   "source": [
    "### A limitation of hash maps\n",
    "\n",
    "Hash maps define a way of converting a key to the address where the corresponding value can be found.\n",
    "But since this is a mechanical process that operates solely on the shape of the key, any change to the key would also change the address that is returned by the hash map.\n",
    "\n",
    "Here is a concrete example (again ignoring all the math that's going on under the hood).\n",
    "Suppose we have a dictionary `ex_dict` with a fixed hash map *h*.\n",
    "We want to add the value `\"I'm here\"` to `ex_dict`, and we use the key `bad_choice`.\n",
    "Our key `bad_choice` is a list of the form `[\"a\"]`.\n",
    "Based on this key, *h* computes a specific address for our value `\"I'm here\"`, and Python stores the value at this address in our dictionary `ex_dict`.\n",
    "Let's say this address is 17.\n",
    "Now, whenever we want to get the value for the key `bad_choice`, Python runs the key through the hash map *h*, determines that the output is 17, and returns the value at address 17 in `ex_dict`.\n",
    "So far, so good.\n",
    "\n",
    "But at a later point, we append `\"b\"` to `bad_choice`, so that it now is `[\"a\", \"b\"]` instead of just `[\"a\"]`.\n",
    "The next time we try to get the value for the key `bad_choice`, the hash map *h* returns a different value because the key has changed.\n",
    "Instead of 17, we now get, say, 23.\n",
    "This is because the hash map is a mechnical translation from key shapes to addresses.\n",
    "If the shape of the key changes, so does the address.\n",
    "But now we have the wrong address, and all of a sudden we no longer get our desired value `\"I'm here\"`.\n",
    "Instead, we get whatever is stored at address 23 (which might be nothing at all).\n",
    "Changing the key has broken the whole dictionary.\n",
    "\n",
    "As this example shows, hash maps only work if keys cannot change.\n",
    "This is why Python requires that the keys of a dictionary must be **hashable**.\n",
    "The next notebook will explain in detail what this means.\n",
    "For now, the only hashable data types we know are numbers and strings.\n",
    "So all dictionary keys must be numbers or strings.\n",
    "**Keys cannot be lists, sets, counters, or dictionaries** (however, values are not restricted in this way)."
   ]
  },
  {
   "cell_type": "code",
   "execution_count": null,
   "metadata": {
    "collapsed": false
   },
   "outputs": [],
   "source": [
    "# a working dictionary\n",
    "{\"trigram as string\": .5}"
   ]
  },
  {
   "cell_type": "code",
   "execution_count": null,
   "metadata": {
    "collapsed": false
   },
   "outputs": [],
   "source": [
    "# a broken dictionary\n",
    "{[\"trigram\", \"as\", \"list\"]: .5}"
   ]
  },
  {
   "cell_type": "code",
   "execution_count": null,
   "metadata": {
    "collapsed": false
   },
   "outputs": [],
   "source": [
    "# since values are their own keys in sets,\n",
    "# sets cannot contain unhashable data types\n",
    "{[\"a\", \"bigram\"], [\"another\", \"bigram\"]}"
   ]
  },
  {
   "cell_type": "code",
   "execution_count": null,
   "metadata": {
    "collapsed": false
   },
   "outputs": [],
   "source": [
    "# since sets are not hashable,\n",
    "# sets cannot contain sets either\n",
    "{{\"no\", \"sets\"}, {\"inside\", \"sets\", \"please\"}}"
   ]
  },
  {
   "cell_type": "markdown",
   "metadata": {},
   "source": [
    "## Bullet-point summary\n",
    "\n",
    "- Counters and sets are a subtype of **dictionaries**.\n",
    "- Dictionaries use hash maps to translate a key into the address of its item.\n",
    "  This makes search very fast.\n",
    "- Keys must be hashable.\n",
    "\n",
    "|                   | **Integer** | **String** | **List** | **Set** | **Counter**       | **Dictionary**    |\n",
    "| --:               | :-:         | :-:        | :-:      | :-:     | :-:               | :-:               |\n",
    "| Container?        | N           | only char  | Y        | Y       | Y                 | Y                 |\n",
    "| Iterable?         | N           | Y          | Y        | Y       | Y (default: keys) | Y (default: keys) |\n",
    "| Duplicate values? | N           | Y          | Y        | N       | Y                 | Y                 |\n",
    "| Order?            | N           | Y          | Y        | N       | N                 | N                 |\n",
    "| Index?            | N           | Y          | Y        | N       | N                 | N                 |\n",
    "| Fast search?      | N           | N          | N        | Y       | Y                 | Y                 |\n",
    "| `[key]`?          | N           | N          | N        | N       | Y (safe)          | Y (not safe)      |\n",
    "| `.get`?           | N           | N          | N        | N       | Y (disprefered)   | Y (prefered)      |\n",
    "| Hashable?         | Y           | Y          | N        | N       | N                 | N                 |"
   ]
  }
 ],
 "metadata": {
  "kernelspec": {
   "display_name": "Python 3",
   "language": "python",
   "name": "python3"
  },
  "language_info": {
   "codemirror_mode": {
    "name": "ipython",
    "version": 3
   },
   "file_extension": ".py",
   "mimetype": "text/x-python",
   "name": "python",
   "nbconvert_exporter": "python",
   "pygments_lexer": "ipython3",
   "version": "3.5.3"
  }
 },
 "nbformat": 4,
 "nbformat_minor": 2
}
