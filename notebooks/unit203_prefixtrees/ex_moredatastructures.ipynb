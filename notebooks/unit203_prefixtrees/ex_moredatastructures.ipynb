{
 "cells": [
  {
   "cell_type": "markdown",
   "metadata": {},
   "source": [
    "# Less common data structures\n",
    "\n",
    "There's a myriad of data structures, each one of them with its unique advantages and drawbacks.\n",
    "As a beginning programmer, you will rarely need more than the Python data structures covered so far: lists, tuples, dictionaries, sets, and Counters.\n",
    "\n",
    "But sometimes, another data structure might make your life quite a bit easier.\n",
    "This extension unit covers three fairly simple ones: ordered dictionaries, frozen sets, and default dictionaries."
   ]
  },
  {
   "cell_type": "markdown",
   "metadata": {},
   "source": [
    "## Ordered dictionaries\n",
    "\n",
    "Dictionaries have no intrinsic order.\n",
    "But sometimes it is useful to be aware of the order in which items are added to a dictionary.\n",
    "A concrete example of that is one of your previous assignments, where you had to present the user with a list of their wrong guesses, in exactly the order they made them.\n",
    "This was probably a little tricky to do with just lists and Counters.\n",
    "Python's `OrderedDict` would have made your life quite a bit easier.\n",
    "Just check out this toy example:"
   ]
  },
  {
   "cell_type": "code",
   "execution_count": null,
   "metadata": {
    "collapsed": false
   },
   "outputs": [],
   "source": [
    "from collections import OrderedDict\n",
    "\n",
    "# let's assume the user will make the following guesses\n",
    "future_guesses = [\"eggs\", \"piano\", \"eggs\", \"tree\", \"aardvark\", \"eggs\"]\n",
    "\n",
    "# let's collect the guesses in an ordered dictionary\n",
    "record = OrderedDict()\n",
    "for guess in future_guesses:\n",
    "    if guess not in record:\n",
    "        record[guess] = 1\n",
    "    else:\n",
    "        record[guess] += 1\n",
    "        \n",
    "# and now let's show the user their guesses, plus how often they made them\n",
    "print(\"Your guesses were\", list(record.keys()))\n",
    "for guess, count in record.items():\n",
    "    print(\"You guessed\", guess, count, \"times\")"
   ]
  },
  {
   "cell_type": "markdown",
   "metadata": {},
   "source": [
    "Notice how the order of printed guesses exactly matches that of the user's guesses.\n",
    "With a normal dictionary, the order can vary arbitrarily."
   ]
  },
  {
   "cell_type": "code",
   "execution_count": null,
   "metadata": {
    "collapsed": false
   },
   "outputs": [],
   "source": [
    "# let's assume the user will make the following guesses\n",
    "future_guesses = [\"eggs\", \"piano\", \"eggs\", \"tree\", \"aardvark\", \"eggs\"]\n",
    "\n",
    "# let's collect the guesses in a normal dictionary\n",
    "record = {}\n",
    "for guess in future_guesses:\n",
    "    if guess not in record:\n",
    "        record[guess] = 1\n",
    "    else:\n",
    "        record[guess] += 1\n",
    "        \n",
    "# and now let's show the user their guesses, plus how often they made them\n",
    "print(\"Your guesses were\", list(record.keys()))\n",
    "for guess, count in record.items():\n",
    "    print(\"You guessed\", guess, count, \"times\")"
   ]
  },
  {
   "cell_type": "markdown",
   "metadata": {},
   "source": [
    "So whenever you need the key-value architecture, but also want to keep track of the order in which items are added to a dictionary, use `OrderedDict` from the `collections` library."
   ]
  },
  {
   "cell_type": "markdown",
   "metadata": {},
   "source": [
    "# Immutable sets: `frozensets`\n",
    "\n",
    "Lists have tuples as their immutable counterpart.\n",
    "This makes it possible to use something list-like as the keys for a dictionary.\n",
    "But that means that two keys will be distinct if they differ in order or numerosity."
   ]
  },
  {
   "cell_type": "code",
   "execution_count": null,
   "metadata": {
    "collapsed": false
   },
   "outputs": [],
   "source": [
    "test = {}\n",
    "test[(\"a\", \"b\")] = 1\n",
    "test[(\"b\", \"a\")] = 2\n",
    "test[(\"a\", \"a\", \"b\")] = 3\n",
    "\n",
    "for k, v in test.items():\n",
    "    print(k, v)"
   ]
  },
  {
   "cell_type": "markdown",
   "metadata": {},
   "source": [
    "Sometimes, though, we may not want these distinctions.\n",
    "For instance, we might be interested how often *Trump* and *Twitter* show up in a bigram, irrespective of their order.\n",
    "In that case, we do not want separate counts for `(\"Trump\", \"Twitter\")` and `(\"Twitter\", \"Trump\")`.\n",
    "Instead, the counts of the two should be added up.\n",
    "This would happen naturally if we used sets instead of tuples, because then the key `{\"Trump\", \"Twitter\"}` is the same as the key `{\"Twitter\", \"Trump\"}`.\n",
    "But sets are mutable, and consequently they aren't hashable and cannot be used as keys.\n",
    "\n",
    "For special cases like this, `frozenset` can be used to create immutable sets."
   ]
  },
  {
   "cell_type": "code",
   "execution_count": null,
   "metadata": {
    "collapsed": false
   },
   "outputs": [],
   "source": [
    "# this crashes because sets cannot be keys in Counters\n",
    "from collections import Counter\n",
    "\n",
    "\n",
    "def text_to_bigram_sets(text):\n",
    "    \"\"\"Convert a text (list of strings) to bigrams.\"\"\"\n",
    "    return [set(text[n:n+2]) for n in range(len(text) - 1)]\n",
    "\n",
    "\n",
    "bg_list = text_to_bigram_sets([\"A\", \"simple\", \"example\", \"is\", \"an\", \"example\", \"simple\", \"in\", \"French\"])\n",
    "print(Counter(bg_list))"
   ]
  },
  {
   "cell_type": "code",
   "execution_count": null,
   "metadata": {
    "collapsed": false
   },
   "outputs": [],
   "source": [
    "# this works because frozensets are immutable and thus hashable\n",
    "from collections import Counter\n",
    "\n",
    "\n",
    "def text_to_bigram_sets(text):\n",
    "    \"\"\"Convert a text (list of strings) to bigrams.\"\"\"\n",
    "    return [frozenset(text[n:n+2]) for n in range(len(text) - 1)]\n",
    "\n",
    "\n",
    "bg_list = text_to_bigram_sets([\"A\", \"simple\", \"example\", \"is\", \"an\", \"example\", \"simple\", \"in\", \"French\"])\n",
    "print(Counter(bg_list))"
   ]
  },
  {
   "cell_type": "markdown",
   "metadata": {},
   "source": [
    "Notice how the counts for *simple example* and *example simple* were added together because they are the same frozen set."
   ]
  },
  {
   "cell_type": "markdown",
   "metadata": {},
   "source": [
    "## Default dictionaries\n",
    "\n",
    "As you know, dictionaries don't respond well if we want to get the value of a key that doesn't exist."
   ]
  },
  {
   "cell_type": "code",
   "execution_count": null,
   "metadata": {
    "collapsed": false
   },
   "outputs": [],
   "source": [
    "test = {\"a\": 5}\n",
    "print(test[\"b\"])"
   ]
  },
  {
   "cell_type": "markdown",
   "metadata": {},
   "source": [
    "We can use the `.get` method instead to avoid a `KeyError`.\n",
    "For keys that aren't in the dictionary, we simply get `None` as the default value.\n",
    "This is a special value that does not do anything."
   ]
  },
  {
   "cell_type": "code",
   "execution_count": null,
   "metadata": {
    "collapsed": false
   },
   "outputs": [],
   "source": [
    "test = {\"a\": 5}\n",
    "print(test.get(\"b\"))"
   ]
  },
  {
   "cell_type": "markdown",
   "metadata": {},
   "source": [
    "At least sometimes, though, it would be nice if we could tell Python that if we're asking for the value of a key that does not exist, the key should be added to the dictionary with a default value.\n",
    "This is exactly what the `collections` library's `defaultdict` allows us to do (please don't ask why `Counter` and `OrderedDict` are titlecase but `defaultdict` is all lowercase, I don't think anybody knows)."
   ]
  },
  {
   "cell_type": "code",
   "execution_count": null,
   "metadata": {
    "collapsed": false
   },
   "outputs": [],
   "source": [
    "from collections import defaultdict\n",
    "\n",
    "\n",
    "def defaultvalue():\n",
    "    return \"added as default\"\n",
    "\n",
    "\n",
    "# instantiate a default dictionary,\n",
    "# using defaultvalue for unspecified values\n",
    "test = defaultdict(defaultvalue)\n",
    "# add a with specific value\n",
    "test[\"a\"] = 5\n",
    "# add b with default\n",
    "test[\"b\"]\n",
    "\n",
    "print(test)"
   ]
  },
  {
   "cell_type": "markdown",
   "metadata": {},
   "source": [
    "Here we define a function `defaultvalue` that will act as the **factory** for the default values.\n",
    "If we request the value for a key that isn't in the list yet, the return value of the factory is set as the value of this key.\n",
    "\n",
    "A less obvious usage invokes `list` as the factory."
   ]
  },
  {
   "cell_type": "code",
   "execution_count": null,
   "metadata": {
    "collapsed": false
   },
   "outputs": [],
   "source": [
    "from collections import defaultdict\n",
    "\n",
    "test = defaultdict(list)\n",
    "words = [\"some\", \"keys\", \"for\", \"testing\"]\n",
    "for pos in range(len(words)):\n",
    "    key = words[pos]\n",
    "    for _ in range(pos + 1):  # we use _ to indicate that the variable is not used anywhere\n",
    "        test[key].append(key.upper())\n",
    "    \n",
    "print(test)"
   ]
  },
  {
   "cell_type": "markdown",
   "metadata": {},
   "source": [
    "By using `list` as the generator for default values, the default value becomes the empty list `[]`.\n",
    "So when we invoke, say, `test[\"some\"]` for the first time, it is immediately set to `[]` because it has no value yet.\n",
    "But since the first time we encounter this is as part of `test[\"some\"].append(\"some\".upper())`, we immediately append `\"some\".upper()` (i.e. `\"SOME\"`) to `[]`.\n",
    "Hence a single command immediately sets the value for `\"some\"` to `[\"SOME\"]`.\n",
    "With `\"some\"`, we append only one time.\n",
    "With the later words, the number of append steps reflect their position in the list `words`.\n",
    "Hence `\"keys\"` is appended twice, first to `[]`, then to `[\"KEYS\"]`.\n",
    "We append three times for `\"for\"`, and four times for `\"testing\"`."
   ]
  },
  {
   "cell_type": "markdown",
   "metadata": {},
   "source": [
    "We could also use `int` to create a poor man's Counter.\n",
    "With `int` as the factory, the default value is 0."
   ]
  },
  {
   "cell_type": "code",
   "execution_count": null,
   "metadata": {
    "collapsed": false
   },
   "outputs": [],
   "source": [
    "from collections import defaultdict\n",
    "from nltk.corpus import brown\n",
    "\n",
    "words = brown.words()\n",
    "counts = defaultdict(int)\n",
    "\n",
    "for word in words:\n",
    "    counts[word] += 1\n",
    "    \n",
    "print(counts[\"the\"])"
   ]
  },
  {
   "cell_type": "markdown",
   "metadata": {},
   "source": [
    "This code is more straight-forward than the alternative with a dictionary (but of course a Counter would still be the easiest and also most powerful choice for counting)."
   ]
  },
  {
   "cell_type": "code",
   "execution_count": null,
   "metadata": {
    "collapsed": false
   },
   "outputs": [],
   "source": [
    "from nltk.corpus import brown\n",
    "\n",
    "words = brown.words()\n",
    "counts = {}\n",
    "\n",
    "for word in words:\n",
    "    if counts.get(word):\n",
    "        counts[word] += 1\n",
    "    else:\n",
    "        counts[word] = 1\n",
    "    \n",
    "print(counts[\"the\"])"
   ]
  },
  {
   "cell_type": "markdown",
   "metadata": {},
   "source": [
    "As a final example, consider how we can use a default dictionary to simplify the translation from an n-gram counter to a prefix tree."
   ]
  },
  {
   "cell_type": "code",
   "execution_count": null,
   "metadata": {
    "collapsed": false
   },
   "outputs": [],
   "source": [
    "from collections import defaultdict\n",
    "\n",
    "\n",
    "def default_prefixtree():\n",
    "    return defaultdict(default_prefixtree)\n",
    "\n",
    "\n",
    "def ngramcounter_to_prefixtree(counter):\n",
    "    \"\"\"Convert counter with n-gram frequencies to prefix tree.\"\"\"\n",
    "    tree = defaultdict(default_prefixtree)\n",
    "    for ngram, freq in counter.items(): \n",
    "        current_subtree = tree\n",
    "        for word in ngram:\n",
    "            current_subtree = current_subtree[word]\n",
    "        current_subtree[\"freq\"] = freq\n",
    "    return tree\n",
    "\n",
    "\n",
    "example_counts = {(\"the\", \"old\", \"man\"): 0.1,\n",
    "                  (\"the\", \"old\", \"woman\"): 0.2,\n",
    "                  (\"the\", \"ugly\", \"man\"): 0.3}\n",
    "ngramcounter_to_prefixtree(example_counts)"
   ]
  },
  {
   "cell_type": "markdown",
   "metadata": {},
   "source": [
    "This code is quite a bit shorter.\n",
    "The essential trick is the `default_prefixtree` function, which sets the default value to be an empty default dictionary whose default value is an empty default dictionary whose default value is an empty default dictionary, and so on.\n",
    "It wouldn't be enough to just create an empty dictionary by default, because then the dictionaries that are created as default values wouldn't have a default value of their own.\n",
    "We have to keep passing along the default value, and that's exactly what `default_prefixtree` does by mentioning itself in the `return` value.\n",
    "\n",
    "Thanks to `default_prefixtree`, we can remove the whole `if`-test from the conversion function.\n",
    "Now it no longer matters if the key already exists or not.\n",
    "If it does, we retrieve it as usual, it it doesn't we add the key with a default dictionary as its value."
   ]
  },
  {
   "cell_type": "markdown",
   "metadata": {},
   "source": [
    "## Bullet-point summary\n",
    "\n",
    "- If you need a dictionary that keeps track of the order in which key-value pairs are added, use `OrderedDict`.\n",
    "- The immutable counterpart of `set` is `frozenset`.\n",
    "  Frozen sets can be used as keys.\n",
    "- Default dictionaries automatically assign a default value to a key if the key does not exist.\n",
    "  You have to specify the **factory** of the default value.\n",
    "  It can be a custom function, `list` (default: `[]`, or `int` (default: `0`).\n",
    "\n",
    "```python\n",
    "from collections import OrderedDict, defaultdict\n",
    "# frozensets are built-in and do not need to be loaded\n",
    "```"
   ]
  }
 ],
 "metadata": {
  "kernelspec": {
   "display_name": "Python 3",
   "language": "python",
   "name": "python3"
  },
  "language_info": {
   "codemirror_mode": {
    "name": "ipython",
    "version": 3
   },
   "file_extension": ".py",
   "mimetype": "text/x-python",
   "name": "python",
   "nbconvert_exporter": "python",
   "pygments_lexer": "ipython3",
   "version": "3.5.3"
  }
 },
 "nbformat": 4,
 "nbformat_minor": 2
}
