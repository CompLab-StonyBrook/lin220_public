{
 "cells": [
  {
   "cell_type": "markdown",
   "metadata": {},
   "source": [
    "# Sanity checking user input with `__init__`\n",
    "\n",
    "The last unit concluded with a simple Python implementation of finite-state automata.\n",
    "The code is repeated here (with shortened docstrings, for the sake of succinctness)."
   ]
  },
  {
   "cell_type": "code",
   "execution_count": null,
   "metadata": {},
   "outputs": [],
   "source": [
    "class fsa:\n",
    "    def __init__(self, initial=0, final=set(), transitions={}):\n",
    "        \"\"\"Class for finite-state automata.\n",
    "        \n",
    "        The transitions must be a dictionary of the form\n",
    "        {current_state: {arc_label: new_state}}.\n",
    "        \"\"\"\n",
    "        self.I = initial\n",
    "        self.F = final\n",
    "        self.T = transitions\n",
    "        \n",
    "\n",
    "    def accepts(self, sentence):\n",
    "        \"\"\"Test if FSA accepts sentence.\"\"\"\n",
    "        # set current state to initial state\n",
    "        cs = self.I\n",
    "        # iterate over sentence and follow along in automaton\n",
    "        for word in sentence:\n",
    "            cs = self.T.get(cs, {}).get(word)\n",
    "            if cs is None:\n",
    "                return False\n",
    "        # did we make it to a final state?\n",
    "        return True if cs in self.F else False"
   ]
  },
  {
   "cell_type": "markdown",
   "metadata": {},
   "source": [
    "One downside to this implementation is that transitions must be passed in as a dictionary.\n",
    "Don't get me wrong, we definitely want to **store** the transitions as a dictionary, it makes them very easy to work with.\n",
    "But dictionaries aren't the best way to **specify** the transitions.\n",
    "They are tedious to type, there's a lot of braces, commas, colons, and quotations that need to go in the right place.\n",
    "Manually writing a dictionary is likely to lead to errors.\n",
    "At the very least, our code should allow for an easier alternative."
   ]
  },
  {
   "cell_type": "markdown",
   "metadata": {},
   "source": [
    "## Specifying transitions as triples\n",
    "\n",
    "Remember that the mathematical definition of an FSA states that the automaton's collection of transitions is a set of triples.\n",
    "Each triple specifies\n",
    "\n",
    "1. the state where the transition arc starts (the source), and\n",
    "1. the label of the transition arc, and\n",
    "1. the state the transition arc leads to (the target or goal).\n",
    "\n",
    "We can expand our `fsa` class with a helper function `update` whose job it is to add such triples to the transitions dictionary."
   ]
  },
  {
   "cell_type": "code",
   "execution_count": null,
   "metadata": {},
   "outputs": [],
   "source": [
    "class fsa:\n",
    "    def __init__(self, initial=0, final=set(), transitions={}):\n",
    "        \"\"\"Class for finite-state automata.\n",
    "        \n",
    "        The transitions must be\n",
    "        1) a dictionary of the form\n",
    "        {current_state: {arc_label: new_state}},\n",
    "        or\n",
    "        2) a list of tuples of the form\n",
    "        (source, label, goal).\n",
    "        \"\"\"\n",
    "        self.I = initial\n",
    "        self.F = final\n",
    "        # process transitions based on its type\n",
    "        if isinstance(transitions, dict):\n",
    "            # transitions is a dictionary, use as is\n",
    "            self.T = transitions\n",
    "        else:\n",
    "            self. T = {}\n",
    "            for t in transitions:\n",
    "                self.update(t)\n",
    "        \n",
    "\n",
    "    def update(self, trans):\n",
    "        \"\"\"Add (source, label, goal) triples to transitions dictionary.\"\"\"\n",
    "        source, goal, label = trans\n",
    "        self.T[source] = self.T.get(source, {})\n",
    "        self.T[source][label] = goal\n",
    "            \n",
    "\n",
    "    def accepts(self, sentence):\n",
    "        \"\"\"Test if FSA accepts sentence.\"\"\"\n",
    "        # set current state to initial state\n",
    "        cs = self.I\n",
    "        # iterate over sentence and follow along in automaton\n",
    "        for word in sentence:\n",
    "            cs = self.T.get(cs, {}).get(word)\n",
    "            if cs is None:\n",
    "                return False\n",
    "        # did we make it to a final state?\n",
    "        return True if cs in self.F else False"
   ]
  },
  {
   "cell_type": "markdown",
   "metadata": {},
   "source": [
    "This code expands `__init__` so that it first checks the type of `transitions`.\n",
    "If it is a dictionary, it gets used as the value for `self.T` as is.\n",
    "Otherwise, the helper method `update` is called on each member of `transitions`.\n",
    "This makes it possible for the user to pass in transitions as a list of triples."
   ]
  },
  {
   "cell_type": "code",
   "execution_count": null,
   "metadata": {},
   "outputs": [],
   "source": [
    "from pprint import pprint\n",
    "\n",
    "trans = [(0, \"Adrian\", 1),\n",
    "         (1, \"Rocky\", 0)]\n",
    "movie_quote = fsa(initial=0, final={0, 1}, transitions=trans)\n",
    "\n",
    "pprint(movie_quote.T, width=1)"
   ]
  },
  {
   "cell_type": "markdown",
   "metadata": {},
   "source": [
    "In fact, a set would have worked just as well."
   ]
  },
  {
   "cell_type": "code",
   "execution_count": null,
   "metadata": {},
   "outputs": [],
   "source": [
    "from pprint import pprint\n",
    "\n",
    "trans = {(0, \"Adrian\", 1),\n",
    "         (1, \"Rocky\", 0)}\n",
    "movie_quote = fsa(initial=0, final={0, 1}, transitions=trans)\n",
    "\n",
    "pprint(movie_quote.T, width=1)"
   ]
  },
  {
   "cell_type": "markdown",
   "metadata": {},
   "source": [
    "Ironically, a dictionary with the transition triples as keys would also work, but does not do what we want."
   ]
  },
  {
   "cell_type": "code",
   "execution_count": null,
   "metadata": {},
   "outputs": [],
   "source": [
    "from pprint import pprint\n",
    "\n",
    "trans = {(0, \"Adrian\", 1): \"irrelevant\",\n",
    "         (1, \"Rocky\", 0): \"irrelevant\"}\n",
    "movie_quote = fsa(initial=0, final={0, 1}, transitions=trans)\n",
    "\n",
    "pprint(movie_quote.T, width=1)"
   ]
  },
  {
   "cell_type": "markdown",
   "metadata": {},
   "source": [
    "That's because `isinstance(trans, dict)` holds in this case, so `trans` is passed through without being processed by the `update` method.\n",
    "This shows that our sanity checks still let through quite a bit of crud."
   ]
  },
  {
   "cell_type": "markdown",
   "metadata": {},
   "source": [
    "## Tightening the checks\n",
    "\n",
    "One radical solution to the problem with the previous example is to remove the passthrough clause for dictionaries.\n",
    "Then the user can only use containers of tuples to specify the automaton's transitions.\n",
    "The cell below shows the relevant fragment of the `fsa` class with these modifications."
   ]
  },
  {
   "cell_type": "code",
   "execution_count": null,
   "metadata": {},
   "outputs": [],
   "source": [
    "class fsa:\n",
    "    def __init__(self, initial=0, final=set(), transitions={}):\n",
    "        \"\"\"Class for finite-state automata.\n",
    "        \n",
    "        The transitions must be a list of tuples of the form\n",
    "        (source, label, goal).\n",
    "        \"\"\"\n",
    "        self.I = initial\n",
    "        self.F = final\n",
    "        # process transitions into dictionary\n",
    "        self. T = {}\n",
    "        for t in transitions:\n",
    "            self.update(t)\n",
    "        \n",
    "\n",
    "    def update(self, trans):\n",
    "        \"\"\"Add (source, label, goal) triples to transitions dictionary.\"\"\"\n",
    "        source, goal, label = trans\n",
    "        self.T[source] = self.T.get(source, {})\n",
    "        self.T[source][label] = goal"
   ]
  },
  {
   "cell_type": "markdown",
   "metadata": {},
   "source": [
    "However, this actually widens how transitions can be specified.\n",
    "Just consider our weird dictionary example from before."
   ]
  },
  {
   "cell_type": "code",
   "execution_count": null,
   "metadata": {},
   "outputs": [],
   "source": [
    "from pprint import pprint\n",
    "\n",
    "trans = {(0, \"Adrian\", 1): \"irrelevant\",\n",
    "         (1, \"Rocky\", 0): \"irrelevant\"}\n",
    "movie_quote = fsa(initial=0, final={0, 1}, transitions=trans)\n",
    "\n",
    "pprint(movie_quote.T, width=1)"
   ]
  },
  {
   "cell_type": "markdown",
   "metadata": {},
   "source": [
    "Paradoxically, this now produces the correct kind of dictionary.\n",
    "That's because we no longer check the type of `transitions`.\n",
    "As long as it is iterable, the `for`-loop will pass each argment into the `.update` method.\n",
    "In the case of a dictionary, `for` iterates over the keys by default.\n",
    "So instead of limiting the input to sets or lists of tuples, we've allowed even more stuff.\n",
    "\n",
    "That's not necessarily a bad thing.\n",
    "As long as what gets fed into `update` is a triple of the right kind, it doesn't really matter what container those triples came in.\n",
    "But without further checks this can still produce some unexpected problems, as the next code snippet illustrates."
   ]
  },
  {
   "cell_type": "code",
   "execution_count": null,
   "metadata": {},
   "outputs": [],
   "source": [
    "from pprint import pprint\n",
    "\n",
    "movie_quote = fsa(initial=0, final={0, 1}, transitions=(0, \"Adrian\", 1))\n",
    "\n",
    "pprint(movie_quote.T, width=1)"
   ]
  },
  {
   "cell_type": "markdown",
   "metadata": {},
   "source": [
    "This input crashes the whole program!\n",
    "That's because we passed in a single transition without a container.\n",
    "But transitions, by virtue of being containers, are iterable, so the `for`-loop passes each component of the transition into `update`.\n",
    "Instead of a triple, `update` now receives only the first component of the triple.\n",
    "But the line `source, goal, label = trans` presupposes the presence of a triple, causing the code to crash."
   ]
  },
  {
   "cell_type": "markdown",
   "metadata": {},
   "source": [
    "Perhaps even more deviously, the lack of checks allows some inputs to pass that really shouldn't.\n",
    "Whenever each component of a transition triple can be decomposed into three smaller units, `update` won't complain, but we'll get a completely nonsensical automaton."
   ]
  },
  {
   "cell_type": "code",
   "execution_count": null,
   "metadata": {},
   "outputs": [],
   "source": [
    "from pprint import pprint\n",
    "\n",
    "movie_quote = fsa(initial=0, final={0, 1}, transitions=(\"say\", \"Bob\", \"end\"))\n",
    "\n",
    "pprint(movie_quote.T, width=1)"
   ]
  },
  {
   "cell_type": "markdown",
   "metadata": {},
   "source": [
    "This shows just how devious the effects of faulty input can be.\n",
    "So let's add some basic checks to make sure that such cases of insanity are avoided.\n",
    "Since we only care about the shape of the transition triples, we'll put all these checks into the `update` method."
   ]
  },
  {
   "cell_type": "code",
   "execution_count": null,
   "metadata": {},
   "outputs": [],
   "source": [
    "class fsa:\n",
    "    def __init__(self, initial=0, final=set(), transitions={}):\n",
    "        \"\"\"Class for finite-state automata.\n",
    "        \n",
    "        The transitions must be a list of tuples of the form\n",
    "        (source, label, goal).\n",
    "        \"\"\"\n",
    "        self.I = initial\n",
    "        self.F = final\n",
    "        # process transitions into dictionary\n",
    "        self. T = {}\n",
    "        for t in transitions:\n",
    "            self.update(t)\n",
    "        \n",
    "\n",
    "    def update(self, trans):\n",
    "        \"\"\"Add (source, label, goal) triples to transitions dictionary.\"\"\"\n",
    "        if isinstance(trans, tuple) and len(trans) == 3:\n",
    "            source, goal, label = trans\n",
    "            self.T[source] = self.T.get(source, {})\n",
    "            self.T[source][label] = goal\n",
    "        else:\n",
    "            print(f\"Warning: {trans} is not a valid transition triple!\")\n",
    "            print(\"Skipping processing...\")"
   ]
  },
  {
   "cell_type": "markdown",
   "metadata": {},
   "source": [
    "This will still gobble up the odd dictionary specification, but will choke in the previous case where just a single  transition was passed in without a container."
   ]
  },
  {
   "cell_type": "code",
   "execution_count": null,
   "metadata": {},
   "outputs": [],
   "source": [
    "from pprint import pprint\n",
    "\n",
    "trans = {(0, \"Adrian\", 1): \"irrelevant\",\n",
    "         (1, \"Rocky\", 0): \"irrelevant\"}\n",
    "movie_quote = fsa(initial=0, final={0, 1}, transitions=trans)\n",
    "\n",
    "pprint(movie_quote.T, width=1)"
   ]
  },
  {
   "cell_type": "code",
   "execution_count": null,
   "metadata": {},
   "outputs": [],
   "source": [
    "from pprint import pprint\n",
    "\n",
    "movie_quote = fsa(initial=0, final={0, 1}, transitions=(\"say\", \"Bob\", \"end\"))\n",
    "\n",
    "pprint(movie_quote.T, width=1)"
   ]
  },
  {
   "cell_type": "markdown",
   "metadata": {},
   "source": [
    "## Stopping execution with `assert`\n",
    "\n",
    "The solution above works well enough as long as there actually is somebody sitting in front of the screen who reads our warning messages.\n",
    "But we can't always rely on that.\n",
    "Sometimes, it's better to say \"Damn it, to much has already gone wrong here, abort! I repeat, abort!\".\n",
    "That's what Python's `assert` command is for.\n",
    "\n",
    "This command is very easy to use:\n",
    "\n",
    "```python\n",
    "# abort if some_boolean is False\n",
    "assert some_boolean\n",
    "```\n",
    "\n",
    "This will cause Python to stop the program is `some_boolean` is not `True`.\n",
    "We may optionally add an error message.\n",
    "\n",
    "```python\n",
    "# abort if some_boolean is False\n",
    "assert some_boolean, \"some error message\"\n",
    "```\n",
    "\n",
    "Here's a concrete example:"
   ]
  },
  {
   "cell_type": "code",
   "execution_count": null,
   "metadata": {},
   "outputs": [],
   "source": [
    "assert 4 == 5, \"4 does not equal 5\""
   ]
  },
  {
   "cell_type": "markdown",
   "metadata": {},
   "source": [
    "By converting our `if` test in `update` to a sequence of `assert` statements, we enforce an explicit abortion point in the code: if `update` gets some input that can't possibly be a transition triple, stop processing."
   ]
  },
  {
   "cell_type": "code",
   "execution_count": null,
   "metadata": {},
   "outputs": [],
   "source": [
    "class fsa:\n",
    "    def __init__(self, initial=0, final=set(), transitions={}):\n",
    "        \"\"\"Class for finite-state automata.\n",
    "        \n",
    "        The transitions must be a list of tuples of the form\n",
    "        (source, label, goal).\n",
    "        \"\"\"\n",
    "        self.I = initial\n",
    "        self.F = final\n",
    "        # process transitions into dictionary\n",
    "        self. T = {}\n",
    "        for t in transitions:\n",
    "            self.update(t)\n",
    "        \n",
    "\n",
    "    def update(self, trans):\n",
    "        \"\"\"Add (source, label, goal) triples to transitions dictionary.\"\"\"\n",
    "        assert isinstance(trans, tuple), \"Each transition must be a tuple\"\n",
    "        assert len(trans) == 3, \"Each transition must have exactly 3 components\"\n",
    "        source, goal, label = trans\n",
    "        self.T[source] = self.T.get(source, {})\n",
    "        self.T[source][label] = goal"
   ]
  },
  {
   "cell_type": "code",
   "execution_count": null,
   "metadata": {},
   "outputs": [],
   "source": [
    "from pprint import pprint\n",
    "\n",
    "print(\"Code before the faulty pessage is run just fine.\")\n",
    "\n",
    "movie_quote = fsa(initial=0, final={0, 1}, transitions=(\"say\", \"Bob\", \"end\"))\n",
    "\n",
    "print(\"But this won't be executed anymore because Python stops halfway through the fsa-construction.\")\n",
    "pprint(movie_quote.T, width=1)"
   ]
  },
  {
   "cell_type": "markdown",
   "metadata": {},
   "source": [
    "The `assert` command is a very powerful safeguard.\n",
    "It makes everything grind to a screeching halt.\n",
    "But this also means it shouldn't be used lightly.\n",
    "Some errors can be fixed on the fly with smart coding, e.g. by providing default values.\n",
    "Fixing errors comes with the risk of unwanted assumptions, though.\n",
    "Suppose, for instance, that the user specifies only two transitions, `(0, \"a\", 1)` and `(2, \"b\", 3)`.\n",
    "If our only initial state is `0`, then there is no way to reach `2`.\n",
    "Is this a user error, or a deliberate decision?\n",
    "Should we check for such errors, and if so, should we just print a warning or use `assert` to halt the whole program?\n",
    "\n",
    "These are difficult questions, which is why sanity checking user input is very tricky.\n",
    "There's several rules of thumbs, but they all contradict each other.\n",
    "\n",
    "1. Don't go crazy with asserts.\n",
    "   The more asserts you put in place, the less flexible your code becomes.\n",
    "   For instance, `assert isinstance(transitions, set)` serves no purpose if a list works just as well.\n",
    "   \n",
    "1. Don't make hidden fixes.\n",
    "   For instance, it might be tempting to just skip ill-formed transition triples while processing the rest.\n",
    "   But then the automaton will behave very differently, and the user might not notice that anything has gone wrong.\n",
    "   \n",
    "1. Don't expect much of the user.\n",
    "   Any mistake that one could make in specifying the input **will** be made.\n",
    "   Try to anticipate them and put appropriate checks, fixes, and warnings in place.\n",
    "   \n",
    "Yeah, it's tricky.\n",
    "For our `fsa`, one reasonable solution might look as follows:\n",
    "\n",
    "1. Keep the `assert` lines inside `update` since there is no easy way to figure out what the intended input was.\n",
    "1. Add an additional `sanity_check` method that checks for a few telltale signs of malformed user input.\n",
    "   This includes:\n",
    "   - There is no transition from the initial state(s) to any of the other states.\n",
    "   - There is no transition to a final state.\n",
    "   - Some states are unreachable.\n",
    "1. Add an optional `verbose` parameter to `__init__` that, when set to `True`, displays the specified automaton as a graph.\n",
    "\n",
    "As you an imagine, options 2 and 3 take quite a bit of work, so we won't try to tackle them here.\n",
    "In the real world, though, we don't have the luxury of skipping sanity checks if they're too much work.\n",
    "And make no mistake, error checking is a major component of programming that must not be taken lightly.\n",
    "It's the difference between a hackjob and production-ready software."
   ]
  },
  {
   "cell_type": "markdown",
   "metadata": {},
   "source": [
    "## Bullet point summary\n",
    "\n",
    "- Sanity checks are an important part of writing robust and reliable programs.\n",
    "- For simple cases, you can use `assert` to stop the program when unrecoverable errors are encountered.\n",
    "\n",
    "```python\n",
    "# abort unless some_condition holds\n",
    "assert some_condition, \"error message that some condition was not satisfied\"\n",
    "```"
   ]
  }
 ],
 "metadata": {
  "kernelspec": {
   "display_name": "Python 3",
   "language": "python",
   "name": "python3"
  },
  "language_info": {
   "codemirror_mode": {
    "name": "ipython",
    "version": 3
   },
   "file_extension": ".py",
   "mimetype": "text/x-python",
   "name": "python",
   "nbconvert_exporter": "python",
   "pygments_lexer": "ipython3",
   "version": "3.7.3rc1"
  }
 },
 "nbformat": 4,
 "nbformat_minor": 2
}
