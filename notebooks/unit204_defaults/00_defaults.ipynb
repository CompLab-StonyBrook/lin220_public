{
 "cells": [
  {
   "cell_type": "markdown",
   "metadata": {},
   "source": [
    "# Shorthands and defaults"
   ]
  },
  {
   "cell_type": "markdown",
   "metadata": {},
   "source": [
    "## Shorter `if`\n",
    "\n",
    "Every `if`-statement requires a condition, which must evaluate to a Boolean (`True` or `False`).\n",
    "But Python is actually much more lenient than other programming languages in what it will interpret as a Boolean."
   ]
  },
  {
   "cell_type": "code",
   "execution_count": null,
   "metadata": {},
   "outputs": [],
   "source": [
    "# Conditions with numbers\n",
    "if 0.27:\n",
    "    print(\"Numbers are equivalent to True.\")\n",
    "if 0:\n",
    "    print(\"But 0 is False, so this won't print.\")"
   ]
  },
  {
   "cell_type": "code",
   "execution_count": null,
   "metadata": {},
   "outputs": [],
   "source": [
    "# Conditions with strings\n",
    "if \"some_string\":\n",
    "    print(\"Strings are equivalent to True!\")\n",
    "if \"\":\n",
    "    print(\"But the empty string is False, so this won't print.\")"
   ]
  },
  {
   "cell_type": "code",
   "execution_count": null,
   "metadata": {},
   "outputs": [],
   "source": [
    "# Conditions with lists\n",
    "if [\"\"]:\n",
    "    print(\"A non-empty list is equivalent to True.\")\n",
    "if []:\n",
    "    print(\"But the empty list is False, so this won't print.\")"
   ]
  },
  {
   "cell_type": "code",
   "execution_count": null,
   "metadata": {},
   "outputs": [],
   "source": [
    "# Conditions with sets\n",
    "if {\"\"}:\n",
    "    print(\"A non-empty set is equivalent to True.\")\n",
    "if set():\n",
    "    print(\"But the empty set is False, so this won't print.\")"
   ]
  },
  {
   "cell_type": "code",
   "execution_count": null,
   "metadata": {},
   "outputs": [],
   "source": [
    "# Conditions with dictionaries\n",
    "if {\"\": \"\"}:\n",
    "    print(\"A non-empty dictionary is equivalent to True.\")\n",
    "if {}:\n",
    "    print(\"But the empty dictionary is False, so this won't print.\")"
   ]
  },
  {
   "cell_type": "markdown",
   "metadata": {},
   "source": [
    "So Python isn't actually limited to Booleans in `if`-statements.\n",
    "Pretty much any kind of object can appear there.\n",
    "Most of these objects will be interpreted as `True`.\n",
    "The only ones that evaluate to `False` are those that are in some sense nothing:\n",
    "\n",
    "- Numbers: `0`\n",
    "- Strings: empty string `\"\"`\n",
    "- Lists: empty list `[]`\n",
    "- Set: empty set `set()`\n",
    "- Dictionary: empty dictionary `{}`\n",
    "\n",
    "This fact can be used to shorten `if`-statements quite a bit."
   ]
  },
  {
   "cell_type": "code",
   "execution_count": null,
   "metadata": {},
   "outputs": [],
   "source": [
    "def memtest(memory):\n",
    "    if memory != []:\n",
    "        return memory\n",
    "    else:\n",
    "        return [\"some_default\"]"
   ]
  },
  {
   "cell_type": "code",
   "execution_count": null,
   "metadata": {},
   "outputs": [],
   "source": [
    "def memtest(memory):\n",
    "    if memory:\n",
    "        return memory\n",
    "    else:\n",
    "        return [\"some_default\"]"
   ]
  },
  {
   "cell_type": "code",
   "execution_count": null,
   "metadata": {},
   "outputs": [],
   "source": [
    "def opposite_memtest(memory):\n",
    "    if memory == []:\n",
    "        return [\"some_default\"]\n",
    "    else:\n",
    "        return memory"
   ]
  },
  {
   "cell_type": "code",
   "execution_count": null,
   "metadata": {},
   "outputs": [],
   "source": [
    "def opposite_memtest(memory):\n",
    "    if not memory:\n",
    "        return [\"some_default\"]\n",
    "    else:\n",
    "        return memory"
   ]
  },
  {
   "cell_type": "code",
   "execution_count": null,
   "metadata": {},
   "outputs": [],
   "source": [
    "def memtest(memory):\n",
    "    return memory if memory else [\"some_default\"]\n",
    "i\n",
    "\n",
    "def opposite_memtest(memory):\n",
    "    return [\"some_default\"] if not memory else memory"
   ]
  },
  {
   "cell_type": "markdown",
   "metadata": {},
   "source": [
    "## Argument defaults for functions"
   ]
  },
  {
   "cell_type": "code",
   "execution_count": null,
   "metadata": {},
   "outputs": [],
   "source": [
    "def safe_update(dictionary, key, value, overwrite):\n",
    "    if overwrite or (dictionary.get(key) is None):\n",
    "        dictionary[key] = value"
   ]
  },
  {
   "cell_type": "code",
   "execution_count": null,
   "metadata": {},
   "outputs": [],
   "source": [
    "test = {\"the\": 0.7}\n",
    "\n",
    "safe_update(test, \"the\", 1, False)\n",
    "print(\"With overwrite as False we still have\", test)\n",
    "safe_update(test, \"the\", 1, True)\n",
    "print(\"With overwrite as True we now get\", test)"
   ]
  },
  {
   "cell_type": "code",
   "execution_count": null,
   "metadata": {},
   "outputs": [],
   "source": [
    "def safe_update_with_default(dictionary, key, value, overwrite=False):\n",
    "    if overwrite or (dictionary.get(key) is None):\n",
    "        dictionary[key] = value"
   ]
  },
  {
   "cell_type": "code",
   "execution_count": null,
   "metadata": {},
   "outputs": [],
   "source": [
    "test = {\"the\": 0.7}\n",
    "\n",
    "safe_update_with_default(test, \"the\", 1)\n",
    "print(\"Without overwrite we still have\", test)\n",
    "safe_update_with_default(test, \"the\", 1, overwrite=True)\n",
    "print(\"With overwrite as True we now get\", test)"
   ]
  },
  {
   "cell_type": "code",
   "execution_count": null,
   "metadata": {},
   "outputs": [],
   "source": [
    "def safe_update(dictionary, key=\"_freq\", value=1, overwrite=False):\n",
    "    if overwrite or (dictionary.get(key) is None):\n",
    "        dictionary[key] = value\n",
    "\n",
    "\n",
    "test = {\"the\": 0.7}\n",
    "safe_update(test, key=\"the\", overwrite=True)\n",
    "print(\"After changing \\\"the\\\" to default value:\", test)\n",
    "safe_update(test)\n",
    "print(\"Update with all defaults:\", test)"
   ]
  },
  {
   "cell_type": "markdown",
   "metadata": {},
   "source": [
    "## Default values for `.get`\n",
    "\n",
    "As you know, `.get(key)` returns `None` if `key` does not exist in the dictionary.\n",
    "So `.get` uses `None` as a default when no other value can be found.\n",
    "We can override this default value by passing in a second argument."
   ]
  },
  {
   "cell_type": "code",
   "execution_count": null,
   "metadata": {},
   "outputs": [],
   "source": [
    "print({}.get(\"test\"))"
   ]
  },
  {
   "cell_type": "code",
   "execution_count": null,
   "metadata": {},
   "outputs": [],
   "source": [
    "print({}.get(\"test\", \"our own default\"))"
   ]
  },
  {
   "cell_type": "markdown",
   "metadata": {},
   "source": [
    "This can greatly simplify your code."
   ]
  },
  {
   "cell_type": "code",
   "execution_count": null,
   "metadata": {},
   "outputs": [],
   "source": [
    "def clunky_keytester(dictionary, key):\n",
    "    if dictionary.get(key) is None:\n",
    "        dictionary[key] = \"some default\""
   ]
  },
  {
   "cell_type": "code",
   "execution_count": null,
   "metadata": {},
   "outputs": [],
   "source": [
    "def neat_keytester(dictionary, key):\n",
    "    dictionary.get(key, \"some default\")"
   ]
  },
  {
   "cell_type": "markdown",
   "metadata": {},
   "source": [
    "For a concrete example, consider how using a default for `.get` simplifies our prefix tree constructor."
   ]
  },
  {
   "cell_type": "code",
   "execution_count": null,
   "metadata": {},
   "outputs": [],
   "source": [
    "def ngramcounter_to_prefixtree(counter):\n",
    "    \"\"\"Convert counter with n-gram frequencies to prefix tree.\n",
    "    \n",
    "    This version does not use a default for .get\n",
    "    \"\"\"\n",
    "    tree = {}\n",
    "    for ngram, freq in counter.items(): \n",
    "        current_subtree = tree\n",
    "        for word in ngram:\n",
    "            if current_subtree.get(word):\n",
    "                current_subtree = current_subtree[word]\n",
    "            else:\n",
    "                current_subtree[word] = {}\n",
    "                current_subtree = current_subtree[word]\n",
    "        current_subtree[\"_freq\"] = freq\n",
    "    return tree\n",
    "\n",
    "\n",
    "test_counter = {(\"a\", \"test\"): 10, (\"another\", \"test\"): 5}\n",
    "ngramcounter_to_prefixtree(test_counter)"
   ]
  },
  {
   "cell_type": "code",
   "execution_count": null,
   "metadata": {},
   "outputs": [],
   "source": [
    "def ngramcounter_to_prefixtree(counter):\n",
    "    \"\"\"Convert counter with n-gram frequencies to prefix tree.\n",
    "    \n",
    "    This version is shorter thanks to a default value for .get\n",
    "    \"\"\"\n",
    "    tree = {}\n",
    "    for ngram, freq in counter.items(): \n",
    "        current_subtree = tree\n",
    "        for word in ngram:\n",
    "            # the whole if-test has disappeared!\n",
    "            current_subtree[word] = current_subtree.get(word, {})\n",
    "            current_subtree = current_subtree[word]\n",
    "        current_subtree[\"_freq\"] = freq\n",
    "    return tree\n",
    "\n",
    "\n",
    "test_counter = {(\"a\", \"test\"): 10, (\"another\", \"test\"): 5}\n",
    "ngramcounter_to_prefixtree(test_counter)"
   ]
  },
  {
   "cell_type": "markdown",
   "metadata": {},
   "source": [
    "However, the most elegant solution is still the one that uses a default dictionary, as discussed in the expansion unit on data structures."
   ]
  }
 ],
 "metadata": {
  "kernelspec": {
   "display_name": "Python 3",
   "language": "python",
   "name": "python3"
  },
  "language_info": {
   "codemirror_mode": {
    "name": "ipython",
    "version": 3
   },
   "file_extension": ".py",
   "mimetype": "text/x-python",
   "name": "python",
   "nbconvert_exporter": "python",
   "pygments_lexer": "ipython3",
   "version": "3.7.2+"
  }
 },
 "nbformat": 4,
 "nbformat_minor": 2
}
