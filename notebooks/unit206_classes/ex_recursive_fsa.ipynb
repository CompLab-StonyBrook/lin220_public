{
 "cells": [
  {
   "cell_type": "markdown",
   "metadata": {},
   "source": [
    "# Recursive implementation of FSAs\n",
    "\n",
    "This expansion unit doesn't teach you anything new, but it gives you another opportunity to see recursive functions in action.\n",
    "The usual disclaimers for recursive functions apply:\n",
    "\n",
    "1. Python has a very limited implementation of recursive functions, so don't use them if you can avoid it.\n",
    "1. Recursive functions can be very inefficient if you don't use memoization to avoid recomputing results.\n",
    "1. Despite all that, recursive functions are an essential programming tool, and in some languages they fully replace `for`-loops and `while`-loops.\n",
    "   So try to master them even if they don't pay off for Python.\n",
    "   \n",
    "Alright, with that out of the way, let's look at a recursive version of our `accepts` function for FSAs.\n",
    "As in the first notebook of this unit, we do not use classes.\n",
    "But we will assume that an FSA is a dictionary and that the FSA transitions are represented as nested dictionaries."
   ]
  },
  {
   "cell_type": "code",
   "execution_count": null,
   "metadata": {},
   "outputs": [],
   "source": [
    "def rec_accept(sentence, fsa, cs):\n",
    "    \"\"\"A recursive implementation of accept.\"\"\"\n",
    "    # base case: sentence is empty\n",
    "    if not sentence:\n",
    "        return cs in fsa[\"F\"]\n",
    "    # recursion step\n",
    "    else:\n",
    "        word = sentence[0]\n",
    "        ns = fsa[\"T\"].get(cs, {}).get(word)\n",
    "        return rec_accept(sentence[1:], fsa, ns) if ns else False\n",
    "    \n",
    "    \n",
    "def accepts(sentence, fsa):\n",
    "    \"\"\"Shorthand for calling rec_accept with inital state.\"\"\"\n",
    "    return rec_accept(sentence, fsa, fsa[\"I\"])"
   ]
  },
  {
   "cell_type": "markdown",
   "metadata": {},
   "source": [
    "First let's make sure that this function does what we expect for our toy FSA from the first notebook."
   ]
  },
  {
   "cell_type": "code",
   "execution_count": null,
   "metadata": {},
   "outputs": [],
   "source": [
    "fsa = {\"I\": 1,\n",
    "       \"F\": {4},\n",
    "       \"T\": {1: {\"John\": 2},\n",
    "             2: {\"likes\": 3},\n",
    "             3: {\"Bill\": 4}\n",
    "            }\n",
    "      }"
   ]
  },
  {
   "cell_type": "code",
   "execution_count": null,
   "metadata": {},
   "outputs": [],
   "source": [
    "sentence = [\"John\", \"likes\", \"Bill\"]\n",
    "accepts(sentence, fsa)"
   ]
  },
  {
   "cell_type": "code",
   "execution_count": null,
   "metadata": {},
   "outputs": [],
   "source": [
    "sentence = [\"John\", \"likes\", \"Sue\"]\n",
    "accepts(sentence, fsa)"
   ]
  },
  {
   "cell_type": "markdown",
   "metadata": {},
   "source": [
    "Alright, time to take a gander at how the recursive function gets these results.\n",
    "Are you ready?\n",
    "This will take a while, so take a deep breath.\n",
    "\n",
    "We start with `sentence = [\"John\", \"likes\", \"Bill\"]`:\n",
    "\n",
    "1.  **First instance**\n",
    "    1. When we call `accepts(sentence, fsa)`, this immediately calls `rec_accept(sentence, fsa, fsa[\"I\"])` instead.\n",
    "       In other words, we start the recursive function with the initial state as our current state.\n",
    "    1. Since `sentence` is not empty, `rec_accept` looks at the first item of `sentence`, which is `\"John\"`.\n",
    "       It then consults the transition dictionary to see what state is reached by following `\"John\"` from the current state `1`.\n",
    "       The answer is `2`.\n",
    "    1. Since the next state is defined, `rec_accept` calls itself, but with changed arguments:\n",
    "        - Instead of `sentence`, we pass `sentence[1:]`.\n",
    "          So `\"John\"` has been clipped off, leaving only `[\"likes\", \"Bill\"]`.\n",
    "        - The variable `fsa` does not change at all.\n",
    "        - The current state is set to `2`.\n",
    "1.  **Second instance**  \n",
    "    This starts the second instance of `rec_accept`.\n",
    "    Let's call it `rec_accept<2>` here to distinguish it from the previous instance, `rec_accept<1>`.\n",
    "    1. Again `sentence` is not empty, so `rec_accept<2>` looks at its first item, i.e. `\"likes\".\n",
    "       According to `fsa`, the next state is now `3` since that's where `\"likes\"` takes us from `2`.\n",
    "    1. Since the next state is defined, we call the third instance of `rec_accept`, which we will call `rec_accept<3>`.\n",
    "       We again modify the arguments:\n",
    "        - Instead of `sentence`, we pass `sentence[1:]`.\n",
    "          But keep in mind that this is already the truncated version of `sentence`.\n",
    "          So `\"likes\"` has been clipped off from `[\"likes\", \"Bill\"]`, leaving only `[\"Bill\"]`.\n",
    "        - The variable `fsa` does not change at all.\n",
    "        - The current state is set to `3`.\n",
    "1.  **Third instance**\n",
    "    1. Once again `sentence` is not empty, so `rec_accept<3>` looks at its first item, which is `\"Bill\"`.\n",
    "       From state `3`, this will take us to `4`.\n",
    "    1. As before, the next state is defined so we call `rec_accept` one more time with modified arguments:\n",
    "        - Instead of `sentence`, we pass `sentence[1:]`.\n",
    "          But keep in mind that this is already the truncated version of `sentence`.\n",
    "          So `\"Bill\"` has been clipped off from `[\"Bill\"]`, leaving only `[]`.\n",
    "        - The variable `fsa` does not change at all.\n",
    "        - The current state is set to `4`.\n",
    "1.  **Fourth instance**\n",
    "    1. Since `sentence` is empty, we check if `4` is a final state.\n",
    "       This is indeed the case, so `rec_accept<4>` returns `True`.\n",
    "    1. Since `rec_accept<3>` returns whatever `rec_accept<4>` returns, it now returns `True`.\n",
    "    1. Since `rec_accept<2>` returns whatever `rec_accept<3>` returns, it now returns `True`.\n",
    "    1. Since `rec_accept` returns whatever `rec_accept<2>` returns, it now returns `True`.\n",
    "    1. Since `accept` returns whatever `rec_accept` returns, it now returns `True`."
   ]
  },
  {
   "cell_type": "markdown",
   "metadata": {},
   "source": [
    "Got that?\n",
    "Easy, right?\n",
    "Okay, time to look at the illicit counterpart `[\"John\", \"likes\", \"Sue\"]`.\n",
    "\n",
    "1.  **First instance**  \n",
    "    same as before\n",
    "1.  **Second instance**  \n",
    "    same as before\n",
    "1.  **Third instance**\n",
    "    1. Once again `sentence` is not empty, so `rec_accept<3>` looks at its first item, which is `\"Sue\"`.\n",
    "       Since there is no such transition from state `3`, the next state is `None`.\n",
    "    1. As a result, `rec_accept<3>` returns `False`.\n",
    "    1. Since `rec_accept<2>` returns whatever `rec_accept<3>` returns, it now returns `False`.\n",
    "    1. Since `rec_accept` returns whatever `rec_accept<2>` returns, it now returns `False`.\n",
    "    1. Since `accept` returns whatever `rec_accept` returns, it now returns `False`.\n",
    "\n",
    "So there you have it.\n",
    "Intuitively, the recursive function worms its way through `sentence`, word by word, until it either reaches the end or there are no longer any possible transitions.\n",
    "In the latter case, it always returns `False`.\n",
    "In the former, it depends on whether the last state the function computed is a final state of the FSA."
   ]
  },
  {
   "cell_type": "markdown",
   "metadata": {},
   "source": [
    "## Bullet point summary\n",
    "\n",
    "- At the risk of constant repetition, recursive functions should be avoided in Python.\n",
    "- Equally at the risk of constant repetition, a good programmer must be able to write recursive functions.\n",
    "  They are an essential programming tool, and there are languages like *Haskell* or *OCaml* that rely almost exclusively on recursive functions for iteration."
   ]
  }
 ],
 "metadata": {
  "kernelspec": {
   "display_name": "Python 3",
   "language": "python",
   "name": "python3"
  },
  "language_info": {
   "codemirror_mode": {
    "name": "ipython",
    "version": 3
   },
   "file_extension": ".py",
   "mimetype": "text/x-python",
   "name": "python",
   "nbconvert_exporter": "python",
   "pygments_lexer": "ipython3",
   "version": "3.7.2+"
  }
 },
 "nbformat": 4,
 "nbformat_minor": 2
}
