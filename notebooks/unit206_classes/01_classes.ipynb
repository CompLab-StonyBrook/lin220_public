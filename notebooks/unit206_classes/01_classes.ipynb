{
 "cells": [
  {
   "cell_type": "markdown",
   "metadata": {},
   "source": [
    "# Coupling functions and data structures with classes\n",
    "\n",
    "This unit introduces one of the most important aspects of modern programming languages, **classes** and **object-oriented programming**.\n",
    "Classes provide a means for bundling data structures and functions into a convenient package where all parts fit together without any hiccups.\n",
    "As our data structures and functions get increasingly more complicated, classes will be a godsend to keep things manageable."
   ]
  },
  {
   "cell_type": "markdown",
   "metadata": {},
   "source": [
    "## Why life without classes isn't fun\n",
    "\n",
    "You already know that Python has a variety of methods for objects of different types."
   ]
  },
  {
   "cell_type": "code",
   "execution_count": null,
   "metadata": {},
   "outputs": [],
   "source": [
    "print(\"uppercase\".upper())\n",
    "print([\"item1\"].append(\"item2\"))\n",
    "print({\"item1\": 1, \"item2\": 2}.values())"
   ]
  },
  {
   "cell_type": "markdown",
   "metadata": {},
   "source": [
    "The nice thing about methods is that they work for any arbitrary object as long as it has the right type.\n",
    "The `.upper()` method works for every string, no matter what it looks like."
   ]
  },
  {
   "cell_type": "code",
   "execution_count": null,
   "metadata": {},
   "outputs": [],
   "source": [
    "print(\"UPPERCASE\".upper())\n",
    "print(\"\".upper())\n",
    "print(\"@~&öööǿ\".upper())"
   ]
  },
  {
   "cell_type": "markdown",
   "metadata": {},
   "source": [
    "A type for which `.upper()` wouldn't work doesn't have the method to begin with."
   ]
  },
  {
   "cell_type": "code",
   "execution_count": null,
   "metadata": {},
   "outputs": [],
   "source": [
    "# we can't uppercase a list\n",
    "[\"uppercase\"].upper()"
   ]
  },
  {
   "cell_type": "markdown",
   "metadata": {},
   "source": [
    "This is a major advantage over functions.\n",
    "Just about any object can be passed into a function, including objects that the function is not defined for.\n",
    "This means that the programmer has to make sure that the function is only fed with things it doesn't choke on.\n",
    "But this is surprisingly difficult as your code becomes more complex.\n",
    "\n",
    "Just consider our implementation of FSAs in the previous notebook.\n",
    "Every change in the data structure also required a change in the function `accept`.\n",
    "FSAs also had to be created manually according to a specific template.\n",
    "A minor typo could break the whole code:"
   ]
  },
  {
   "cell_type": "code",
   "execution_count": null,
   "metadata": {},
   "outputs": [],
   "source": [
    "# This doesn't run. Can you spot the mistake?\n",
    "\n",
    "def accepts(sentence, fsa):\n",
    "    \"\"\"Test if FSA accepts sentence.\n",
    "    \n",
    "    The FSA must be a dictionary of the form\n",
    "    \n",
    "    {'I': initial_state,\n",
    "     'F': {final_state1, final_state2, ...},\n",
    "     'T': {current_state: {word: next_state}}\n",
    "    \n",
    "    Arguments\n",
    "    ---------\n",
    "    sentence: list of strings\n",
    "        tokenized sentence\n",
    "    fsa: dict\n",
    "        finite-state automaton\n",
    "        \n",
    "    Returns\n",
    "    -------\n",
    "    bool\n",
    "    \"\"\"\n",
    "    # set current state\n",
    "    cs = fsa[\"I\"]\n",
    "    # iterate over sentence and follow along in automaton\n",
    "    for word in sentence:\n",
    "        cs = fsa[\"T\"].get(cs, {}).get(word)\n",
    "        if cs is None:\n",
    "            return False\n",
    "    # did we make it to a final state?\n",
    "    return True if cs in fsa[\"F\"] else False\n",
    "\n",
    "fsa = {\"I\": 1,\n",
    "       \"F\": {2},\n",
    "       \"T\": {1: {\"this\": 2},\n",
    "             2: {\"breaks\", 1},\n",
    "            },\n",
    "      }\n",
    "\n",
    "accepts([\"this\", \"breaks\"], fsa)"
   ]
  },
  {
   "cell_type": "markdown",
   "metadata": {},
   "source": [
    "The code above contains a minor typo.\n",
    "In the defintion of the FSA's transitions, it says `{\"breaks\", 1}` instead of `{\"breaks\": 1}`.\n",
    "This means the value for the key `2` is a set instead of a dictionary.\n",
    "This is an easy typo to make, and it causes an error that is hard to find.\n",
    "And if something is already difficult to spot in our short toy code, just imagine how hard it would be in a massive code base with thousands if not millions of line of code.\n",
    "\n",
    "This simply isn't a very maintainable approach.\n",
    "It would be much nicer if there was unified piece of code that would allow us to\n",
    "\n",
    "1. define what FSAs look like, and\n",
    "1. easily create new FSAs, and\n",
    "1. implement functions like `accepts` as custom methods for FSAs.\n",
    "\n",
    "This is exactly what classes are for."
   ]
  },
  {
   "cell_type": "markdown",
   "metadata": {},
   "source": [
    "## The basics of classes\n",
    "\n",
    "Rather than starting out with a lot of theory, we'll just look at an example of a class right away."
   ]
  },
  {
   "cell_type": "code",
   "execution_count": null,
   "metadata": {},
   "outputs": [],
   "source": [
    "class testclass:\n",
    "    class_greeting = \"Every member of this class has this greeting\"\n",
    "    \n",
    "a_test_object = testclass()\n",
    "a_test_object.class_greeting"
   ]
  },
  {
   "cell_type": "markdown",
   "metadata": {},
   "source": [
    "The code above defines a new class with the name `test`.\n",
    "The class doesn't provide much.\n",
    "It only contains a variable `class_greeting` that is set of a specific string.\n",
    "This variable is an **attribute** of the class.\n",
    "\n",
    "We then use `test()` to create a new object of this class.\n",
    "We store the object in the variable `a_test_object`.\n",
    "We can then use `a_test_object.class_greeting` to access the attribute `class_greeting` for this object."
   ]
  },
  {
   "cell_type": "markdown",
   "metadata": {},
   "source": [
    "We can also put function definitions inside a class.\n",
    "Any function defined this way will be available as a **method**.\n",
    "Class methods work just like all the methods you have already encountered.\n",
    "\n",
    "Functions that are defined inside a class always have the special value `self` as their first argument.\n",
    "This basically tells Python that the method call `some_class.some_method(x, y, z)` is short for the function call `class_type.some_method(some_class, x, y, z)`.\n",
    "This should be familiar to you - as you know, `some_list.append(\"x\")` is just a shorthand for `list.append(some_list, x)`.\n",
    "\n",
    "We can also use `self` to reference attributes of the object.\n",
    "For instance, the attribute `class_greeting` is available as `self.class_greeting`."
   ]
  },
  {
   "cell_type": "code",
   "execution_count": null,
   "metadata": {},
   "outputs": [],
   "source": [
    "class testclass:\n",
    "    class_greeting = \"Every member of this class has this greeting\"\n",
    "    \n",
    "    def greet(self):\n",
    "        print(self.class_greeting)\n",
    "        \n",
    "    def greet_user(self, username):\n",
    "        print(f\"{self.class_greeting}, {username}!\")\n",
    "\n",
    "    \n",
    "a_test_object = testclass()\n",
    "# call greet as method\n",
    "a_test_object.greet()\n",
    "# call greet as function\n",
    "testclass.greet(a_test_object)\n",
    "\n",
    "# call greet_user as method\n",
    "a_test_object.greet_user(\"Thomas\")\n",
    "# call greet_user as function\n",
    "testclass.greet_user(a_test_object, \"Thomas\")"
   ]
  },
  {
   "cell_type": "markdown",
   "metadata": {},
   "source": [
    "Notice how we instantiate the test object with `a_test_object = testclass()` instead of `a_test_object = testclass`.\n",
    "You might suspect that we can pass arguments to `testclass()`, and you'd be correct.\n",
    "What exactly happens with those arguments is determined by the special function `__init__`.\n",
    "Like all other functions, `__init__` must have `self` as the first argument."
   ]
  },
  {
   "cell_type": "code",
   "execution_count": null,
   "metadata": {},
   "outputs": [],
   "source": [
    "class testclass:\n",
    "    def __init__(self, greeting=\"A default greeting\"):\n",
    "        self.class_greeting = greeting\n",
    "        \n",
    "    def greet(self):\n",
    "        print(self.class_greeting)\n",
    "        \n",
    "    def greet_user(self, username):\n",
    "        print(f\"{self.class_greeting}, {username}!\")\n",
    "\n",
    "    \n",
    "a_test_object = testclass(\"Now we have a different greeting\")\n",
    "# call greet as method\n",
    "a_test_object.greet()\n",
    "# call greet as function\n",
    "testclass.greet(a_test_object)\n",
    "\n",
    "# call greet_user as method\n",
    "a_test_object.greet_user(\"Thomas\")\n",
    "# call greet_user as function\n",
    "testclass.greet_user(a_test_object, \"Thomas\")\n",
    "\n",
    "# instantiate another object without a custom greeting\n",
    "another_test_object = testclass()\n",
    "another_test_object.greet()"
   ]
  },
  {
   "cell_type": "markdown",
   "metadata": {},
   "source": [
    "And that's already enough to implement FSAs as a class."
   ]
  },
  {
   "cell_type": "markdown",
   "metadata": {},
   "source": [
    "## Defining an FSA class\n",
    "\n",
    "An FSA class requires several components.\n",
    "We need attributes for the initial state, the set of final states, and the transitions.\n",
    "These should be passed in as arguments, which requires an appropriately defined `__init__` function."
   ]
  },
  {
   "cell_type": "code",
   "execution_count": null,
   "metadata": {},
   "outputs": [],
   "source": [
    "class fsa:\n",
    "    def __init__(self, initial=1, final=set(), transitions={}):\n",
    "        \"\"\"Class for finite-state automata.\n",
    "        \n",
    "        Arguments\n",
    "        ---------\n",
    "        initial: int or string\n",
    "            name of initial state\n",
    "            default: 1\n",
    "        final: set\n",
    "            set of final states\n",
    "            default: empty set\n",
    "        transitions: dict\n",
    "            dictionary of the form {current_state: {arc_label: new_state}}\n",
    "            default: empty dictionary\n",
    "        \"\"\"\n",
    "        self.I = initial\n",
    "        self.F = final\n",
    "        self.T = transitions"
   ]
  },
  {
   "cell_type": "markdown",
   "metadata": {},
   "source": [
    "Now we can already use our class to construct a new FSA."
   ]
  },
  {
   "cell_type": "code",
   "execution_count": null,
   "metadata": {},
   "outputs": [],
   "source": [
    "fsa1 = fsa(initial=1, final={1}, transitions={1: {\"awesome\": 1}})\n",
    "print(\"Initial state:\", fsa1.I)\n",
    "print(\"Final states:\", fsa1.F)\n",
    "print(\"Transitions:\", fsa1.T)"
   ]
  },
  {
   "cell_type": "markdown",
   "metadata": {},
   "source": [
    "But of course that's pretty useless without an `accepts` method, so we define a corresponding function for the class.\n",
    "It is almost exactly the same as the version from the previous notebook, except that we now use `self.I`, `self.F`, and `self.T` for the inital state, the set of final states, and the transitions dictionary, respectively."
   ]
  },
  {
   "cell_type": "code",
   "execution_count": null,
   "metadata": {},
   "outputs": [],
   "source": [
    "class fsa:\n",
    "    def __init__(self, initial=1, final=set(), transitions={}):\n",
    "        \"\"\"Class for finite-state automata.\n",
    "        \n",
    "        Arguments\n",
    "        ---------\n",
    "        initial: int or string\n",
    "            name of initial state\n",
    "            default: 1\n",
    "        final: set\n",
    "            set of final states\n",
    "            default: empty set\n",
    "        transitions: dict\n",
    "            dictionary of the form {current_state: {arc_label: new_state}}\n",
    "            default: empty dictionary\n",
    "        \"\"\"\n",
    "        self.I = initial\n",
    "        self.F = final\n",
    "        self.T = transitions\n",
    "        \n",
    "\n",
    "    def accepts(self, sentence):\n",
    "        \"\"\"Test if FSA accepts sentence.\n",
    "    \n",
    "        Arguments\n",
    "        ---------\n",
    "        sentence: list of strings\n",
    "            tokenized sentence\n",
    "        \n",
    "        Returns\n",
    "        -------\n",
    "        bool\n",
    "        \"\"\"\n",
    "        # set current state to initial state\n",
    "        cs = self.I\n",
    "        # iterate over sentence and follow along in automaton\n",
    "        for word in sentence:\n",
    "            cs = self.T.get(cs, {}).get(word)\n",
    "            if cs is None:\n",
    "                return False\n",
    "        # did we make it to a final state?\n",
    "        return True if cs in self.F else False"
   ]
  },
  {
   "cell_type": "code",
   "execution_count": null,
   "metadata": {},
   "outputs": [],
   "source": [
    "fsa1 = fsa(initial=1, final={1}, transitions={1: {\"awesome\": 1}})\n",
    "fsa1.accepts([\"awesome\", \"awesome\", \"awesome\"])"
   ]
  },
  {
   "cell_type": "code",
   "execution_count": null,
   "metadata": {},
   "outputs": [],
   "source": [
    "fsa1 = fsa(initial=1, final={1}, transitions={1: {\"awesome\": 1}})\n",
    "fsa1.accepts([\"lame\", \"lame\", \"lame\"])"
   ]
  },
  {
   "cell_type": "markdown",
   "metadata": {},
   "source": [
    "So there you have it.\n",
    "A simple class for FSAs with a method for checking strings.\n",
    "For now the benefit is pretty marginal since `fsa1.accepts(sentence)` isn't all too different from `accepts(sentence, fsa1)` as we had it in the previous notebook.\n",
    "In particular, it's still easy to define incorrect automata.\n",
    "In order to handle this properly, we need to implement some error checking mechanisms.\n",
    "But this will be left for the next unit.\n",
    "Getting the hang of classes will already keep you occupied for a while, there's no need to pile on even more."
   ]
  },
  {
   "cell_type": "markdown",
   "metadata": {},
   "source": [
    "## Bullet-point summary\n",
    "\n",
    "- Classes allow us to couple together data structures and functions.\n",
    "- An **object** is an instance of a specific class.\n",
    "  For example, `\"some string\"` is an instance of the string class and hence a string object.\n",
    "- Variables that are defined inside a class are called **attributes** and are available as `name_of_object.variable_name`.\n",
    "- Functions defined inside a class are available as methods in the usual fashion.\n",
    "- Every function inside a class must have `self` as the first argument.\n",
    "- The special function `__init__` is used to set up all arguments that get passed into the class upon creation of an object."
   ]
  }
 ],
 "metadata": {
  "kernelspec": {
   "display_name": "Python 3",
   "language": "python",
   "name": "python3"
  },
  "language_info": {
   "codemirror_mode": {
    "name": "ipython",
    "version": 3
   },
   "file_extension": ".py",
   "mimetype": "text/x-python",
   "name": "python",
   "nbconvert_exporter": "python",
   "pygments_lexer": "ipython3",
   "version": "3.7.3rc1"
  }
 },
 "nbformat": 4,
 "nbformat_minor": 2
}
