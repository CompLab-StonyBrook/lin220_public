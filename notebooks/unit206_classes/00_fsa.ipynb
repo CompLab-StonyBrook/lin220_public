{
 "cells": [
  {
   "cell_type": "markdown",
   "metadata": {},
   "source": [
    "# Implementing (deterministic) finite-state automata\n",
    "\n",
    "While n-gram models are very useful in language technology, they are also very limited in their capabilities.\n",
    "If something involves more than *n* consecutive symbols, an n-gram model has a hard time handling it.\n",
    "**Finite-state automata** (FSAs) are a valuable upgrade.\n",
    "They can be used for part-of-speech tagging, stemming and lemmatization, word prediction, and so on.\n",
    "FSAs can do everything an n-gram model can do, and more.\n",
    "\n",
    "So why use n-gram models if FSAs are so much better?\n",
    "Well, FSAs are more powerful, but they are also harder to work with.\n",
    "Their implementation is a bit trickier, and they are much harder to learn automatically from corpora.\n",
    "The last part is often the most important for language technology, so n-gram models are preferred because learning is so straightforward with them (just compute the n-gram counts).\n",
    "\n",
    "Be that as it may, FSAs are an essential part of computational linguistics and you need to have a good understanding of how they work.\n",
    "There's a lot of deep theory and math here, but that is best left for a separate course.\n",
    "In this unit, we only care about the implementation of **deterministic FSAs**."
   ]
  },
  {
   "cell_type": "markdown",
   "metadata": {},
   "source": [
    "## Lecture notes reminder\n",
    "\n",
    "I assume that you've already studied the lecture notes on FSAs so that you have a rough idea of how they work.\n",
    "But just so that we're all on the same page, here's a few terminological reminders.\n",
    "\n",
    "An FSA is **deterministic** iff:\n",
    "\n",
    "1. it has exactly one start state (no more, no less), and\n",
    "1. no state may have two outgoing arcs with the same label.\n",
    "\n",
    "Keep in mind, though, that a deterministic automaton may have multiple final states.\n",
    "An FSA **recognizes** or **accepts** a string iff the string describes a path from an initial state to a final state."
   ]
  },
  {
   "cell_type": "markdown",
   "metadata": {},
   "source": [
    "## A simple implementation\n",
    "\n",
    "Implementing a finite-state automaton is actually very simple, but it requires us to look beyond the pretty pictures.\n",
    "While it is very intuitive to depict an FSA as a graph of nodes that are connected by labeled arcs, this format isn't very helpful for a Python implementation.\n",
    "What's a node, and what is an arc?\n",
    "Just like with prefix trees, our actual data structure will differ quite a bit from the intuitive depicition.\n",
    "\n",
    "If you ask a mathematician or computer scientist what an FSA actually is, they will tell you the following:\n",
    "\n",
    "> An FSA consists of three components.\n",
    "> 1. a unique initial state `I`,\n",
    "> 1. a set `F` of final states,\n",
    "> 1. a set `T` of transitions, each one of which is of the form `(current_state, label, new_state)`.\n",
    "\n",
    "For instance, our toy automaton above is mathematically described as follows:\n",
    "\n",
    "```python\n",
    "I = 1\n",
    "F = {4, 5}\n",
    "T = {(1, \"John\", 2),\n",
    "     (1, \"Sue\", 2),\n",
    "     (2, \"doubt\", 3),\n",
    "     (2, \"left\", 4),\n",
    "     (2, \"really\", 2),\n",
    "     (2, \"thinks\", 3),\n",
    "     (3, \"that\", 1),\n",
    "     (4, \"Bill\", 5)}\n",
    "```\n",
    "\n",
    "It would be very easy to use exactly the same format in Python.\n",
    "Then `I`, `F`, and `T` are just variables, with `I` pointing to an integer that is the name of some state, `F` being a set of integers (i.e. states), and `T` a set of tuples (remember that tuples are immutable and thus hashable, so they can be collected in a Python set).\n",
    "\n",
    "But this isn't a very useful format.\n",
    "To see how, suppose that we want to write a function `accepts` that returns `True` if the FSA recognizes the sentence, and `False` otherwise.\n",
    "How would we do this?\n",
    "We could try the option below."
   ]
  },
  {
   "cell_type": "code",
   "execution_count": null,
   "metadata": {},
   "outputs": [],
   "source": [
    "def accepts(sentence, I, F, T):\n",
    "    \"\"\"Test if FSA accepts sentence.\n",
    "    \n",
    "    Arguments\n",
    "    ---------\n",
    "    sentence: list of strings\n",
    "        tokenized sentence\n",
    "    I: integer\n",
    "        initial state of FSA\n",
    "    F: set of integers\n",
    "        set of FSA's final states\n",
    "    T: set of triples\n",
    "        FSA transitions, in form (current_state, label, new_state)\n",
    "        \n",
    "    Returns\n",
    "    -------\n",
    "    bool\n",
    "    \"\"\"\n",
    "    # set current state\n",
    "    cs = I\n",
    "    # iterate over sentence and follow along in automaton\n",
    "    for word in sentence:\n",
    "        cs = next_state(cs, word, T)\n",
    "    # did we make it to a final state?\n",
    "    return True if cs in F else False\n",
    "\n",
    "\n",
    "def next_state(cs, word, T):\n",
    "    \"\"\"Return state reached via word from current state\"\"\"\n",
    "    # list of arcs leaving from cs\n",
    "    transitions = [(label, next_state)\n",
    "                   for (x, label, next_state) in T if x == cs]\n",
    "    # return state reached via word, if it exists\n",
    "    for label, next_state in transitions:\n",
    "        if label == word:\n",
    "            return next_state\n",
    "    # didn't find any arc with word as label\n",
    "    return False"
   ]
  },
  {
   "cell_type": "markdown",
   "metadata": {},
   "source": [
    "Let's see if this code works with a very simple automaton that only recognizes *John likes Bill*."
   ]
  },
  {
   "cell_type": "code",
   "execution_count": null,
   "metadata": {},
   "outputs": [],
   "source": [
    "I = 1\n",
    "F = {4}\n",
    "T = {(1, \"John\", 2),\n",
    "     (2, \"likes\", 3),\n",
    "     (3, \"Bill\", 4)}"
   ]
  },
  {
   "cell_type": "code",
   "execution_count": null,
   "metadata": {},
   "outputs": [],
   "source": [
    "sentence = [\"John\", \"likes\", \"Bill\"]\n",
    "accepts(sentence, I, F, T)"
   ]
  },
  {
   "cell_type": "code",
   "execution_count": null,
   "metadata": {},
   "outputs": [],
   "source": [
    "sentence = [\"John\", \"likes\", \"Sue\"]\n",
    "accepts(sentence, I, F, T)"
   ]
  },
  {
   "cell_type": "markdown",
   "metadata": {},
   "source": [
    "Alright, the code words as desired, but it is clunky.\n",
    "Why do we have to pass in `I`, `F`, and `T` separately?\n",
    "This obfuscates that the function operates with two basic objects, a list of strings and an FSA.\n",
    "But this only works if we have a single object for FSAs, instead of three.\n",
    "Fortunately, this is easily fixed with a dictionary."
   ]
  },
  {
   "cell_type": "code",
   "execution_count": null,
   "metadata": {},
   "outputs": [],
   "source": [
    "# defining the example FSA as a dictionary\n",
    "{\"I\": 1,\n",
    " \"F\": {4},\n",
    " \"T\": {(1, \"John\", 2),\n",
    "       (2, \"likes\", 3),\n",
    "       (3, \"Bill\", 4)}}"
   ]
  },
  {
   "cell_type": "code",
   "execution_count": null,
   "metadata": {},
   "outputs": [],
   "source": [
    "# defining accepts with only two arguments\n",
    "def accepts(sentence, fsa):\n",
    "    \"\"\"Test if FSA accepts sentence.\n",
    "    \n",
    "    The FSA must be a dictionary of the form\n",
    "    \n",
    "    {'I': initial_state,\n",
    "     'F': {final_state1, final_state2, ...},\n",
    "     'T': set of (current_state, label, next_state) tuples}\n",
    "    \n",
    "    Arguments\n",
    "    ---------\n",
    "    sentence: list of strings\n",
    "        tokenized sentence\n",
    "    fsa: dict\n",
    "        finite-state automaton\n",
    "        \n",
    "    Returns\n",
    "    -------\n",
    "    bool\n",
    "    \"\"\"\n",
    "    # set current state\n",
    "    cs = fsa[\"I\"]\n",
    "    # iterate over sentence and follow along in automaton\n",
    "    for word in sentence:\n",
    "        cs = next_state(cs, word, fsa[\"T\"])\n",
    "    # did we make it to a final state?\n",
    "    return True if cs in fsa[\"F\"] else False\n",
    "\n",
    "\n",
    "def next_state(cs, word, T):\n",
    "    \"\"\"Return state reached via word from current state\"\"\"\n",
    "    # list of arcs leaving from cs\n",
    "    transitions = [(label, next_state)\n",
    "                   for (x, label, next_state) in T if x == cs]\n",
    "    # return state reached via word, if it exists\n",
    "    for label, next_state in transitions:\n",
    "        if label == word:\n",
    "            return next_state\n",
    "    # didn't find any arc with word as label\n",
    "    return False"
   ]
  },
  {
   "cell_type": "markdown",
   "metadata": {},
   "source": [
    "As you can see, the code still produces the same results."
   ]
  },
  {
   "cell_type": "code",
   "execution_count": null,
   "metadata": {},
   "outputs": [],
   "source": [
    "new_fsa = {\"I\": 1, \"F\": {4}, \"T\": {(1, \"John\", 2),\n",
    "                                   (2, \"likes\", 3),\n",
    "                                   (3, \"Bill\", 4)}}"
   ]
  },
  {
   "cell_type": "code",
   "execution_count": null,
   "metadata": {},
   "outputs": [],
   "source": [
    "sentence = [\"John\", \"likes\", \"Bill\"]\n",
    "accepts(sentence, new_fsa)"
   ]
  },
  {
   "cell_type": "code",
   "execution_count": null,
   "metadata": {},
   "outputs": [],
   "source": [
    "sentence = [\"John\", \"likes\", \"Sue\"]\n",
    "accepts(sentence, new_fsa)"
   ]
  },
  {
   "cell_type": "markdown",
   "metadata": {},
   "source": [
    "So this is a slight improvement in that it is now less of a hassle to use the function if multiple automata are defined."
   ]
  },
  {
   "cell_type": "code",
   "execution_count": null,
   "metadata": {},
   "outputs": [],
   "source": [
    "import re\n",
    "\n",
    "fsa1 = {\"I\": 1, \"F\": {4}, \"T\": {(1, \"John\", 2),\n",
    "                                (2, \"likes\", 3),\n",
    "                                (3, \"Bill\", 4)}}\n",
    "fsa2 = {\"I\": 1, \"F\": {3}, \"T\": {(1, \"Sue\", 2),\n",
    "                                (2, \"slept\", 3),\n",
    "                                (2, \"snored\", 3),\n",
    "                                (2, \"knows\", 1)}}\n",
    "\n",
    "\n",
    "sentences = [\"John likes Bill\", \"Sue knows Sue snored\", \"John likes Sue\"]\n",
    "for sentence in sentences:\n",
    "    tokenized = re.findall(r\"\\w+\", sentence)\n",
    "    for fsa in [fsa1, fsa2]:\n",
    "        status = \"well-formed\" if accepts(tokenized, fsa) else \"ill-formed\"\n",
    "        print(f\"\\\"{sentence}\\\" is {status}\")\n",
    "    print(\"=\"*20)"
   ]
  },
  {
   "cell_type": "markdown",
   "metadata": {},
   "source": [
    "Doing the same with `I`, `F`, and `T` as parameters would have been more tedious.\n",
    "If you want to see how exactly one could make it work, see the expansion unit.\n",
    "\n",
    "So implementing an FSA as a dictionary is an improvement over the definition with three separate variables.\n",
    "But the current data structure is still not optimal as it makes our code slower than it needs to be.\n",
    "Let's look at that in detail."
   ]
  },
  {
   "cell_type": "markdown",
   "metadata": {},
   "source": [
    "## Performance analysis\n",
    "\n",
    "Here's the current code for our `accepts` function, including its helper function `next_state`."
   ]
  },
  {
   "cell_type": "code",
   "execution_count": null,
   "metadata": {},
   "outputs": [],
   "source": [
    "# defining accepts with only two arguments\n",
    "def accepts(sentence, fsa):\n",
    "    \"\"\"Test if FSA accepts sentence.\n",
    "    \n",
    "    The FSA must be a dictionary of the form\n",
    "    \n",
    "    {'I': initial_state,\n",
    "     'F': {final_state1, final_state2, ...},\n",
    "     'T': set of (current_state, label, next_state) tuples}\n",
    "    \n",
    "    Arguments\n",
    "    ---------\n",
    "    sentence: list of strings\n",
    "        tokenized sentence\n",
    "    fsa: dict\n",
    "        finite-state automaton\n",
    "        \n",
    "    Returns\n",
    "    -------\n",
    "    bool\n",
    "    \"\"\"\n",
    "    # set current state\n",
    "    cs = fsa[\"I\"]\n",
    "    # iterate over sentence and follow along in automaton\n",
    "    for word in sentence:\n",
    "        cs = next_state(cs, word, fsa[\"T\"])\n",
    "    # did we make it to a final state?\n",
    "    return True if cs in fsa[\"F\"] else False\n",
    "\n",
    "\n",
    "def next_state(cs, word, T):\n",
    "    \"\"\"Return state reached via word from current state\"\"\"\n",
    "    # list of arcs leaving from cs\n",
    "    transitions = [(label, next_state)\n",
    "                   for (x, label, next_state) in T if x == cs]\n",
    "    # return state reached via word, if it exists\n",
    "    for label, next_state in transitions:\n",
    "        if label == word:\n",
    "            return next_state\n",
    "    # didn't find any arc with word as label\n",
    "    return False"
   ]
  },
  {
   "cell_type": "markdown",
   "metadata": {},
   "source": [
    "The `accepts` function is pretty simple.\n",
    "Setting `cs` to `fsa[\"I\"]` costs virtually nothing.\n",
    "The function then iterates over the sentence, look at each word once.\n",
    "This, too, is optimal --- how else could you possibly do it?\n",
    "There is no way to tell if a sentence is recognized by an automaton without looking at the words in the sentence, one after the other.\n",
    "If `accepts` looped over the sentence multiple times, there would be room for optimization, but one loop is the best we can do.\n",
    "The `return` line is also very fast.\n",
    "So in sum, `accepts` looks like a reasonable piece of code.\n",
    "\n",
    "But keep in mind that `accepts` calls the `next_state` function once for each word in the sentence.\n",
    "If `next_state` is inefficient, so is `accepts`.\n",
    "And unfortunately, `next_state` is very ineffcient.\n",
    "The first step is to calculate the possible transitions from the current state via a list expression.\n",
    "If the automaton has many transitions, this is a costly step:\n",
    "\n",
    "1. Python has to look at each triple in the transitions set and check if the first component matches the current state.\n",
    "   If an automaton has 10,000 transitions (which isn't unusual in computational linguistics), this means 10,000 checks already at the beginning of the word.\n",
    "1. Python then builds a new list that only contains the relevant transitions.\n",
    "   Again, this list might be large, and constructing large lists is costly.\n",
    "   It costs both time and memory.\n",
    "1. We then iterate over this new list of pairs and check if the first component of each pair matches the current word.\n",
    "   Another iteration over a potentially long list means another loss of time.\n",
    "   \n",
    "As you can see, even one call of `next_state` can already be very costly.\n",
    "If the automaton has 10,000 transitions and 1,000 of those start with current state, `next_state` will look at 11,000 items (10,000 in the first loop, then 1,000 in the second).\n",
    "But `accepts` calls `next_state` for each word in `sentence`!\n",
    "This is slow, slow, slow.\n",
    "In a sentence with 10 words, Python might perform over 100,000 look-ups.\n",
    "\n",
    "Let's see how we could fix this.\n",
    "There's multiple options of increasing efficiency."
   ]
  },
  {
   "cell_type": "markdown",
   "metadata": {},
   "source": [
    "### Option 1: Eliminate the second `for` loop\n",
    "\n",
    "One solution is to use only one `for`-loop instead of two."
   ]
  },
  {
   "cell_type": "code",
   "execution_count": null,
   "metadata": {},
   "outputs": [],
   "source": [
    "def next_state_single_loop(cs, word, T):\n",
    "    \"\"\"Return state reached via word from current state\"\"\"\n",
    "    # list of states reachable from cs via word\n",
    "    reachable = [next_state\n",
    "                 for (x, y, next_state) in T\n",
    "                 if x == cs and y == word]\n",
    "    # return state reached via word, if it exists, else False\n",
    "    return reachable[0] if reachable else False"
   ]
  },
  {
   "cell_type": "markdown",
   "metadata": {},
   "source": [
    "Here we immediately construct a list of reachable states while iterating over the list of all transitions.\n",
    "If the list is empty, we return `False`, and otherwise its first element.\n",
    "\n",
    "In the best case, this cuts time in half: if there are 10,000 transitions and all 10,000 starts in the current state, then `next_state_single_loop` will only look at 10,000 items instead of 20,000.\n",
    "But in practice, a single state doesn't have all that many outgoing arcs, so cutting out the second loop is not as useful as one might think."
   ]
  },
  {
   "cell_type": "markdown",
   "metadata": {},
   "source": [
    "### Option 2: Don't construct a list\n",
    "\n",
    "If you think about it, what's even the point of having a list in `next_state_single_loop`?\n",
    "Recall that we assume that the FSA is deterministic, so at most one state can be reached from the current state via `word`.\n",
    "In that case, we don't need a list.\n",
    "A simple `for`-loop will get the job done in a fashion that's both simpler and faster."
   ]
  },
  {
   "cell_type": "code",
   "execution_count": null,
   "metadata": {},
   "outputs": [],
   "source": [
    "def next_state_nolist(cs, word, T):\n",
    "    \"\"\"Return state reached via word from current state\"\"\"\n",
    "    for x, y, next_state in T:\n",
    "        if x == cs and y == word:\n",
    "            return next_state\n",
    "    return False"
   ]
  },
  {
   "cell_type": "markdown",
   "metadata": {},
   "source": [
    "This solution has two advantages.\n",
    "First, we no longer need to construct a list.\n",
    "Second, we return as soon as the first (and only) match is found.\n",
    "So if, say, we find the next state during iteration 3 and T contains 10,000 transitions, we don't need to look at the remaining 9,997 transitions.\n",
    "Now of course sometimes we might not find the next state until the very last transition, in which case we don't save any time compared to looking at all transitions.\n",
    "But this will happen about as often as the very first transition will be the right one.\n",
    "On average, then, we need to look at roughly 5000 transitions to find the next state.\n",
    "This is yet another reduction by half.\n",
    "We went from 20,000 to 10,000, and now 5,000.\n",
    "But we're still far from optimal."
   ]
  },
  {
   "cell_type": "markdown",
   "metadata": {},
   "source": [
    "### Option 3: Memoizing state transitions\n",
    "\n",
    "Even with `next_state_nolist`, we still compute the next state every time the function is called.\n",
    "We might easily end up recomputing previous results, e.g. with the automaton below."
   ]
  },
  {
   "cell_type": "code",
   "execution_count": null,
   "metadata": {},
   "outputs": [],
   "source": [
    "fsa = {\"I\": 1, \"F\": {2}, \"T\": (1, \"b\", 2),\n",
    "                              (2, \"a\", 3),\n",
    "                              (3, \"n\", 2)}"
   ]
  },
  {
   "cell_type": "markdown",
   "metadata": {},
   "source": [
    "This automaton recognizes truncated and expanded versions of *banana*, including *ba*, *bana*, *bananananana*, and so on.\n",
    "Now suppose that we want to know if the automaton accepts *bananan*.\n",
    "Here's what will be computed step by step:\n",
    "\n",
    "1. What's the next state for *b* from 1?\n",
    "1. What's the next state for *a* from 2?\n",
    "1. What's the next state for *n* from 3?\n",
    "1. What's the next state for *a* from 2?\n",
    "1. What's the next state for *n* from 3?\n",
    "1. What's the next state for *a* from 2?\n",
    "1. What's the next state for *n* from 3?\n",
    "\n",
    "Notice how we keep recomputing the same things!\n",
    "Steps 2, 4, 6 always yield the same result, and so do steps 3, 5, and 7.\n",
    "But instead of storing the results, we keep recomputing them.\n",
    "As you know by now, this is very inefficient.\n",
    "So let's add some dynamic programming via memoization."
   ]
  },
  {
   "cell_type": "code",
   "execution_count": null,
   "metadata": {},
   "outputs": [],
   "source": [
    "def accepts(sentence, fsa):\n",
    "    \"\"\"Test if FSA accepts sentence.\n",
    "    \n",
    "    Now with dynamic programming!\n",
    "    \"\"\"\n",
    "    # set current state\n",
    "    cs = fsa[\"I\"]\n",
    "    # initialize transition memo\n",
    "    memo = {}\n",
    "    # iterate over sentence and follow along in automaton\n",
    "    for word in sentence:\n",
    "        # check memo for known transitions\n",
    "        memo[cs] = memo.get(cs, {})\n",
    "        reached = memo[cs].get(word)\n",
    "        # get cs from memo, if possible, otherwise compute from scratch\n",
    "        if reached:\n",
    "            cs = reached\n",
    "        else:\n",
    "            cs = next_state_nolist(cs, word, fsa[\"T\"])\n",
    "            # memoize the value for future retrieval\n",
    "            memo[cs][word] = cs\n",
    "    # did we make it to a final state?\n",
    "    return True if cs in fsa[\"F\"] else False\n",
    "\n",
    "\n",
    "def next_state_nolist(cs, word, T):\n",
    "    \"\"\"Return state reached via word from current state\"\"\"\n",
    "    for x, y, next_state in T:\n",
    "        if x == cs and y == word:\n",
    "            return next_state\n",
    "    return False"
   ]
  },
  {
   "cell_type": "markdown",
   "metadata": {},
   "source": [
    "This code can be a lot faster since we never have to recompute any steps.\n",
    "As `accepts` works its way through the string, it builds up a dictionary of the FSA's transitions.\n",
    "Here's what this looks like for the *banana* FSA above, starting with `memo = {}`:\n",
    "\n",
    "| **Query** | **In memo?** | **Value** | **Updated memo** |\n",
    "| :--       | :--          | :--       | :--              |\n",
    "| What's the next state for *b* from 1? | N | 2 | `{1: {\"b\": 2}}` |\n",
    "| What's the next state for *a* from 2? | N | 3 | `{1: {\"b\": 2}, 2: {\"a\": 3}}` |\n",
    "| What's the next state for *n* from 3? | N | 2 | `{1: {\"b\": 2}, 2: {\"a\": 3}, 3: {\"n\": 2}}` |\n",
    "| What's the next state for *a* from 2? | Y | 3 | `{1: {\"b\": 2}, 2: {\"a\": 3}, 3: {\"n\": 2}}` |\n",
    "| What's the next state for *n* from 3? | Y | 2 | `{1: {\"b\": 2}, 2: {\"a\": 3}, 3: {\"n\": 2}}` |\n",
    "| What's the next state for *a* from 2? | Y | 3 | `{1: {\"b\": 2}, 2: {\"a\": 3}, 3: {\"n\": 2}}` |\n",
    "| What's the next state for *n* from 3? | Y | 2 | `{1: {\"b\": 2}, 2: {\"a\": 3}, 3: {\"n\": 2}}` |\n",
    "\n",
    "But all the memoization code also makes `accepts` a lot harder to read.\n",
    "And look at the table above.\n",
    "All the transitions of the FSA are also encoded in `memo` as a nested dictionary.\n",
    "This just raises the question, why do we specify the transitions as a set of triples?\n",
    "Let's just use nested dictionaries right away, saving us all the memoization effort!"
   ]
  },
  {
   "cell_type": "markdown",
   "metadata": {},
   "source": [
    "## FSAs with transition dictionaries\n",
    "\n",
    "At the very beginning of this section, we implemented an FSA through three variables:\n",
    "\n",
    "```python\n",
    "I = 1\n",
    "F = {4, 5}\n",
    "T = {(1, \"John\", 2),\n",
    "     (1, \"Sue\", 2),\n",
    "     (2, \"doubt\", 3),\n",
    "     (2, \"left\", 4),\n",
    "     (2, \"really\", 2),\n",
    "     (2, \"thinks\", 3),\n",
    "     (3, \"that\", 1),\n",
    "     (4, \"Bill\", 5)}\n",
    "```\n",
    "\n",
    "We quickly realized that it makes more sense to collect them together in a single dictionary.\n",
    "\n",
    "```python\n",
    "{\"I\": 1,\n",
    " \"F\": {4},\n",
    " \"T\": {(1, \"John\", 2),\n",
    "       (2, \"likes\", 3),\n",
    "       (3, \"Bill\", 4)}}\n",
    "```\n",
    "\n",
    "And now we saw that encoding transitions as triples makes for an inefficient data structure that we need to work around with memoization.\n",
    "Nested dictionaries are a much better choice.\n",
    "\n",
    "```python\n",
    "{\"I\": 1,\n",
    " \"F\": {4},\n",
    " \"T\": {1: {\"John\": 2},\n",
    "       2: {\"likes\": 3},\n",
    "       3: {\"Bill\": 4},\n",
    "      },\n",
    "}\n",
    "```\n",
    "\n",
    "Just look at how simpler `accept` is with this data structure."
   ]
  },
  {
   "cell_type": "code",
   "execution_count": null,
   "metadata": {},
   "outputs": [],
   "source": [
    "def accepts(sentence, fsa):\n",
    "    \"\"\"Test if FSA accepts sentence.\n",
    "    \n",
    "    The FSA must be a dictionary of the form\n",
    "    \n",
    "    {'I': initial_state,\n",
    "     'F': {final_state1, final_state2, ...},\n",
    "     'T': {current_state: {word: next_state}}\n",
    "    \n",
    "    Arguments\n",
    "    ---------\n",
    "    sentence: list of strings\n",
    "        tokenized sentence\n",
    "    fsa: dict\n",
    "        finite-state automaton\n",
    "        \n",
    "    Returns\n",
    "    -------\n",
    "    bool\n",
    "    \"\"\"\n",
    "    # set current state\n",
    "    cs = fsa[\"I\"]\n",
    "    # iterate over sentence and follow along in automaton\n",
    "    for word in sentence:\n",
    "        cs = fsa[\"T\"].get(cs, {}).get(word)\n",
    "        if cs is None:\n",
    "            return False\n",
    "    # did we make it to a final state?\n",
    "    return True if cs in fsa[\"F\"] else False"
   ]
  },
  {
   "cell_type": "markdown",
   "metadata": {},
   "source": [
    "And of course the function still makes the same judgments as the less efficient versions."
   ]
  },
  {
   "cell_type": "code",
   "execution_count": null,
   "metadata": {},
   "outputs": [],
   "source": [
    "fsa = {\"I\": 1,\n",
    "       \"F\": {4},\n",
    "       \"T\": {1: {\"John\": 2},\n",
    "             2: {\"likes\": 3},\n",
    "             3: {\"Bill\": 4}\n",
    "            }\n",
    "      }"
   ]
  },
  {
   "cell_type": "code",
   "execution_count": null,
   "metadata": {},
   "outputs": [],
   "source": [
    "sentence = [\"John\", \"likes\", \"Bill\"]\n",
    "accepts(sentence, fsa)"
   ]
  },
  {
   "cell_type": "code",
   "execution_count": null,
   "metadata": {},
   "outputs": [],
   "source": [
    "sentence = [\"John\", \"likes\", \"Sue\"]\n",
    "accepts(sentence, fsa)"
   ]
  },
  {
   "cell_type": "markdown",
   "metadata": {},
   "source": [
    "This is another example of the importance of good data structures.\n",
    "A bad data structure will make it very hard to write elegant and efficient code.\n",
    "With a good data structure, good code comes about almost by itself.\n",
    "\n",
    "Of course the data structure above could still be improved on.\n",
    "Dictionaries consume quite a bit of memory, so a professional software engineer might want to design a new data structure from scratch just for transitions.\n",
    "A very different route uses a mathematical theorem to translate recognition by an FSA into an instance of Boolean matrix multiplication (fancy term, huh?).\n",
    "This would take us too far, though --- if you're curious about this there's some advanced readings I can give you.\n",
    "\n",
    "But there's still one thing that's annoying about the current setup:\n",
    "Our function presupposes a very specific FSA, and any deviation from that will make it misbehave (e.g. if there is a set of initial states).\n",
    "The function and the data structure for FSAs are so tightly tied together that it makes no sense to make the function with anything else.\n",
    "Python provides us with the means to directly couple functions to the data structures they operate on: **classes**.\n",
    "Check the next notebook for the gory details (don't worry, it's actually pretty simple)."
   ]
  },
  {
   "cell_type": "markdown",
   "metadata": {},
   "source": [
    "## Bullet point summary\n",
    "\n",
    "- Finite-state automata are a powerful alternative to n-gram models, but their implementation is trickier.\n",
    "- Good code needs good data structures.\n",
    "- If possible, avoid iterating over the same thing multiple times (sometimes it cannot be avoided, though).\n",
    "- Try to avoid recomputing results:\n",
    "    - memoization if necessary\n",
    "    - but a good data structure is preferable"
   ]
  }
 ],
 "metadata": {
  "kernelspec": {
   "display_name": "Python 3",
   "language": "python",
   "name": "python3"
  },
  "language_info": {
   "codemirror_mode": {
    "name": "ipython",
    "version": 3
   },
   "file_extension": ".py",
   "mimetype": "text/x-python",
   "name": "python",
   "nbconvert_exporter": "python",
   "pygments_lexer": "ipython3",
   "version": "3.7.2+"
  }
 },
 "nbformat": 4,
 "nbformat_minor": 2
}
