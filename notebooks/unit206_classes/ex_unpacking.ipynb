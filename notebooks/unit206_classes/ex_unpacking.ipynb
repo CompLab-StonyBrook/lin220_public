{
 "cells": [
  {
   "cell_type": "markdown",
   "metadata": {},
   "source": [
    "# (Un)Packing containers\n",
    "\n",
    "In the first notebook of this unit, I said that we want each FSA to be held by a single variable so that we can easily iterate over multiple FSAs.\n",
    "This expansion unit explains why this isn't actually necessary and why we could have used Python's **unpacking** abilities instead.\n",
    "This is a very nifty trick, and once you understand how it works you can use its counterpart **packing**.\n",
    "With packing, you can define functions that take an arbitrary number of arguments."
   ]
  },
  {
   "cell_type": "markdown",
   "metadata": {},
   "source": [
    "## First some setup\n",
    "\n",
    "Since this expansion unit builds directly on the first notebook, we have to carry over a few function definitions first.\n",
    "Make sure to run the cell below"
   ]
  },
  {
   "cell_type": "code",
   "execution_count": null,
   "metadata": {},
   "outputs": [],
   "source": [
    "# defining accepts with only two arguments\n",
    "def accepts(sentence, fsa):\n",
    "    \"\"\"Test if FSA accepts sentence.\"\"\"\n",
    "    # set current state\n",
    "    cs = fsa[\"I\"]\n",
    "    # iterate over sentence and follow along in automaton\n",
    "    for word in sentence:\n",
    "        cs = next_state_nolist(cs, word, fsa[\"T\"])\n",
    "    # did we make it to a final state?\n",
    "    return True if cs in fsa[\"F\"] else False\n",
    "\n",
    "\n",
    "def next_state_nolist(cs, word, T):\n",
    "    \"\"\"Return state reached via word from current state\"\"\"\n",
    "    for x, y, next_state in T:\n",
    "        if x == cs and y == word:\n",
    "            return next_state\n",
    "    return False"
   ]
  },
  {
   "cell_type": "markdown",
   "metadata": {},
   "source": [
    "## A first look at unpacking\n",
    "\n",
    "Originally we defined each FSA as three separate variables `I`, `F`, and `T`.\n",
    "But then we switched to a dictionary instead.\n",
    "This made it easy to iterate over multiple automata as in the code below."
   ]
  },
  {
   "cell_type": "code",
   "execution_count": null,
   "metadata": {},
   "outputs": [],
   "source": [
    "import re\n",
    "\n",
    "fsa1 = {\"I\": 1, \"F\": {4}, \"T\": {(1, \"John\", 2),\n",
    "                                (2, \"likes\", 3),\n",
    "                                (3, \"Bill\", 4)}}\n",
    "fsa2 = {\"I\": 1, \"F\": {3}, \"T\": {(1, \"Sue\", 2),\n",
    "                                (2, \"slept\", 3),\n",
    "                                (2, \"snored\", 3),\n",
    "                                (2, \"knows\", 1)}}\n",
    "\n",
    "\n",
    "sentences = [\"John likes Bill\", \"Sue knows Sue snored\", \"John likes Sue\"]\n",
    "for sentence in sentences:\n",
    "    tokenized = re.findall(r\"\\w+\", sentence)\n",
    "    for fsa in [fsa1, fsa2]:\n",
    "        status = \"well-formed\" if accepts(tokenized, fsa) else \"ill-formed\"\n",
    "        print(f\"\\\"{sentence}\\\" is {status}\")\n",
    "    print(\"=\"*20)"
   ]
  },
  {
   "cell_type": "markdown",
   "metadata": {},
   "source": [
    "But now suppose that we still had the format with three distinct variables.\n",
    "This also means that we would have a slightly different definition of `accepts`."
   ]
  },
  {
   "cell_type": "code",
   "execution_count": null,
   "metadata": {},
   "outputs": [],
   "source": [
    "def accepts(sentence, I, F, T):\n",
    "    \"\"\"Test if FSA accepts sentence. Takes 3 separate arguments for FSA.\"\"\"\n",
    "    # set current state\n",
    "    cs = I\n",
    "    # iterate over sentence and follow along in automaton\n",
    "    for word in sentence:\n",
    "        cs = next_state_nolist(cs, word, T)\n",
    "    # did we make it to a final state?\n",
    "    return True if cs in F else False"
   ]
  },
  {
   "cell_type": "markdown",
   "metadata": {},
   "source": [
    "Could we do the same iteration as above?\n",
    "It's tricky.\n",
    "Here's an attempt that doesn't work."
   ]
  },
  {
   "cell_type": "code",
   "execution_count": null,
   "metadata": {},
   "outputs": [],
   "source": [
    "import re\n",
    "\n",
    "I1 = 1\n",
    "F1 = {4}\n",
    "T1 = {(1, \"John\", 2),\n",
    "      (2, \"likes\", 3),\n",
    "      (3, \"Bill\", 4)}\n",
    "\n",
    "I2 = 1\n",
    "F2 = {3}\n",
    "T2 = {(1, \"Sue\", 2),\n",
    "      (2, \"slept\", 3),\n",
    "      (2, \"snored\", 3),\n",
    "      (2, \"knows\", 1)}\n",
    "\n",
    "\n",
    "sentences = [\"John likes Bill\", \"Sue knows Sue snored\", \"John likes Sue\"]\n",
    "for sentence in sentences:\n",
    "    tokenized = re.findall(r\"\\w+\", sentence)\n",
    "    for I, F, T in [I1, F1, T1, I2, F2, T2]:\n",
    "        status = \"well-formed\" if accepts(tokenized, I, F, T) else \"ill-formed\"\n",
    "        print(f\"\\\"{sentence}\\\" is {status}\")\n",
    "    print(\"=\"*20)"
   ]
  },
  {
   "cell_type": "markdown",
   "metadata": {},
   "source": [
    "However, a minor change to this is sufficient to get it to work."
   ]
  },
  {
   "cell_type": "code",
   "execution_count": null,
   "metadata": {},
   "outputs": [],
   "source": [
    "for sentence in sentences:\n",
    "    tokenized = re.findall(r\"\\w+\", sentence)\n",
    "    for I, F, T in [[I1, F1, T1], [I2, F2, T2]]:\n",
    "        status = \"well-formed\" if accepts(tokenized, I, F, T) else \"ill-formed\"\n",
    "        print(f\"\\\"{sentence}\\\" is {status}\")\n",
    "    print(\"=\"*20)"
   ]
  },
  {
   "cell_type": "markdown",
   "metadata": {},
   "source": [
    "This might not be surprising to you at all because we've already seen it before in variable assignments."
   ]
  },
  {
   "cell_type": "code",
   "execution_count": null,
   "metadata": {},
   "outputs": [],
   "source": [
    "a, b = [3, 5]\n",
    "print(a)\n",
    "print(b)"
   ]
  },
  {
   "cell_type": "markdown",
   "metadata": {},
   "source": [
    "The `for`-loop above generalizes this idea.\n",
    "First, each step of the `for`-loop takes one item out of `[[I1, F1, T1], [I2, F2, T2]]`.\n",
    "This is a list containing lists, so the first item is `[I1, F1, T1]`.\n",
    "Since we use three variables `I`, `F`, `T` instead of a single variable `fsa`, Python realizes that we want to do the equivalent of\n",
    "\n",
    "```python\n",
    "I, F, T = [I1, F1, T1]\n",
    "```\n",
    "\n",
    "And that's all there is to this.\n",
    "We have successfully iterated over multiple automata without a unified data structure for FSAs.\n",
    "\n",
    "But things don't stop here.\n",
    "Instead of the code above, we could have also used a `for`-loop with just one variable, followed by **list unpacking**."
   ]
  },
  {
   "cell_type": "code",
   "execution_count": null,
   "metadata": {},
   "outputs": [],
   "source": [
    "for sentence in sentences:\n",
    "    tokenized = re.findall(r\"\\w+\", sentence)\n",
    "    for fsa in [[I1, F1, T1], [I2, F2, T2]]:\n",
    "        status = \"well-formed\" if accepts(tokenized, *fsa) else \"ill-formed\"\n",
    "        print(f\"\\\"{sentence}\\\" is {status}\")\n",
    "    print(\"=\"*20)"
   ]
  },
  {
   "cell_type": "markdown",
   "metadata": {},
   "source": [
    "For comparison, here's a piece of code that doesn't work."
   ]
  },
  {
   "cell_type": "code",
   "execution_count": null,
   "metadata": {},
   "outputs": [],
   "source": [
    "for sentence in sentences:\n",
    "    tokenized = re.findall(r\"\\w+\", sentence)\n",
    "    for fsa in [[I1, F1, T1], [I2, F2, T2]]:\n",
    "        status = \"well-formed\" if accepts(tokenized, fsa) else \"ill-formed\"\n",
    "        print(f\"\\\"{sentence}\\\" is {status}\")\n",
    "    print(\"=\"*20)"
   ]
  },
  {
   "cell_type": "markdown",
   "metadata": {},
   "source": [
    "Can you spot the difference?\n",
    "The first version uses `accepts(tokenized, *fsa)`, the second one `accepts(tokenized, fsa)`.\n",
    "The `*` tells Python to **unpack** the list before passing it into `accepts`.\n",
    "In other words, instead of `accepts(tokenized, [I1, F1, T1])`, Python runs `accepts(tokenized, I1, F1, T1)`.\n",
    "Unpacking is the kind of technique that you might not need all the time, but when you need it you really need it.\n",
    "So it's good to have it in your toolbox."
   ]
  },
  {
   "cell_type": "markdown",
   "metadata": {},
   "source": [
    "## Examples of unpacking\n",
    "\n",
    "Intuitively, list unpacking replaces a list by a sequence of its items.\n",
    "The effect of that is most easily seen in a `for`-loop."
   ]
  },
  {
   "cell_type": "code",
   "execution_count": null,
   "metadata": {},
   "outputs": [],
   "source": [
    "print(\"Iterating over list with two lists\")\n",
    "for x in [[0, 1], [2, 3]]:\n",
    "    print(x)\n",
    "    \n",
    "print()\n",
    "    \n",
    "print(\"Iterating over list with four items\")\n",
    "for x in [0, 1, 2, 3]:\n",
    "    print(x)\n",
    "\n",
    "print()\n",
    "\n",
    "print(\"Iterating over list with two unpacked lists.\")\n",
    "print(\"It looks exactly the same as the list with four items.\")\n",
    "for x in [*[0, 1], *[2, 3]]:\n",
    "    print(x)"
   ]
  },
  {
   "cell_type": "markdown",
   "metadata": {},
   "source": [
    "Unpacking isn't actually limited to lists, it works with just about any kind of container."
   ]
  },
  {
   "cell_type": "code",
   "execution_count": null,
   "metadata": {},
   "outputs": [],
   "source": [
    "print(\"Iterating over a list with unpacked dictionaries\")\n",
    "for x in [*{\"a\": 1, \"b\": 2}, *{\"c\": 3, \"d\": 4}]:\n",
    "    print(x)\n",
    "    \n",
    "print()\n",
    "\n",
    "print(\"Iterating over a list with unpacked sets\")\n",
    "for x in [*{\"a\", \"b\"}, *{\"c\", \"d\"}]:\n",
    "    print(x)\n",
    "    \n",
    "print()\n",
    "\n",
    "print(\"Iterating over a list with unpacked tuples\")\n",
    "for x in [*(\"a\", \"b\"), *(\"c\", \"d\")]:\n",
    "    print(x)\n",
    "\n",
    "print()\n",
    "\n",
    "print(\"Iterating over a list with unpacked strings\")\n",
    "for x in [*\"ab\", *\"cd\"]:\n",
    "    print(x)"
   ]
  },
  {
   "cell_type": "markdown",
   "metadata": {},
   "source": [
    "Any kind of container can be unpacked this way."
   ]
  },
  {
   "cell_type": "markdown",
   "metadata": {},
   "source": [
    "Alright, nifty, but what is any of that good for?"
   ]
  },
  {
   "cell_type": "markdown",
   "metadata": {},
   "source": [
    "## Practical uses of unpacking\n",
    "\n",
    "Unpacking is useful whenever you have a collection of containers but want to iterate over all their elements, rather than the containers themselves.\n",
    "Suppose you have a collection of wordlists that you want to extract character n-grams from.\n",
    "One option is to use two nested `for`-loops."
   ]
  },
  {
   "cell_type": "code",
   "execution_count": null,
   "metadata": {},
   "outputs": [],
   "source": [
    "from nltk.corpus import brown, words\n",
    "\n",
    "def extract_chargrams(word, n=2):\n",
    "    return [word[m:m+n] for m in range(len(word) - (n -1))]\n",
    "\n",
    "\n",
    "charbigrams = []\n",
    "for wordlist in [brown.words()[:20], words.words()[:20]]:\n",
    "    for word in wordlist:\n",
    "        charbigrams += extract_chargrams(word)\n",
    "        \n",
    "print(charbigrams[:10])"
   ]
  },
  {
   "cell_type": "markdown",
   "metadata": {},
   "source": [
    "But instead we can use a single `for`-loop with unpacking."
   ]
  },
  {
   "cell_type": "code",
   "execution_count": null,
   "metadata": {},
   "outputs": [],
   "source": [
    "from nltk.corpus import brown, words\n",
    "\n",
    "def extract_chargrams(word, n=2):\n",
    "    return [word[m:m+n] for m in range(len(word) - (n -1))]\n",
    "\n",
    "\n",
    "charbigrams = []\n",
    "for word in [*brown.words()[:20], *words.words()[:20]]:\n",
    "    charbigrams += extract_chargrams(word)\n",
    "        \n",
    "print(charbigrams[:10])"
   ]
  },
  {
   "cell_type": "markdown",
   "metadata": {},
   "source": [
    "Unpacking is particularly useful if you want to bundle up possible parameters values for a function."
   ]
  },
  {
   "cell_type": "code",
   "execution_count": null,
   "metadata": {},
   "outputs": [],
   "source": [
    "def circumfixation(stem, prefix, suffix):\n",
    "    return prefix + stem + suffix\n",
    "\n",
    "circumfix1 = (\"anti-\", \"-missile\")\n",
    "\n",
    "print(circumfixation(\"tank\", *circumfix1))"
   ]
  },
  {
   "cell_type": "markdown",
   "metadata": {},
   "source": [
    "Speaking of functions, `*` can also be used in the definition of a function, as we'll see next."
   ]
  },
  {
   "cell_type": "markdown",
   "metadata": {},
   "source": [
    "## Using `*` for packing instead of unpacking\n",
    "\n",
    "Sometimes you might want to write a function that can take an arbitrary number of arguments.\n",
    "The **only** way to do this it with the counterpart of unpacking, which is argument packing."
   ]
  },
  {
   "cell_type": "code",
   "execution_count": null,
   "metadata": {},
   "outputs": [],
   "source": [
    "def funcatenate(*words):\n",
    "    output = \"funcatenating:\"\n",
    "    sep = \" ^-^\"\n",
    "    for word in words:\n",
    "        output += \" \" + word + sep\n",
    "    return output\n",
    "\n",
    "\n",
    "print(funcatenate(\"this\", \"function\", \"takes\", \"an\", \"unlimited\", \"number\", \"of\", \"arguments\"))"
   ]
  },
  {
   "cell_type": "markdown",
   "metadata": {},
   "source": [
    "So by using `*words`, we tell Python to collect all the arguments into a list `words`, which we can then use in the usual fashion.\n",
    "By the way, this includes slicing."
   ]
  },
  {
   "cell_type": "code",
   "execution_count": null,
   "metadata": {},
   "outputs": [],
   "source": [
    "def funcatenate(*words):\n",
    "    output = \"funcatenating:\"\n",
    "    sep = \" ^-^\"\n",
    "    for word in words[2:]:\n",
    "        output += \" \" + word + sep\n",
    "    return output\n",
    "\n",
    "print(funcatenate(\"this\", \"function\", \"ignores\", \"the\", \"first\", \"two\", \"arguments\"))\n",
    "print(funcatenate(\"nothing\", \"here\"))"
   ]
  },
  {
   "cell_type": "markdown",
   "metadata": {},
   "source": [
    "We can also leave some arguments unpacked so that they can be referenced separately."
   ]
  },
  {
   "cell_type": "code",
   "execution_count": null,
   "metadata": {},
   "outputs": [],
   "source": [
    "def funcatenate(start, finale, *words):\n",
    "    output = start + \":\"\n",
    "    sep = \" ^-^\"\n",
    "    for word in words:\n",
    "        output += \" \" + word + sep\n",
    "    return output + finale\n",
    "\n",
    "print(funcatenate(\"still funcatenating\", \" !!!\", \"this\", \"goes\", \"in\", \"the\", \"middle\"))"
   ]
  },
  {
   "cell_type": "markdown",
   "metadata": {},
   "source": [
    "Note that normal arguments should occur before the packed ones, otherwise Python will complain about missing arguments."
   ]
  },
  {
   "cell_type": "code",
   "execution_count": null,
   "metadata": {},
   "outputs": [],
   "source": [
    "def funcatenate(start, *words, finale):\n",
    "    output = start + \":\"\n",
    "    sep = \" ^-^\"\n",
    "    for word in words:\n",
    "        output += \" \" + word + sep\n",
    "    return output + finale\n",
    "\n",
    "print(funcatenate(\"still funcatenating\", \"this\", \"goes\", \"in\", \"the\", \"middle\", \" !!!\"))"
   ]
  },
  {
   "cell_type": "markdown",
   "metadata": {},
   "source": [
    "If you absolutely want some normal argument to occur before the packed ones, each function call must specify this argument by name like `finale` in the example below."
   ]
  },
  {
   "cell_type": "code",
   "execution_count": null,
   "metadata": {},
   "outputs": [],
   "source": [
    "def funcatenate(start, *words, finale):\n",
    "    output = start + \":\"\n",
    "    sep = \" ^-^\"\n",
    "    for word in words:\n",
    "        output += \" \" + word + sep\n",
    "    return output + finale\n",
    "\n",
    "print(funcatenate(\"still funcatenating\", \"this\", \"goes\", \"in\", \"the\", \"middle\", finale=\" !!!\"))"
   ]
  },
  {
   "cell_type": "markdown",
   "metadata": {},
   "source": [
    "## A final test\n",
    "\n",
    "Alright, there was a fair amount of new stuff in this expansion unit.\n",
    "The ideas are very simple, but the fact that `*` is used for both packing and unpacking can be confusing.\n",
    "So as a final test of your understand, try to make sense of the code below.\n",
    "Needless to say, this code is deliberately unreadable."
   ]
  },
  {
   "cell_type": "code",
   "execution_count": null,
   "metadata": {},
   "outputs": [],
   "source": [
    "def rapid_growth(x, y, *zs):\n",
    "    n = x * y\n",
    "    for z in zs:\n",
    "        n **= z\n",
    "    return n\n",
    "\n",
    "\n",
    "for r in [(3, 5), (10, 15)]:\n",
    "    print(rapid_growth(1, 2, *range(*r)))"
   ]
  },
  {
   "cell_type": "markdown",
   "metadata": {},
   "source": [
    "## Bullet point summary\n",
    "\n",
    "- Any container `con` can be unpacked with `*con`.\n",
    "  Unpacking breaks the container down into its elements.\n",
    "- Unpacking is useful with `for`-loops and for passing arguments into a function.\n",
    "- When `*` is used in the definition of a function's arguments, it packs arguments into a list.\n",
    "- Argument packing is needed when a function should take an unlimited number of argument."
   ]
  }
 ],
 "metadata": {
  "kernelspec": {
   "display_name": "Python 3",
   "language": "python",
   "name": "python3"
  },
  "language_info": {
   "codemirror_mode": {
    "name": "ipython",
    "version": 3
   },
   "file_extension": ".py",
   "mimetype": "text/x-python",
   "name": "python",
   "nbconvert_exporter": "python",
   "pygments_lexer": "ipython3",
   "version": "3.7.2+"
  }
 },
 "nbformat": 4,
 "nbformat_minor": 2
}
