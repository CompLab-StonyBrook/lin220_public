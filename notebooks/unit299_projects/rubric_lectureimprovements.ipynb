{
 "cells": [
  {
   "cell_type": "markdown",
   "metadata": {},
   "source": [
    "# Rubric for improving the lecture notebooks\n",
    "\n",
    "Improvements for a given notebook `xyz.ipynb` should go into the following files:\n",
    "\n",
    "1. changes to the text in `xyz_text.ipynb`\n",
    "1. practice exercises in `xyz_exercises.ipynb`\n",
    "1. solutions in `xyz_solutions.ipynb`\n",
    "\n",
    "Your improvements are graded on a 5 point scale.\n",
    "If you want to work on a coding project instead, check the other rubric."
   ]
  },
  {
   "cell_type": "markdown",
   "metadata": {},
   "source": [
    "## Enhancing 3 units (F/P)\n",
    "\n",
    "- You have to provide enhancements for all the notebooks in three distinct units (where a unit is a folder in your `Python` folder).\n",
    "  For each notebook, you should provide\n",
    "  1. suggestions for improving clarity of the notebook: this includes questions you have, rephrasings of passages you find confusing, and additional examples\n",
    "  1. additional practice exercises for the materials covered in the notebook (similar to LIN120 practice exercises)\n",
    "  1. solutions to the practice exercises (similar to the homework solutions distributed in this course)\n",
    "\n",
    "- If you pick a recap unit, you do not have to cover all topics in there (it would be way too much).\n",
    "  Instead, pick a major topic of that recap unit, e.g. list expressions or regular expressions.\n",
    "\n",
    "- This criterion does not add any points, but **failing this criterion automatically means 0 out of 5 points.**\n",
    "\n",
    "- Each one of the other criteria adds one point."
   ]
  },
  {
   "cell_type": "markdown",
   "metadata": {},
   "source": [
    "## Practice exercises of varying complexity (1 point)\n",
    "\n",
    "Your collection of practice exercises should cover both the simple basics (e.g. how to use `return` in a function) but also some more subtle points that are easy to miss for beginners (e.g. how `return` behaves inside a `for`-loop).\n",
    "\n",
    "In general, the practice exercises for a given topic should have a smooth transition from simple to complex.\n",
    "Here is an example outline of what this could look like for list expressions:\n",
    "\n",
    "1. Simplest case: What does `[2*n for n in [1, 5, 10]]` do?\n",
    "1. Switch from passive to active knowledge: now the student has to write list expressions of their own.\n",
    "1. Increase complexity: examples with `if` in the list expression; first passive, then active\n",
    "1. Increase complexity: more complex functions than just `2*n`; first passive, then active\n",
    "1. Increase complexity: examples with multiple `for` loops; first passive, then active\n",
    "1. Increase complexity: list expressions inside list expressions; first passive, then active\n",
    "1. Variation: set expressions, dictionary expressions"
   ]
  },
  {
   "cell_type": "markdown",
   "metadata": {},
   "source": [
    "## Detailed  solutions (1 point)\n",
    "\n",
    "Solutions should be provided for every practice exercise.\n",
    "Solutions shouldn't just present the correct answer, but also explain alternative solutions, and why some are better than others in certain situations.\n",
    "They should also discuss what kind of code does **not** work.\n",
    "Try to anticipate common student mistakes and discuss them in the solutions."
   ]
  },
  {
   "cell_type": "markdown",
   "metadata": {},
   "source": [
    "## Clarity of writing (1 point)\n",
    "\n",
    "Make sure that your writing is crystal clear.\n",
    "This includes:\n",
    "\n",
    "1. instructions for exercises\n",
    "1. explanations in solutions\n",
    "1. any suggested rewordings\n",
    "\n",
    "Common traps:\n",
    "\n",
    "- unclear scope (\"Every variable isn't availabe inside the function\"; so, none at all or just some?)\n",
    "- sentences that are too long, wall-of-text without paragraphs\n",
    "- lack of punctuation\n",
    "- lack of examples\n",
    "- unclear reference (\"The function `foo` returns a list of n-grams, but it is insufficient for this task.\" What's *it*? The function? The list? Or is this just expletive *it*?)"
   ]
  },
  {
   "cell_type": "markdown",
   "metadata": {},
   "source": [
    "## Fun (1 point)\n",
    "\n",
    "Python can make for dry reading, so anything you do to make the material more entertaining is highly welcome.\n",
    "This may include jokes, pop-culture references, adding pictures, creative exercises that mix things up instead of following the same rut over and over again, and much more.\n",
    "Be creative, and think about what would be fun for you to read!"
   ]
  },
  {
   "cell_type": "markdown",
   "metadata": {},
   "source": [
    "## Your own innovations (1 point)\n",
    "\n",
    "The rubric so far has outlined specific formats for learning.\n",
    "But as a student taking this course, you probably have ideas of your own for how the experience could be improved and the learning curve could be flattened out a bit.\n",
    "Pick one of them, and try to incorporate it into your notebooks.\n",
    "This could be a small piece of code that keeps reappearing and growing as new techniques are mastered, a screencast, links to online materials that you found very helpful, or something completely different.\n",
    "This is really about you reflecting on your learning experience and using it as a source for innovations that would'nt have occured to me."
   ]
  }
 ],
 "metadata": {
  "kernelspec": {
   "display_name": "Python 3",
   "language": "python",
   "name": "python3"
  },
  "language_info": {
   "codemirror_mode": {
    "name": "ipython",
    "version": 3
   },
   "file_extension": ".py",
   "mimetype": "text/x-python",
   "name": "python",
   "nbconvert_exporter": "python",
   "pygments_lexer": "ipython3",
   "version": "3.7.3rc1"
  }
 },
 "nbformat": 4,
 "nbformat_minor": 2
}
