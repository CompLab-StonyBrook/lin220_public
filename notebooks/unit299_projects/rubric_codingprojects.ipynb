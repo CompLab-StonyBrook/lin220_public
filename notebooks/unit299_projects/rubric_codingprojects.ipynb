{
 "cells": [
  {
   "cell_type": "markdown",
   "metadata": {},
   "source": [
    "# Rubric for coding projects\n",
    "\n",
    "Each coding project should be written as a notebook (if you're creating the notebook yourself, make sure the kernel is set to Python3).\n",
    "\n",
    "Each coding project is graded on a 5 point scale, according to the criteria below.\n",
    "If you're improving the lecture notes instead, check the other rubric."
   ]
  },
  {
   "cell_type": "markdown",
   "metadata": {},
   "source": [
    "## Code must run and work (F/P)\n",
    "\n",
    "- When given input of the correct form, your code must execute without crashing (no *syntactic* bugs).\n",
    "\n",
    "- Your code must be reasonably close to solving the problem.\n",
    "  For example, the spellchecker below meets the criterion of running without crashing and being bug-free, but it obviously is a horrible spellchecker:"
   ]
  },
  {
   "cell_type": "code",
   "execution_count": 2,
   "metadata": {},
   "outputs": [],
   "source": [
    "def is_misspelled(word):\n",
    "    return True"
   ]
  },
  {
   "cell_type": "markdown",
   "metadata": {},
   "source": [
    "- This criterion does not add any points, but **failing this criterion automatically means 0 out of 5 points.**\n",
    "\n",
    "- Each one of the other criteria adds one point."
   ]
  },
  {
   "cell_type": "markdown",
   "metadata": {},
   "source": [
    "## Code must be bug-free (1 point)\n",
    "\n",
    "- Your code should be free of *semantic* bugs.\n",
    "  A semantic bug does not crash the program, but it makes it do things that weren't intended.\n",
    "  For instance, if you have a piece of code that misbehaves on some inputs and extracts word bigrams from a list of words instead of character bigrams from the words in those lists, that's a semantic bug."
   ]
  },
  {
   "cell_type": "markdown",
   "metadata": {},
   "source": [
    "## Code should be modular and scalable (1 point)\n",
    "\n",
    "- Your solution should be general enough to be easily extended to slightly different problems.\n",
    "  For instance, if your task requires a trigram model, it should be easy enough to adapt the code for any arbitrary n-gram model.\n",
    "\n",
    "- Here's an example of code that fails this criterion because it cannot work with n-grams of arbitrary size."
   ]
  },
  {
   "cell_type": "code",
   "execution_count": 3,
   "metadata": {},
   "outputs": [],
   "source": [
    "def trigram_freq(trigram, prefix_tree):\n",
    "    \"\"\"Get trigram frequency from prefix tree.\"\"\"\n",
    "    first = trigram[0]\n",
    "    second = trigram[1]\n",
    "    third = trigram[2]\n",
    "    freq = \"_freq\"\n",
    "    return prefix_tree.get(first).get(second).get(third).get(freq)"
   ]
  },
  {
   "cell_type": "markdown",
   "metadata": {},
   "source": [
    "- The following piece of code for bigram extraction meets the condition.\n",
    "  Even though it is written for bigrams, it can easily be generalized to arbitrary n-grams:"
   ]
  },
  {
   "cell_type": "code",
   "execution_count": 4,
   "metadata": {},
   "outputs": [],
   "source": [
    "def extract_bigrams(sentence):\n",
    "    \"\"\"Extract bigrams from tokenized sentence.\"\"\"\n",
    "    return [sentence[m:m+2] for m in range(len(sentence) - 1)]"
   ]
  },
  {
   "cell_type": "markdown",
   "metadata": {},
   "source": [
    "## Code should follow good coding practices (1 point)\n",
    "\n",
    "- Use functions.\n",
    "  Don't just put everything into a single function.\n",
    "\n",
    "- Functions must have docstrings.\n",
    "  For simple functions, a single line description suffices.\n",
    "  For more complex ones, specify arguments, return value, examples, and so on.\n",
    "\n",
    "- Complicated parts of the code should be clarified with comments.\n",
    "\n",
    "- Where appropriate, use classes.\n",
    "\n",
    "- Use meaningful names for variables, functions, and classes.\n",
    "\n",
    "- Aim for simple, elegant code that is easy to read.\n",
    "  Below is an example of a particular crude piece of code, with several alternatives of increasing elegance:"
   ]
  },
  {
   "cell_type": "code",
   "execution_count": 7,
   "metadata": {},
   "outputs": [],
   "source": [
    "# a crude piece of code\n",
    "def keyval_swapper(some_dict):\n",
    "    \"Swap keys and values in dictionary.\"\n",
    "    tmp = []\n",
    "    for k in some_dict.keys():\n",
    "        for v in some_dict.values():\n",
    "            tmp2 = (v, k)\n",
    "            tmp.append(tmp2)\n",
    "    new_dict = dict(tmp)\n",
    "    return new_dict"
   ]
  },
  {
   "cell_type": "code",
   "execution_count": 8,
   "metadata": {},
   "outputs": [],
   "source": [
    "# simplified for-loop\n",
    "def keyval_swapper(some_dict):\n",
    "    \"Swap keys and values in dictionary.\"\n",
    "    tmp = []\n",
    "    for k, v in some_dict.items():\n",
    "        tmp2 = (v, k)\n",
    "        tmp.append(tmp2)\n",
    "    new_dict = dict(tmp)"
   ]
  },
  {
   "cell_type": "code",
   "execution_count": 9,
   "metadata": {},
   "outputs": [],
   "source": [
    "# redundant variables removed\n",
    "def keyval_swapper(some_dict):\n",
    "    \"Swap keys and values in dictionary.\"\n",
    "    tmp = []\n",
    "    for k, v in some_dict.items():\n",
    "        tmp.append( (v, k) )\n",
    "    return dict(tmp)"
   ]
  },
  {
   "cell_type": "code",
   "execution_count": 10,
   "metadata": {},
   "outputs": [],
   "source": [
    "# use list expression instead of for loop\n",
    "def keyval_swapper(some_dict):\n",
    "    \"Swap keys and values in dictionary.\"\n",
    "    tmp = [(v, k) for k, v in some_dict.items()]\n",
    "    return dict(tmp)"
   ]
  },
  {
   "cell_type": "code",
   "execution_count": 11,
   "metadata": {},
   "outputs": [],
   "source": [
    "# construct new_dict via dictionary expression\n",
    "def keyval_swapper(some_dict):\n",
    "    \"Swap keys and values in dictionary.\"\n",
    "    return {v: k for k, v in some_dict.items()}"
   ]
  },
  {
   "cell_type": "markdown",
   "metadata": {},
   "source": [
    "## Code should come with test cases (1 point)\n",
    "\n",
    "- Specify a list of problems that your code should be tested on.\n",
    "  This can be done as part of each function's docstring by providing examples there."
   ]
  },
  {
   "cell_type": "markdown",
   "metadata": {},
   "source": [
    "### Code should have written documentation (1 point)\n",
    "\n",
    "- Every good piece of software comes with documentation that describes its usage and design.\n",
    "  This includes:\n",
    "\n",
    "  - what the software is good for\n",
    "  - how it should be used\n",
    "  - important aspects of the implementation  (for instance, if it takes very long to run with large inputs)\n",
    "\n",
    "- For simple projects (like yours will probably be), this can be very short and can be added at the beginning of the notebook.\n",
    "  An example:\n",
    "\n",
    "> DJ: A Python script for detecting dad jokes\n",
    "> ===========================================\n",
    ">\n",
    "> This Python script is used to calculate what percentage of tweets contain lame dad jokes.\n",
    "> For now, it only calculates the number of tweets with hashtag #metoo that contain the phrase \"me three\" or \"methree\".\n",
    "> But additional matches can be passed in as a dictionary.\n",
    "> You have to have a key for the Twitter API in order to use it.\n",
    "> Just run the code in the cell, then wait.\n",
    "> Depending on your internet connection, the first run might take over an hour.\n",
    "> Results are cached, so future runs should take less time."
   ]
  },
  {
   "cell_type": "markdown",
   "metadata": {},
   "source": [
    "## Optional: Give your code a catchy name (just for fun)\n",
    "\n",
    "- Software relies on good naming to attract attention and convey what they're about.\n",
    "\n",
    "  For instance, there is a finite-state automaton library for handling phonological and morphological processes in Python. \n",
    "  The package is called *pynini*, which is a portmanteau of *Python* and the Indian grammarian *Panini*.\n",
    "  Panini, as you might know, was the first to systematically describe the phonology and morphology of a human language (Sanskrit, in this case).\n",
    "\n",
    "  Another cute option is a recursive acronym.\n",
    "  Examples include *WINE* for \"WINE is not an emulator\" and *GNU* for \"GNU is not Unix\".\n",
    "\n",
    "  That said, many packages have pretty boring names, like *NLTK* for \"Natural Language ToolKit\"."
   ]
  }
 ],
 "metadata": {
  "kernelspec": {
   "display_name": "Python 3",
   "language": "python",
   "name": "python3"
  },
  "language_info": {
   "codemirror_mode": {
    "name": "ipython",
    "version": 3
   },
   "file_extension": ".py",
   "mimetype": "text/x-python",
   "name": "python",
   "nbconvert_exporter": "python",
   "pygments_lexer": "ipython3",
   "version": "3.7.3rc1"
  }
 },
 "nbformat": 4,
 "nbformat_minor": 2
}
