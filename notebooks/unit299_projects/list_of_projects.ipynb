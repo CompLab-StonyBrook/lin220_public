{
 "cells": [
  {
   "cell_type": "markdown",
   "metadata": {},
   "source": [
    "# List of projects\n",
    "\n",
    "- As part of this class you have to complete one of the projects below and give a short presentation about it in class (see the syllabus for details on how this factors into your grade).\n",
    "- Most projects are team efforts, but some can be done on your own.\n",
    "- Each project has a **difficulty** rating, which also indicates the **suggested minimum group size**.\n",
    "- Irrespective of the difficulty rating, the **maximum group size is 3**."
   ]
  },
  {
   "cell_type": "markdown",
   "metadata": {},
   "source": [
    "## Improving the lecture notebooks (Difficulty: 0)\n",
    "\n",
    "This project is aimed at students who feel that they could benefit significantly from going over the notebooks a few more times.\n",
    "Reread the notebooks (including the LIN 120 recap).\n",
    "Then pick 3 units (which may include the recap units), and for each one of their notebooks add the following:\n",
    "\n",
    "1. A list of questions you have about the subject matter. This can include clarification, things you're curious about that are not covered there, and so on.\n",
    "   Any question is a good question.\n",
    "\n",
    "1. Concrete improvements.\n",
    "   For instance, if you think you know what a passage means but also think that it is worded poorly, provide a different phrasing.\n",
    "\n",
    "1. Lots of practice exercises, with solutions.\n",
    "   The exercises should be short (comparable to LIN 120 exercises).\n",
    "   The solutions should be comparable to the solutions handed out for assignments in this class.\n",
    "   That is to say, they shouldn't just contain the answer, but also explain why this is the answer, what alternative solutions are and why they're better or worse, and why some solutions that students might try don't actually work.\n",
    "   This will take up most of your time and is the main component for grading of this project.\n",
    "\n",
    "If multiple students pick this project, they must work on distinct units."
   ]
  },
  {
   "cell_type": "markdown",
   "metadata": {},
   "source": [
    "## Calculating arbitrary edit distances (Difficulty: 1)\n",
    "\n",
    "This project is comparable in difficulty to a challenge task in a homework assignment (but since you have a lot more time to work on it, it isn't quite as challenging).\n",
    "The notebooks cover how to efficiently calculate Levenshtein distance with dynamic programming techniques, but the lecture notes described a number of other edit distances.\n",
    "Generalize the code for the Levenshtein distance so that it can be used to calculate the distance for any one of these metrics."
   ]
  },
  {
   "cell_type": "markdown",
   "metadata": {},
   "source": [
    "## Improved spell checker (Difficulty: 2)\n",
    "\n",
    "Write a spell checker that not only detects misspellings, but also offers suggestions.\n",
    "The suggestions should be ranked.\n",
    "It is your job to decide on a useful ranking.\n",
    "Relevant conditions might be Levenshtein distance, frequency of the suggestions, fit with preceding words, among others.\n",
    "Do not try to take phonetic similarity into account --- it requires a pronunciation corpus, which you might not be able to get.\n",
    "\n",
    "Suggested techniques: dynamic programming, n-grams"
   ]
  },
  {
   "cell_type": "markdown",
   "metadata": {},
   "source": [
    "## Poetry generator (Difficulty: 2)\n",
    "\n",
    "Write a program that automatically creates poems.\n",
    "The notion of poem is deliberately old-school:\n",
    "\n",
    "1. there has to be a meter that's obeyed by each line, and\n",
    "1. there has to be some kind of rhyming pattern\n",
    "\n",
    "Your solution should be able to generate a virtually infinite number of distinct poems.\n",
    "So you can't just create a list of fixed poems and have the program choose between them.\n",
    "You also shouldn't just rely on a prefabricated template with one or two gaps that get filled by arbitrary words.\n",
    "Basically: if a naive user can easily figure out after a certain number runs how you're doing it, your solution isn't sophisticated enough. \n",
    "\n",
    "Ideally, your poems should survive the [bot or not challenge](http://botpoet.com/): when presented as part of a collection of poems from *bot or not*, your poem should be classified as bot-generated less than 50% of the time (try it on your mom).\n",
    "\n",
    "Suggested techniques: n-grams, POS tags, finite-state automata"
   ]
  },
  {
   "cell_type": "markdown",
   "metadata": {},
   "source": [
    "## Text adventure (Difficulty: 2)\n",
    "\n",
    "A text adventure is a bit like your Choose-Your-Own-Adventure book, except that the user doesn't choose from a fixed list of options but rather enters text to tell the computer what he or she wants to do.\n",
    "The key coding aspect of a text adventure is the text parser that interprets the user input and maps it to one of the available actions.\n",
    "For a concrete example of how text adventures work, check [this youtube video](https://www.youtube.com/watch?v=PWQDccL0aXM).\n",
    "\n",
    "This project has two central challenges.\n",
    "One is finding a good data structure for storing the text passages, linking them together, and associating them with available actions.\n",
    "The other one is handling the user input.\n",
    "This requires tokenization, normalizing capitalization, simple spelling correction without user feedback (not nearly as sophisticated as the dedicated spellchecker project), and extracting keywords.\n",
    "\n",
    "Suggested techniques: list of keywords + Levenshtein distance for spell checking, regular expressions for tokenization and keyword extraction"
   ]
  },
  {
   "cell_type": "markdown",
   "metadata": {},
   "source": [
    "## Finite-state transducer implementation of a language's phonology (Difficulty: 1-3; depends on complexity of rewrite rules)\n",
    "\n",
    "As you know, phonology uses rewrite rules to describe the mapping from underlying forms to surface realizations.\n",
    "Each rewrite rule can actually be translated to a finite-state transducer.\n",
    "Hence it is possible to implement a phonological grammars as a collection of finite-state transducers that are run one after the other.\n",
    "For this project, you would pick a language of your choice and implement a rewrite-rule based description of its phonology in terms of finite-state transducers. \n",
    "\n",
    "Make sure you consult with me before picking a language."
   ]
  },
  {
   "cell_type": "markdown",
   "metadata": {},
   "source": [
    "## Finite-state automata as Boolean matrix multiplication (Difficulty: 3, but can be done by a single person)\n",
    "\n",
    "This project is for the mathematically inclined only.\n",
    "Finite-state automata can be represented as a collection of matrices where all cells are either True or False.\n",
    "These are called *Boolean matrices*.\n",
    "The process of determining whether a string is accepted by an automaton is equivalent to a specific sequence of matrix multiplications.\n",
    "\n",
    "This project involves two components:\n",
    "\n",
    "1. Read up on the connection between automata and Boolean matrix multiplication.\n",
    "   The reading materials will be supplied by me, but you should be comfortable reading mathematical notation.\n",
    "1. Implement code that converts an automaton into its equivalent Boolean matrix representation, as well as an alternative to the `.accepts` method that uses Boolean matrix multiplication.\n",
    "   As part of this, you will have to learn how matrices are handled in Python.\n",
    "   \n",
    "Suggested techniques: memoization for matrix multiplication, the `numpy` package for representing matrices"
   ]
  },
  {
   "cell_type": "markdown",
   "metadata": {},
   "source": [
    "## Suggest an independent project\n",
    "\n",
    "Many of your are already engaged in research or coding projects.\n",
    "Your class project can be something that actively contributes to that.\n",
    "If you want to do this, create a new thread in this folder and describe there what the project would look like.\n",
    "Others can chime in too.\n",
    "I'll let you know whether I think it's a feasible project for this class."
   ]
  }
 ],
 "metadata": {
  "kernelspec": {
   "display_name": "Python 3",
   "language": "python",
   "name": "python3"
  },
  "language_info": {
   "codemirror_mode": {
    "name": "ipython",
    "version": 3
   },
   "file_extension": ".py",
   "mimetype": "text/x-python",
   "name": "python",
   "nbconvert_exporter": "python",
   "pygments_lexer": "ipython3",
   "version": "3.7.3rc1"
  }
 },
 "nbformat": 4,
 "nbformat_minor": 2
}
