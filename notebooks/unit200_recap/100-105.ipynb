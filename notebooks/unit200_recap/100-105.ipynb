{
 "cells": [
  {
   "cell_type": "markdown",
   "metadata": {},
   "source": [
    "# Python recap (Units 100-105)\n",
    "\n",
    "Python is a very high-level programming language, which is why some call it a *scripting language* in contrast to \"proper\", heavy-weight programming languages like Java or C.\n",
    "Python is not as fast as these languages, but it is just as powerful while making it much easier to write code in.\n",
    "When **fast coding** is more important than **fast code**, Python is a good choice.\n",
    "That's generally the case for data analysis, and increasingly so in computational linuistics, too.\n",
    "This makes Python the ideal language for this course.\n",
    "\n",
    "The rest of this notebook gives a quick summary of some Python basics (corresponding to units 100-105 of LIN 120).\n",
    "Whereas the LIN 120 notebooks have detailed explanations in plain English, this summary is much more concise.\n",
    "It is assumed that you have enough of a programming background to quickly pick up the core ideas from a few code snippets."
   ]
  },
  {
   "cell_type": "markdown",
   "metadata": {},
   "source": [
    "## `print`, `input`, and variables"
   ]
  },
  {
   "cell_type": "code",
   "execution_count": null,
   "metadata": {
    "collapsed": true
   },
   "outputs": [],
   "source": [
    "print(\"Use print to show messages to the user\")"
   ]
  },
  {
   "cell_type": "code",
   "execution_count": null,
   "metadata": {
    "collapsed": true
   },
   "outputs": [],
   "source": [
    "print('Strings can also occur between single quotes')"
   ]
  },
  {
   "cell_type": "code",
   "execution_count": null,
   "metadata": {
    "collapsed": true
   },
   "outputs": [],
   "source": [
    "print('But that\\'s not a good idea for English because apostrophes have to be escaped')"
   ]
  },
  {
   "cell_type": "code",
   "execution_count": null,
   "metadata": {
    "collapsed": true
   },
   "outputs": [],
   "source": [
    "print(\"That's much better!\")\n",
    "print(\"We'll always use double quotes for strings in this course.\")"
   ]
  },
  {
   "cell_type": "code",
   "execution_count": null,
   "metadata": {
    "collapsed": false
   },
   "outputs": [],
   "source": [
    "print(\"Let's get some input from the user\")\n",
    "# ask user for input and store it in variable user_input\n",
    "# (note how comments start with #)\n",
    "user_input = input()\n",
    "\n",
    "print(\"Here's what you said:\", user_input)"
   ]
  },
  {
   "cell_type": "code",
   "execution_count": null,
   "metadata": {
    "collapsed": false
   },
   "outputs": [],
   "source": [
    "print(\"Enter a number!\")\n",
    "n = input()\n",
    "print(\"I believe\", n, \"is the number you entered.\")"
   ]
  },
  {
   "cell_type": "markdown",
   "metadata": {},
   "source": [
    "Notice how Python automatically inserts a space between the arguments of `print`."
   ]
  },
  {
   "cell_type": "markdown",
   "metadata": {},
   "source": [
    "The `print` command above is a little clunky.\n",
    "We can do better with **f-strings** (which is short for **format-strings**).\n",
    "This is also known as string interpolation in other programming languages."
   ]
  },
  {
   "cell_type": "code",
   "execution_count": null,
   "metadata": {
    "collapsed": false
   },
   "outputs": [],
   "source": [
    "print(\"Enter a number!\")\n",
    "n = input()\n",
    "print(f\"I believe {n} is the number you entered.\")\n",
    "print(f\"Without curly braces we only get n, not {n}.\")"
   ]
  },
  {
   "cell_type": "markdown",
   "metadata": {},
   "source": [
    "### Summary\n",
    "\n",
    "```python\n",
    "print(arg_1, arg_2, ..., arg_n)\n",
    "print(f\"some string containing some_variable\")\n",
    "input()\n",
    "```\n",
    "\n",
    "### Common mistakes\n",
    "\n",
    "- Don't confuse `print` (showing a message on the screen) and `input` (getting user input).\n",
    "- Don't use `==` when defining variables.\n",
    "  Only a single `=` is used for defining variables.\n",
    "- Don't forget to add the prefix `f` when using variables inside a string."
   ]
  },
  {
   "cell_type": "markdown",
   "metadata": {},
   "source": [
    "## `if`, `else`, and `elif`\n",
    "\n",
    "The `if`-`else` construct in Python behaves as in pretty much every other language."
   ]
  },
  {
   "cell_type": "code",
   "execution_count": null,
   "metadata": {
    "collapsed": false
   },
   "outputs": [],
   "source": [
    "n = 5\n",
    "\n",
    "if n > 5:\n",
    "    print(\"This won't be printed because n is not strictly greater than 5.\")\n",
    "    \n",
    "if n >= 5:\n",
    "    print(\"This will be printed because n is greater than or equal to 5.\")"
   ]
  },
  {
   "cell_type": "code",
   "execution_count": null,
   "metadata": {
    "collapsed": true
   },
   "outputs": [],
   "source": [
    "n = 5\n",
    "\n",
    "if n > 5:\n",
    "    print(\"This won't be printed because n is not strictly greater than 5.\")\n",
    "print(\"This will be printed because it is not indented.\")\n",
    "print(\"Whitespace indicates scope, so indentation matters a lot in Python!\")"
   ]
  },
  {
   "cell_type": "code",
   "execution_count": null,
   "metadata": {
    "collapsed": true
   },
   "outputs": [],
   "source": [
    "n = 5\n",
    "\n",
    "if n > 5:\n",
    "    print(\"This won't be printed because n is not strictly greater than 5.\")\n",
    "else:\n",
    "    print(\"This **will** be printed because n is not strictly greater than 5.\")"
   ]
  },
  {
   "cell_type": "code",
   "execution_count": null,
   "metadata": {
    "collapsed": true
   },
   "outputs": [],
   "source": [
    "n = 5\n",
    "\n",
    "if n > 5:\n",
    "    print(\"This won't be printed because n is not strictly greater than 5.\")\n",
    "else:\n",
    "    if n < 5:\n",
    "        print(\"This won't be printed because n is not stricly less than 5.\")\n",
    "    else:\n",
    "        print(\"This **will** be printed because n fails both conditions.\")"
   ]
  },
  {
   "cell_type": "markdown",
   "metadata": {},
   "source": [
    "Nested conditions are hard to read, in particular because of Python's mandatory indenting.\n",
    "For complex conditions, use `elif` (short for *else if*) to keep hierarchies flat."
   ]
  },
  {
   "cell_type": "code",
   "execution_count": null,
   "metadata": {
    "collapsed": true
   },
   "outputs": [],
   "source": [
    "n = 5\n",
    "\n",
    "if n > 5:\n",
    "    print(\"This won't be printed because n is not strictly greater than 5.\")\n",
    "elif n < 5:\n",
    "    print(\"This won't be printed because n is not stricly less than 5.\")\n",
    "else:\n",
    "    print(\"This **will** be printed because n fails both conditions.\")"
   ]
  },
  {
   "cell_type": "markdown",
   "metadata": {},
   "source": [
    "Conditions are evaluated from top to bottom, so if a higher one subsumes a lower one, the lower one will never be checked."
   ]
  },
  {
   "cell_type": "code",
   "execution_count": null,
   "metadata": {
    "collapsed": true
   },
   "outputs": [],
   "source": [
    "n = 5\n",
    "\n",
    "if n <= 5:\n",
    "    print(\"This message will be printed.\")\n",
    "elif n == 5:\n",
    "    print(\"Nothing in this block will ever be executed.\")\n",
    "    print(\"That's because whenever n == 5 holds, the higher-ranked n <= 5 holds, too.\")"
   ]
  },
  {
   "cell_type": "markdown",
   "metadata": {},
   "source": [
    "### Summary\n",
    "\n",
    "```python\n",
    "if condition_1:\n",
    "    # any code you want, but properly indented\n",
    "elif condition_2:\n",
    "    # some other code\n",
    "elif condition 3:\n",
    "    # some other code\n",
    "else:\n",
    "    # what to do in the elsewhere case\n",
    "```"
   ]
  },
  {
   "cell_type": "markdown",
   "metadata": {},
   "source": [
    "### Common mistakes\n",
    "\n",
    "- Don't forget the colon `:` after the condition.\n",
    "- Never forget about proper indentation.\n",
    "- The order of conditions matters.\n",
    "  More specific conditions should be tested before more general ones.\n",
    "- Equality is tested with `==` (two equal signs), not `=` (one equal sign).\n",
    "  The latter is only for defining variables."
   ]
  },
  {
   "cell_type": "markdown",
   "metadata": {},
   "source": [
    "## Conditions\n",
    "\n",
    "Anything can be used as a condition as long as it evaluates to `True` or `False`, which are called **Booleans**.\n",
    "Conditions often involve one of the following operators:\n",
    "\n",
    "- `==` (equals),\n",
    "- `!=` (does not equal),\n",
    "- `<` (strictly less than),\n",
    "- `>` (strictly greater than),\n",
    "- `<=` (less than or equals),\n",
    "- `>=` (greater than or equals)."
   ]
  },
  {
   "cell_type": "code",
   "execution_count": null,
   "metadata": {
    "collapsed": true
   },
   "outputs": [],
   "source": [
    "if False:\n",
    "    print(\"This message is never printed because False is never true.\")\n",
    "elif True:\n",
    "    print(\"This message is always printed because True can never be false.\")\n",
    "else:\n",
    "    print(\"This message is never printed because `elif True` preempts it.\")"
   ]
  },
  {
   "cell_type": "code",
   "execution_count": null,
   "metadata": {
    "collapsed": true
   },
   "outputs": [],
   "source": [
    "n = 5\n",
    "\n",
    "if n == 5:\n",
    "    print(\"Yes, n equals 5.\")\n",
    "if n != 5:\n",
    "    print(\"This doesn't get printed; n != 5 is false.\")\n",
    "if n < 5:\n",
    "    print(\"This doesn't get printed; n < 5 is false.\")\n",
    "if n > 5:\n",
    "    print(\"This doesn't get printed; n > 5 is false.\")\n",
    "if n <= 5:\n",
    "    print(\"Yes, n is less than or equal to 5.\")\n",
    "if n >= 5:\n",
    "    print(\"Yes, n is greater than or equal to 5.\")"
   ]
  },
  {
   "cell_type": "markdown",
   "metadata": {},
   "source": [
    "Conditions can be negated with `not`, and they can be combined with `and` and `or`."
   ]
  },
  {
   "cell_type": "code",
   "execution_count": null,
   "metadata": {
    "collapsed": false
   },
   "outputs": [],
   "source": [
    "n = 5\n",
    "\n",
    "if n > 5 or (n < 10 and not n > 7):\n",
    "    print(\"This condition is satisfied.\")\n",
    "    \n",
    "if n < 10 or n > 1:\n",
    "    print(\"An or-condition holds even if both requirements are met.\")\n",
    "    \n",
    "if n > 10 and n < 10:\n",
    "    print(\"This can never be satisfied. It's equivalent to `if False`.\")"
   ]
  },
  {
   "cell_type": "markdown",
   "metadata": {},
   "source": [
    "### Common mistakes\n",
    "\n",
    "- Only conditions can be modified by `and`, `or`, and `not`.\n",
    "  Something like `if n == 3 or 5` does not work (the code will run, but it won't do what you want).\n",
    "- Don't use `not ==`. Use `!=` instead."
   ]
  },
  {
   "cell_type": "markdown",
   "metadata": {},
   "source": [
    "## `while`-loops\n",
    "\n",
    "As in other programming languages, `while`-loops are like an `if` that keeps repeating until the condition is no longer met."
   ]
  },
  {
   "cell_type": "code",
   "execution_count": null,
   "metadata": {
    "collapsed": true
   },
   "outputs": [],
   "source": [
    "n = 0\n",
    "\n",
    "while n < 5:\n",
    "    print(f\"n is currently {n}\")\n",
    "    n = n + 1\n",
    "    \n",
    "print(f\"n has reached value {n}. We have left the loop.\")"
   ]
  },
  {
   "cell_type": "markdown",
   "metadata": {},
   "source": [
    "### Summary\n",
    "\n",
    "```python\n",
    "while some_condition:\n",
    "    some_code\n",
    "```"
   ]
  },
  {
   "cell_type": "markdown",
   "metadata": {},
   "source": [
    "### Common mistakes\n",
    "\n",
    "- Just as with `if`, don't forget the colon `:` at the end.\n",
    "- Keep in mind that `if` and `while` serve different purposes.\n",
    "  Use `if` for code that should be run once when a condition is satisfied.\n",
    "  Use `while` for code that should be run over and over again until a condition is no longer met."
   ]
  },
  {
   "cell_type": "markdown",
   "metadata": {},
   "source": [
    "## Lists\n",
    "\n",
    "Lists are one of the simplest **data structures** in Python."
   ]
  },
  {
   "cell_type": "code",
   "execution_count": null,
   "metadata": {
    "collapsed": true
   },
   "outputs": [],
   "source": [
    "number_list = [0, 1, 2, 3, 4]"
   ]
  },
  {
   "cell_type": "markdown",
   "metadata": {},
   "source": [
    "Lists can contain even very complex objects, such as long strings, variables or other lists."
   ]
  },
  {
   "cell_type": "code",
   "execution_count": null,
   "metadata": {
    "collapsed": true
   },
   "outputs": [],
   "source": [
    "number_list = [0, 1, 2, 3, 4]\n",
    "n = 5\n",
    "another_list = [0, \"some string\", n, \"another string\", number_list, [0, [5, 10]], \"the last item\"]"
   ]
  },
  {
   "cell_type": "markdown",
   "metadata": {},
   "source": [
    "Items can be added to lists with the `list.append` function.\n",
    "Whether an item is in a list can be tested with the `in` and `not in` operators:"
   ]
  },
  {
   "cell_type": "code",
   "execution_count": null,
   "metadata": {
    "collapsed": true
   },
   "outputs": [],
   "source": [
    "# we start an empty list\n",
    "memory = []\n",
    "\n",
    "while \"Star Trek\" not in memory:\n",
    "    print(\"What's the best Sci-Fi franchise?\")\n",
    "    list.append(memory, input())"
   ]
  },
  {
   "cell_type": "markdown",
   "metadata": {},
   "source": [
    "As a shorthand for the `list.append` function, one can simply add `.append` to the list.\n",
    "This is called a **method**."
   ]
  },
  {
   "cell_type": "code",
   "execution_count": null,
   "metadata": {
    "collapsed": true
   },
   "outputs": [],
   "source": [
    "# we start an empty list\n",
    "memory = []\n",
    "\n",
    "while \"Star Trek\" not in memory:\n",
    "    print(\"What's the best Sci-Fi franchise?\")\n",
    "    memory.append(input())"
   ]
  },
  {
   "cell_type": "markdown",
   "metadata": {},
   "source": [
    "Two lists can be concatenated into one with the `+` operator.\n",
    "The order of arguments matters."
   ]
  },
  {
   "cell_type": "code",
   "execution_count": 1,
   "metadata": {
    "collapsed": false
   },
   "outputs": [
    {
     "name": "stdout",
     "output_type": "stream",
     "text": [
      "[0, 1, 2, 3, 4, 'a', 'b', 'c']\n",
      "['a', 'b', 'c', 0, 1, 2, 3, 4]\n",
      "[0, 1, 2, 3, 4, 0, 1, 2, 3, 4, 'a', 'b', 'c', 0, 1, 2, 3, 4]\n"
     ]
    }
   ],
   "source": [
    "list1 = [0, 1, 2, 3, 4]\n",
    "list2 = [\"a\", \"b\", \"c\"]\n",
    "print(list1 + list2)\n",
    "print(list2 + list1)\n",
    "print(list1 + list1 + list2 + list1)"
   ]
  },
  {
   "cell_type": "markdown",
   "metadata": {},
   "source": [
    "### Summary\n",
    "\n",
    "```python\n",
    "# general list format\n",
    "[item1, item2, item3]\n",
    "# adding an item to a list\n",
    "list.append(some_list, item)\n",
    "# checking membership\n",
    "item in some_list\n",
    "item not in some_list\n",
    "# concatenating lists\n",
    "list1 + list2 + list3 + list4  # and so on\n",
    "```"
   ]
  },
  {
   "cell_type": "markdown",
   "metadata": {},
   "source": [
    "### Common mistakes\n",
    "\n",
    "- Lists use square brackets, not parentheses or curly braces.\n",
    "- Don't confuse `append` (adding items to a list) and `+` (concatenating lists).\n",
    "  Something like `some_list + 5` won't work!\n",
    "- Don't use `some_list + [item]` for adding an item to a list.\n",
    "  The code works, but it's clunky and slower than `list.append(some_list, 5)`."
   ]
  },
  {
   "cell_type": "markdown",
   "metadata": {},
   "source": [
    "## Libraries/modules/packages\n",
    "\n",
    "Python comes with **libraries** that provide additional functionality for specialized purposes.\n",
    "A different name for libraries is **modules**.\n",
    "A **package** is a collection of modules.\n",
    "Packages and modules are treated exactly the same, it's just that packages tend to be much larger than modules."
   ]
  },
  {
   "cell_type": "code",
   "execution_count": null,
   "metadata": {
    "collapsed": true
   },
   "outputs": [],
   "source": [
    "# we load the random library\n",
    "import random\n",
    "\n",
    "# and now we use one of its specialized functions\n",
    "chosen_item = random.choice([0, 1, 2, 3])\n",
    "print(chosen_item)"
   ]
  }
 ],
 "metadata": {
  "kernelspec": {
   "display_name": "Python 3",
   "language": "python",
   "name": "python3"
  },
  "language_info": {
   "codemirror_mode": {
    "name": "ipython",
    "version": 3
   },
   "file_extension": ".py",
   "mimetype": "text/x-python",
   "name": "python",
   "nbconvert_exporter": "python",
   "pygments_lexer": "ipython3",
   "version": "3.5.3"
  }
 },
 "nbformat": 4,
 "nbformat_minor": 2
}
