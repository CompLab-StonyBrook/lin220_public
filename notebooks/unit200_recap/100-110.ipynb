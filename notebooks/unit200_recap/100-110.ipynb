{
 "cells": [
  {
   "cell_type": "markdown",
   "metadata": {},
   "source": [
    "# Python recap (Units 100-110)\n",
    "\n",
    "Python is a very high-level programming language, which is why some call it a *scripting language* in contrast to \"proper\", heavy-weight programming languages like Java or C.\n",
    "Python is not as fast as these languages, but it is just as powerful while making it much easier to write code in.\n",
    "When **fast coding** is more important than **fast code**, Python is a good choice.\n",
    "That's generally the case for data analysis, and increasingly so in computational linuistics, too.\n",
    "This makes Python the ideal language for this course.\n",
    "\n",
    "The rest of this notebook gives a quick summary of some Python basics (corresponding to units 100-105 of LIN 120).\n",
    "Whereas the LIN 120 notebooks have detailed explanations in plain English, this summary is much more concise.\n",
    "It is assumed that you have enough of a programming background to quickly pick up the core ideas from a few code snippets."
   ]
  },
  {
   "cell_type": "markdown",
   "metadata": {},
   "source": [
    "## `print`, `input`, and variables"
   ]
  },
  {
   "cell_type": "code",
   "execution_count": null,
   "metadata": {
    "collapsed": true
   },
   "outputs": [],
   "source": [
    "print(\"Use print to show messages to the user\")"
   ]
  },
  {
   "cell_type": "code",
   "execution_count": null,
   "metadata": {
    "collapsed": true
   },
   "outputs": [],
   "source": [
    "print('Strings can also occur between single quotes')"
   ]
  },
  {
   "cell_type": "code",
   "execution_count": null,
   "metadata": {
    "collapsed": true
   },
   "outputs": [],
   "source": [
    "print('But that\\'s not a good idea for English because apostrophes have to be escaped')"
   ]
  },
  {
   "cell_type": "code",
   "execution_count": null,
   "metadata": {
    "collapsed": true
   },
   "outputs": [],
   "source": [
    "print(\"That's much better!\")\n",
    "print(\"We'll always use double quotes for strings in this course.\")"
   ]
  },
  {
   "cell_type": "code",
   "execution_count": null,
   "metadata": {
    "collapsed": false
   },
   "outputs": [],
   "source": [
    "print(\"Let's get some input from the user\")\n",
    "# ask user for input and store it in variable user_input\n",
    "# (note how comments start with #)\n",
    "user_input = input()\n",
    "\n",
    "print(\"Here's what you said:\", user_input)"
   ]
  },
  {
   "cell_type": "code",
   "execution_count": null,
   "metadata": {
    "collapsed": false
   },
   "outputs": [],
   "source": [
    "print(\"Enter a number!\")\n",
    "n = input()\n",
    "print(\"I believe\", n, \"is the number you entered.\")"
   ]
  },
  {
   "cell_type": "markdown",
   "metadata": {},
   "source": [
    "Notice how Python automatically inserts a space between the arguments of `print`."
   ]
  },
  {
   "cell_type": "markdown",
   "metadata": {},
   "source": [
    "The `print` command above is a little clunky.\n",
    "We can do better with **f-strings** (which is short for **format-strings**).\n",
    "This is also known as string interpolation in other programming languages."
   ]
  },
  {
   "cell_type": "code",
   "execution_count": null,
   "metadata": {
    "collapsed": false
   },
   "outputs": [],
   "source": [
    "print(\"Enter a number!\")\n",
    "n = input()\n",
    "print(f\"I believe {n} is the number you entered.\")\n",
    "print(f\"Without curly braces we only get n, not {n}.\")"
   ]
  },
  {
   "cell_type": "markdown",
   "metadata": {},
   "source": [
    "While f-strings are powerful, `print` with multiple arguments still has its uses."
   ]
  },
  {
   "cell_type": "code",
   "execution_count": null,
   "metadata": {
    "collapsed": false
   },
   "outputs": [],
   "source": [
    "# a creative way of printing banana;\n",
    "# `sep` is inserted between all arguments of print\n",
    "print(\"ba\", \"a\", \"a\", sep=\"n\")"
   ]
  },
  {
   "cell_type": "code",
   "execution_count": null,
   "metadata": {
    "collapsed": false
   },
   "outputs": [],
   "source": [
    "# an even more creative way of printing banana;\n",
    "# `end` is appended to the last argument\n",
    "print(\"b\", \"n\", \"n\", sep=\"a\", end=\"a\")"
   ]
  },
  {
   "cell_type": "code",
   "execution_count": null,
   "metadata": {
    "collapsed": false
   },
   "outputs": [],
   "source": [
    "# print all arguments with the empty string as the separator\n",
    "print(\"d\", \"o\", \"w\", \"n\", sep=\"\")"
   ]
  },
  {
   "cell_type": "code",
   "execution_count": null,
   "metadata": {
    "collapsed": false
   },
   "outputs": [],
   "source": [
    "# print all arguments with a newline character as the separator\n",
    "print(\"d\", \"o\", \"w\", \"n\", sep=\"\\n\")"
   ]
  },
  {
   "cell_type": "markdown",
   "metadata": {},
   "source": [
    "### Summary\n",
    "\n",
    "```python\n",
    "print(arg_1, arg_2, ..., arg_n, sep, end)\n",
    "print(f\"some string containing some_variable\")\n",
    "input()\n",
    "```\n",
    "\n",
    "### Common mistakes\n",
    "\n",
    "- Don't confuse `print` (showing a message on the screen) and `input` (getting user input).\n",
    "- Don't use `==` when defining variables.\n",
    "  Only a single `=` is used for defining variables.\n",
    "- Don't forget to add the prefix `f` when using variables inside a string."
   ]
  },
  {
   "cell_type": "markdown",
   "metadata": {},
   "source": [
    "## `if`, `else`, and `elif`\n",
    "\n",
    "The `if`-`else` construct in Python behaves just like in pretty much every other language."
   ]
  },
  {
   "cell_type": "code",
   "execution_count": null,
   "metadata": {
    "collapsed": false
   },
   "outputs": [],
   "source": [
    "n = 5\n",
    "\n",
    "if n > 5:\n",
    "    print(\"This won't be printed because n is not strictly greater than 5.\")\n",
    "    \n",
    "if n >= 5:\n",
    "    print(\"This will be printed because n is greater than or equal to 5.\")"
   ]
  },
  {
   "cell_type": "code",
   "execution_count": null,
   "metadata": {
    "collapsed": true
   },
   "outputs": [],
   "source": [
    "n = 5\n",
    "\n",
    "if n > 5:\n",
    "    print(\"This won't be printed because n is not strictly greater than 5.\")\n",
    "print(\"This will be printed because it is not indented.\")\n",
    "print(\"Whitespace indicates scope, so indentation matters a lot in Python!\")"
   ]
  },
  {
   "cell_type": "code",
   "execution_count": null,
   "metadata": {
    "collapsed": true
   },
   "outputs": [],
   "source": [
    "n = 5\n",
    "\n",
    "if n > 5:\n",
    "    print(\"This won't be printed because n is not strictly greater than 5.\")\n",
    "else:\n",
    "    print(\"This **will** be printed because n is not strictly greater than 5.\")"
   ]
  },
  {
   "cell_type": "code",
   "execution_count": null,
   "metadata": {
    "collapsed": true
   },
   "outputs": [],
   "source": [
    "n = 5\n",
    "\n",
    "if n > 5:\n",
    "    print(\"This won't be printed because n is not strictly greater than 5.\")\n",
    "else:\n",
    "    if n < 5:\n",
    "        print(\"This won't be printed because n is not stricly less than 5.\")\n",
    "    else:\n",
    "        print(\"This **will** be printed because n fails both conditions.\")"
   ]
  },
  {
   "cell_type": "markdown",
   "metadata": {},
   "source": [
    "Nested conditions are hard to read, in particular because of Python's mandatory indenting.\n",
    "For complex conditions, use `elif` (short for *else if*) to keep hierarchies flat."
   ]
  },
  {
   "cell_type": "code",
   "execution_count": null,
   "metadata": {
    "collapsed": true
   },
   "outputs": [],
   "source": [
    "n = 5\n",
    "\n",
    "if n > 5:\n",
    "    print(\"This won't be printed because n is not strictly greater than 5.\")\n",
    "elif n < 5:\n",
    "    print(\"This won't be printed because n is not stricly less than 5.\")\n",
    "else:\n",
    "    print(\"This **will** be printed because n fails both conditions.\")"
   ]
  },
  {
   "cell_type": "markdown",
   "metadata": {},
   "source": [
    "Conditions are evaluated from top to bottom, so if a higher one subsumes a lower one, the lower one will never be checked."
   ]
  },
  {
   "cell_type": "code",
   "execution_count": null,
   "metadata": {
    "collapsed": true
   },
   "outputs": [],
   "source": [
    "n = 5\n",
    "\n",
    "if n <= 5:\n",
    "    print(\"This message will be printed.\")\n",
    "elif n == 5:\n",
    "    print(\"Nothing in this block will ever be executed.\")\n",
    "    print(\"That's because whenever n == 5 holds, the higher-ranked n <= 5 holds, too.\")"
   ]
  },
  {
   "cell_type": "markdown",
   "metadata": {},
   "source": [
    "Particularly simple uses of `if` can be put on a single line.\n",
    "This can make code more elegant, but if you're not perfectly sure how to use ternary `if` it's better to sacrifice some elegance for code that definitely works as expected."
   ]
  },
  {
   "cell_type": "code",
   "execution_count": null,
   "metadata": {
    "collapsed": false
   },
   "outputs": [],
   "source": [
    "n = 5\n",
    "\n",
    "print(\"This message will be printed.\") if n == 5 else print(\"We always need an else part for single-line if.\")\n",
    "\n",
    "print(\"This message won't be printed.\") if n < 5 else print(\"But this message will be.\")\n",
    "\n",
    "# an even shorter version with print\n",
    "print(\"n is 5.\" if n == 5 else \"n is not 5.\")\n",
    "\n",
    "# ternary if for defining a variable\n",
    "b = 9 if n > 5 else 3\n",
    "print(b)\n",
    "\n",
    "# the minimally different line below would not work\n",
    "# b = 9 if n > 5 else b = 3"
   ]
  },
  {
   "cell_type": "markdown",
   "metadata": {},
   "source": [
    "### Summary\n",
    "\n",
    "```python\n",
    "if condition_1:\n",
    "    # any code you want, but properly indented\n",
    "elif condition_2:\n",
    "    # some other code\n",
    "elif condition 3:\n",
    "    # some other code\n",
    "else:\n",
    "    # what to do in the elsewhere case\n",
    "```\n",
    "\n",
    "```python\n",
    "code_if_true if some_condition else code_if_false\n",
    "```"
   ]
  },
  {
   "cell_type": "markdown",
   "metadata": {},
   "source": [
    "### Common mistakes\n",
    "\n",
    "- Don't forget the colon `:` after the condition.\n",
    "- Never forget about proper indentation.\n",
    "- The order of conditions matters.\n",
    "  More specific conditions should be tested before more general ones.\n",
    "- Equality is tested with `==` (two equal signs), not `=` (one equal sign).\n",
    "  The latter is only for defining variables."
   ]
  },
  {
   "cell_type": "markdown",
   "metadata": {},
   "source": [
    "## Conditions\n",
    "\n",
    "Anything can be used as a condition as long as it evaluates to `True` or `False`, which are called **Booleans**.\n",
    "Conditions often involve one of the following operators:\n",
    "\n",
    "- `==` (equals),\n",
    "- `!=` (does not equal),\n",
    "- `<` (strictly less than),\n",
    "- `>` (strictly greater than),\n",
    "- `<=` (less than or equals),\n",
    "- `>=` (greater than or equals)."
   ]
  },
  {
   "cell_type": "code",
   "execution_count": null,
   "metadata": {
    "collapsed": true
   },
   "outputs": [],
   "source": [
    "if False:\n",
    "    print(\"This message is never printed because False is never true.\")\n",
    "elif True:\n",
    "    print(\"This message is always printed because True can never be false.\")\n",
    "else:\n",
    "    print(\"This message is never printed because `elif True` preempts it.\")"
   ]
  },
  {
   "cell_type": "code",
   "execution_count": null,
   "metadata": {
    "collapsed": true
   },
   "outputs": [],
   "source": [
    "n = 5\n",
    "\n",
    "if n == 5:\n",
    "    print(\"Yes, n equals 5.\")\n",
    "if n != 5:\n",
    "    print(\"This doesn't get printed; n != 5 is false.\")\n",
    "if n < 5:\n",
    "    print(\"This doesn't get printed; n < 5 is false.\")\n",
    "if n > 5:\n",
    "    print(\"This doesn't get printed; n > 5 is false.\")\n",
    "if n <= 5:\n",
    "    print(\"Yes, n is less than or equal to 5.\")\n",
    "if n >= 5:\n",
    "    print(\"Yes, n is greater than or equal to 5.\")"
   ]
  },
  {
   "cell_type": "markdown",
   "metadata": {},
   "source": [
    "Conditions can be negated with `not`, and they can be combined with `and` and `or`."
   ]
  },
  {
   "cell_type": "code",
   "execution_count": null,
   "metadata": {
    "collapsed": false
   },
   "outputs": [],
   "source": [
    "n = 5\n",
    "\n",
    "if n > 5 or (n < 10 and not n > 7):\n",
    "    print(\"This condition is satisfied.\")\n",
    "    \n",
    "if n < 10 or n > 1:\n",
    "    print(\"An or-condition holds even if both requirements are met.\")\n",
    "    \n",
    "if n > 10 and n < 10:\n",
    "    print(\"This can never be satisfied. It's equivalent to `if False`.\")"
   ]
  },
  {
   "cell_type": "markdown",
   "metadata": {},
   "source": [
    "### Common mistakes\n",
    "\n",
    "- Only conditions can be modified by `and`, `or`, and `not`.\n",
    "  Something like `if n == 3 or 5` does not work (the code will run, but it won't do what you want).\n",
    "- Don't use `not ==`. Use `!=` instead."
   ]
  },
  {
   "cell_type": "markdown",
   "metadata": {},
   "source": [
    "## `while`-loops\n",
    "\n",
    "As in other programming languages, `while`-loops are like an `if` that keeps repeating until the condition is no longer met."
   ]
  },
  {
   "cell_type": "code",
   "execution_count": null,
   "metadata": {
    "collapsed": true
   },
   "outputs": [],
   "source": [
    "n = 0\n",
    "\n",
    "while n < 5:\n",
    "    print(f\"n is currently {n}\")\n",
    "    n = n + 1\n",
    "    \n",
    "print(f\"n has reached value {n}. We have left the loop.\")"
   ]
  },
  {
   "cell_type": "markdown",
   "metadata": {},
   "source": [
    "We can use `break` to force Python to leave the loop right away.\n",
    "This sometimes allows for more elegant code.\n",
    "Compare the two below."
   ]
  },
  {
   "cell_type": "code",
   "execution_count": null,
   "metadata": {
    "collapsed": false
   },
   "outputs": [],
   "source": [
    "reply = \"\"   # hmm, why is this needed??? can't tell at this point\n",
    "\n",
    "while reply != \"No\":\n",
    "    print(\"What a nice loop.\")\n",
    "    print(\"Continue looping?\")\n",
    "    reply = input()  # oh, so now we finally know what reply is used for\n",
    "    \n",
    "print(\"We've left the loop!\")"
   ]
  },
  {
   "cell_type": "code",
   "execution_count": null,
   "metadata": {
    "collapsed": false
   },
   "outputs": [],
   "source": [
    "while True:\n",
    "    # this would loop forever because `True` can never be false\n",
    "    print(\"What a nice loop.\")\n",
    "    print(\"Continue looping?\")\n",
    "    reply = input()\n",
    "    if reply == \"No\":\n",
    "        break  # we're exiting the while loop\n",
    "        \n",
    "print(\"We've left the loop!\")"
   ]
  },
  {
   "cell_type": "markdown",
   "metadata": {},
   "source": [
    "### Summary\n",
    "\n",
    "```python\n",
    "while some_condition:\n",
    "    some_code  # can contain one or more breaks to exit the loop\n",
    "```"
   ]
  },
  {
   "cell_type": "markdown",
   "metadata": {},
   "source": [
    "### Common mistakes\n",
    "\n",
    "- Just as with `if`, don't forget the colon `:` at the end.\n",
    "- Keep in mind that `if` and `while` serve different purposes.\n",
    "  Use `if` for code that should be run once when a condition is satisfied.\n",
    "  Use `while` for code that should be run over and over again until a condition is no longer met."
   ]
  },
  {
   "cell_type": "markdown",
   "metadata": {},
   "source": [
    "## Lists\n",
    "\n",
    "Lists are one of the simplest **data structures** in Python."
   ]
  },
  {
   "cell_type": "code",
   "execution_count": null,
   "metadata": {
    "collapsed": true
   },
   "outputs": [],
   "source": [
    "number_list = [0, 1, 2, 3, 4]"
   ]
  },
  {
   "cell_type": "markdown",
   "metadata": {},
   "source": [
    "Lists can contain even very complex objects, such as long strings, variables or other lists."
   ]
  },
  {
   "cell_type": "code",
   "execution_count": null,
   "metadata": {
    "collapsed": true
   },
   "outputs": [],
   "source": [
    "number_list = [0, 1, 2, 3, 4]\n",
    "n = 5\n",
    "another_list = [0, \"some string\", n, \"another string\", number_list, [0, [5, 10]], \"the last item\"]"
   ]
  },
  {
   "cell_type": "markdown",
   "metadata": {},
   "source": [
    "Items can be added to lists with the `list.append` function.\n",
    "Whether an item is in a list can be tested with the `in` and `not in` operators:"
   ]
  },
  {
   "cell_type": "code",
   "execution_count": null,
   "metadata": {
    "collapsed": true
   },
   "outputs": [],
   "source": [
    "# we start an empty list\n",
    "memory = []\n",
    "\n",
    "while \"Star Trek\" not in memory:\n",
    "    print(\"What's the best Sci-Fi franchise?\")\n",
    "    list.append(memory, input())"
   ]
  },
  {
   "cell_type": "markdown",
   "metadata": {},
   "source": [
    "The `list.append` function is a specific instance of a range of functions that follow the template\n",
    "```python\n",
    "type_of_object.do_something(object, arg_1, ..., arg_n)\n",
    "```\n",
    "For all these functions, one can instead use the shorthand `object.do_something(arg_1, ..., arg_n)`.\n",
    "This is known as a **method** (see the section on functions for details)."
   ]
  },
  {
   "cell_type": "code",
   "execution_count": null,
   "metadata": {
    "collapsed": true
   },
   "outputs": [],
   "source": [
    "# we start an empty list\n",
    "memory = []\n",
    "\n",
    "while \"Star Trek\" not in memory:\n",
    "    print(\"What's the best Sci-Fi franchise?\")\n",
    "    memory.append(input())"
   ]
  },
  {
   "cell_type": "markdown",
   "metadata": {},
   "source": [
    "Two lists can be concatenated into one with the `+` operator.\n",
    "The order of arguments matters."
   ]
  },
  {
   "cell_type": "code",
   "execution_count": null,
   "metadata": {
    "collapsed": false
   },
   "outputs": [],
   "source": [
    "list1 = [0, 1, 2, 3, 4]\n",
    "list2 = [\"a\", \"b\", \"c\"]\n",
    "print(list1 + list2)\n",
    "print(list2 + list1)\n",
    "print(list1 + list1 + list2 + list1)"
   ]
  },
  {
   "cell_type": "markdown",
   "metadata": {},
   "source": [
    "Each item in a list can be referenced by its **index**."
   ]
  },
  {
   "cell_type": "code",
   "execution_count": null,
   "metadata": {
    "collapsed": false
   },
   "outputs": [],
   "source": [
    "list2 = [\"a\", \"b\", \"c\"]\n",
    "print(list2[0])\n",
    "print(list2[1])\n",
    "print(list2[2])"
   ]
  },
  {
   "cell_type": "markdown",
   "metadata": {},
   "source": [
    "Note that indexation starts at 0, not 1.\n",
    "Intuitively, each element of a list occurs between two numbers, and we use the one to the left to show us the item.\n",
    "\n",
    "```python\n",
    "0 a 1 b 2 c 3\n",
    "```\n",
    "\n",
    "If you accidentally use an index that's larger than the one before the last item, you'll get an error message."
   ]
  },
  {
   "cell_type": "code",
   "execution_count": null,
   "metadata": {
    "collapsed": true
   },
   "outputs": [],
   "source": [
    "print([\"a\", \"b\", \"c\"][2])  # 2 is the index of the last item\n",
    "print([\"a\", \"b\", \"c\"][3])  # 3 is greater than 2; this means trouble"
   ]
  },
  {
   "cell_type": "markdown",
   "metadata": {},
   "source": [
    "We can also use indices to pick out parts of a list with **slices**."
   ]
  },
  {
   "cell_type": "code",
   "execution_count": null,
   "metadata": {
    "collapsed": false
   },
   "outputs": [],
   "source": [
    "list2 = [\"a\", \"b\", \"c\"]\n",
    "print(list2[1:3])"
   ]
  },
  {
   "cell_type": "markdown",
   "metadata": {},
   "source": [
    "The index before/after the colon `:` can be omitted.\n",
    "In that case Python uses the first/last index of the list."
   ]
  },
  {
   "cell_type": "code",
   "execution_count": null,
   "metadata": {
    "collapsed": false
   },
   "outputs": [],
   "source": [
    "list2 = [\"a\", \"b\", \"c\"]\n",
    "print(list2[:2])  # from start to 2\n",
    "print(list2[1:])  # from 1 to end\n",
    "print(list2[:])   # from start to end"
   ]
  },
  {
   "cell_type": "markdown",
   "metadata": {},
   "source": [
    "With slices, there is no problem when the second index is too large for the list."
   ]
  },
  {
   "cell_type": "code",
   "execution_count": null,
   "metadata": {
    "collapsed": true
   },
   "outputs": [],
   "source": [
    "print([\"a\", \"b\", \"c\"][:999])  # a-okay with slices, no problem here\n",
    "print([\"a\", \"b\", \"c\"][999])   # ouch,"
   ]
  },
  {
   "cell_type": "markdown",
   "metadata": {},
   "source": [
    "This may seem horribly inconsistent to you, but if slices were as picky as single indices they would be very tricky to work with.\n",
    "Compare the following two code snippets.\n",
    "Each one returns the first 5 items of a list, but the second does so in a manner that never uses slices that extend beyond the end of the list.\n",
    "As you can see, the code is a bit more convoluted with no clear gain."
   ]
  },
  {
   "cell_type": "code",
   "execution_count": null,
   "metadata": {
    "collapsed": false
   },
   "outputs": [],
   "source": [
    "list1 = [0, 1, 2, 3, 4, 5, 6, 7, 8, 9]\n",
    "list2 = [\"a\", \"b\", \"c\"]\n",
    "\n",
    "for l in [list1, list2]:\n",
    "    print(l[:5])"
   ]
  },
  {
   "cell_type": "code",
   "execution_count": null,
   "metadata": {
    "collapsed": false
   },
   "outputs": [],
   "source": [
    "list1 = [0, 1, 2, 3, 4, 5, 6, 7, 8, 9]\n",
    "list2 = [\"a\", \"b\", \"c\"]\n",
    "\n",
    "for l in [list1, list2]:\n",
    "    end = min(5, len(l))\n",
    "    print(l[:end])"
   ]
  },
  {
   "cell_type": "markdown",
   "metadata": {},
   "source": [
    "**Caution:** slices always return lists, whereas a single index returns an item.\n",
    "Compare the following:"
   ]
  },
  {
   "cell_type": "code",
   "execution_count": null,
   "metadata": {
    "collapsed": false
   },
   "outputs": [],
   "source": [
    "list2 = [\"a\", \"b\", \"c\"]\n",
    "print(list2[2])\n",
    "print(list2[2:])"
   ]
  },
  {
   "cell_type": "markdown",
   "metadata": {},
   "source": [
    "### Summary\n",
    "\n",
    "```python\n",
    "# general list format\n",
    "[item1, item2, item3]\n",
    "# adding an item to a list\n",
    "list.append(some_list, item)\n",
    "# using the append-method instead\n",
    "some_list.append(item)\n",
    "# checking membership\n",
    "item in some_list\n",
    "item not in some_list\n",
    "# concatenating lists\n",
    "list1 + list2 + list3 + list4  # and so on\n",
    "# using indices\n",
    "list1[some_index]\n",
    "# and slices for extracting sublists\n",
    "list1[start_index:end_index]\n",
    "```"
   ]
  },
  {
   "cell_type": "markdown",
   "metadata": {},
   "source": [
    "### Common mistakes\n",
    "\n",
    "- Lists use square brackets, not parentheses or curly braces.\n",
    "- Don't confuse `append` (adding items to a list) and `+` (concatenating lists).\n",
    "  Something like `some_list + 5` won't work!\n",
    "- Don't use `some_list + [item]` for adding an item to a list.\n",
    "  The code works, but it's clunky and slower than `list.append(some_list, 5)`.\n",
    "- Do not confuse functions and method.\n",
    "  You can use `list.append(some_list, 5)` or `some_list.append(5)`, but not `append(some_list, 5)`, or `some_list.list.append(5)`, or `some_list.append(some_list, 5)`.\n",
    "- Indices are numbered left-to-right starting from 0, not 1.\n",
    "- Never use an index that's too large for the list.\n",
    "- Don't confuse index notation `[some_index]` and slice notation `[start_index:end_index]`."
   ]
  },
  {
   "cell_type": "markdown",
   "metadata": {},
   "source": [
    "## More on strings\n",
    "\n",
    "Strings are very similar to lists."
   ]
  },
  {
   "cell_type": "code",
   "execution_count": null,
   "metadata": {
    "collapsed": false
   },
   "outputs": [],
   "source": [
    "# defining strings\n",
    "string1 = \"What a\"\n",
    "string2 = \"lovely string\"\n",
    "\n",
    "# concatenation with +; note that we have to manually add the space between them\n",
    "print(string1 + \" \" + string2)\n",
    "\n",
    "# membership test with in and not in\n",
    "if \"hat \" in string1:\n",
    "    print(\"We can easily check for substrings.\")\n",
    "if \"ING\" not in string2:\n",
    "    print(\"But the checks are case sensitive.\")"
   ]
  },
  {
   "cell_type": "markdown",
   "metadata": {},
   "source": [
    "In addition, the functions `str.upper`, `str.lower`, `str.title` (or their corresponding methods) can be used to modify a strings capitalization."
   ]
  },
  {
   "cell_type": "code",
   "execution_count": null,
   "metadata": {
    "collapsed": false
   },
   "outputs": [],
   "source": [
    "improper_cap = \"This String, it is CaPitaLizEd BADLY!!!\"\n",
    "\n",
    "# all upper case\n",
    "print(str.upper(improper_cap))  # function\n",
    "print(improper_cap.upper())     # method; don't forget about () at the end\n",
    "\n",
    "# all lower case\n",
    "print(str.lower(improper_cap))  # function\n",
    "print(improper_cap.lower())     # method; don't forget about () at the end\n",
    "\n",
    "# all title case\n",
    "print(str.title(improper_cap))  # function\n",
    "print(improper_cap.title())     # method; don't forget about () at the end"
   ]
  },
  {
   "cell_type": "markdown",
   "metadata": {},
   "source": [
    "Keep in mind that Python does not ignore capitalization differences by default."
   ]
  },
  {
   "cell_type": "code",
   "execution_count": null,
   "metadata": {
    "collapsed": false
   },
   "outputs": [],
   "source": [
    "print(\"String\" == \"STRING\")\n",
    "print(\"String\".lower() == \"STRING\".lower())"
   ]
  },
  {
   "cell_type": "markdown",
   "metadata": {},
   "source": [
    "### Summary\n",
    "\n",
    "```python\n",
    "# use double quotes to avoid issues with apostrophes\n",
    "\"somebody's favorite string\"\n",
    "# concatenation with +\n",
    "\"some string\" + \" and some other string\"\n",
    "# change capitalization with function\n",
    "str.upper(some_string)\n",
    "str.lower(some_string)\n",
    "str.title(some_string)\n",
    "# change capitalization with method\n",
    "some_string.upper()\n",
    "some_string.lower()\n",
    "some_string.title()\n",
    "```"
   ]
  },
  {
   "cell_type": "markdown",
   "metadata": {},
   "source": [
    "### Common mistakes\n",
    "\n",
    "- When concatenating strings with `+`, you have to handle whitespace yourself.\n",
    "  The output of `\"some\" + \"string\"` is `\"somestring\"`, not `\"some string\"`.\n",
    "- When using methods for changing capitalization, don't forget about the parenthesis at the end.\n",
    "  It is `some_string.upper()`, not `some_string.upper`."
   ]
  },
  {
   "cell_type": "markdown",
   "metadata": {},
   "source": [
    "## Sets\n",
    "\n",
    "Sets are very similar to lists except that they are\n",
    "\n",
    "1. unordered, and\n",
    "1. do not contain duplicates."
   ]
  },
  {
   "cell_type": "code",
   "execution_count": null,
   "metadata": {
    "collapsed": false
   },
   "outputs": [],
   "source": [
    "list1 = [\"some string\"]\n",
    "list2 = [\"some string\", \"another string\"]\n",
    "list3 = [\"another string\", \"some string\"]\n",
    "list4 = [\"some string\", \"some string\", \"another string\"]\n",
    "\n",
    "# all four lists are distinct from each other\n",
    "the_lists = [list1, list2, list3, list4]\n",
    "for l1 in the_lists:\n",
    "    print(l1, \"is the same as\")\n",
    "    for l2 in the_lists:\n",
    "        if l1 != l2:\n",
    "            print(l2, l1 == l2, sep=\": \")\n",
    "    print(\"-----\")"
   ]
  },
  {
   "cell_type": "code",
   "execution_count": null,
   "metadata": {
    "collapsed": false
   },
   "outputs": [],
   "source": [
    "list1 = [\"some string\"]\n",
    "list2 = [\"some string\", \"another string\"]\n",
    "list3 = [\"another string\", \"some string\"]\n",
    "list4 = [\"some string\", \"some string\", \"another string\"]\n",
    "\n",
    "# but as sets, l2 = l3 = l4\n",
    "the_lists = [list1, list2, list3, list4]\n",
    "for l1 in the_lists:\n",
    "    print(set(l1), \"is the same as\")\n",
    "    for l2 in the_lists:\n",
    "        if l1 != l2:\n",
    "            print(set(l2), set(l1) == set(l2), sep=\": \")\n",
    "    print(\"-----\")"
   ]
  },
  {
   "cell_type": "markdown",
   "metadata": {},
   "source": [
    "Sets can be defined in two different ways.\n",
    "Either you convert a list to a set using the `set()` function, or you directly define the set using curly braces."
   ]
  },
  {
   "cell_type": "code",
   "execution_count": null,
   "metadata": {
    "collapsed": false
   },
   "outputs": [],
   "source": [
    "set([\"some string\", \"another string\"]) == {\"some string\", \"another string\"}"
   ]
  },
  {
   "cell_type": "markdown",
   "metadata": {},
   "source": [
    "Sets can be much faster than lists for membership tests, which are still done with `in` and `not in`."
   ]
  },
  {
   "cell_type": "code",
   "execution_count": null,
   "metadata": {
    "collapsed": false
   },
   "outputs": [],
   "source": [
    "print(0 in {0,1})\n",
    "print(0 not in {0,1})"
   ]
  },
  {
   "cell_type": "markdown",
   "metadata": {},
   "source": [
    "But sets are also more limited than lists.\n",
    "They do not preserve order, cannot contain duplicates, and they can only contain so-called *hashable* objects, e.g. strings and numbers.\n",
    "Lists, sets, and counters are not hashable and thus cannot be contained in sets."
   ]
  },
  {
   "cell_type": "code",
   "execution_count": null,
   "metadata": {
    "collapsed": false
   },
   "outputs": [],
   "source": [
    "# allowed\n",
    "good_set1 = {\"this\", \"is\", \"okay\"}\n",
    "good_set2 = {0, 3, 938, 16, -5, 3.7, \"see\", \"numbers\", \"work\", \"111!11\", 5, 5}"
   ]
  },
  {
   "cell_type": "code",
   "execution_count": null,
   "metadata": {
    "collapsed": true
   },
   "outputs": [],
   "source": [
    "bad_set1 = {[\"this\", \"is\"], \"not\", \"okay\"}"
   ]
  },
  {
   "cell_type": "code",
   "execution_count": null,
   "metadata": {
    "collapsed": true
   },
   "outputs": [],
   "source": [
    "bad_set2 = {{\"this\", \"is\"}, \"not\", \"okay\", \"either\"}"
   ]
  },
  {
   "cell_type": "markdown",
   "metadata": {},
   "source": [
    "A common use for sets is to remove duplicates from a list.\n",
    "One first converts the list to a set, and then the set back to a list."
   ]
  },
  {
   "cell_type": "code",
   "execution_count": null,
   "metadata": {
    "collapsed": false
   },
   "outputs": [],
   "source": [
    "redundant_list = [0,0,0,0,0,0,0]\n",
    "print(set(redundant_list))\n",
    "print(list(set(redundant_list)))"
   ]
  },
  {
   "cell_type": "markdown",
   "metadata": {},
   "source": [
    "### Summary\n",
    "\n",
    "```python\n",
    "# convert some_list to a set\n",
    "set(some_list)\n",
    "# define a set\n",
    "{item1, item2, ...}\n",
    "# membership test\n",
    "item in some_set\n",
    "item not in some_set\n",
    "```"
   ]
  },
  {
   "cell_type": "markdown",
   "metadata": {},
   "source": [
    "### Common mistakes\n",
    "\n",
    "- Sets are not lists.\n",
    "  You cannot use indices, slices, `+`, or `.append`.\n",
    "- Sets are less flexible than lists, they can only contain certain types of objects.\n",
    "  Don't try to put lists or sets inside sets.\n",
    "- When in doubt, stick with lists and only use sets if you really need the extra speed."
   ]
  },
  {
   "cell_type": "markdown",
   "metadata": {},
   "source": [
    "## `for`-loops\n",
    "\n",
    "Use a `for` loop to iterate over a \"container-like\" object, e.g. a list, a string, or a set."
   ]
  },
  {
   "cell_type": "code",
   "execution_count": null,
   "metadata": {
    "collapsed": false
   },
   "outputs": [],
   "source": [
    "for word in [\"list\", \"items\"]:\n",
    "    print(word)\n",
    "    \n",
    "for word in [\"set\", \"items\"]:\n",
    "    print(word)\n",
    "    \n",
    "for char in \"string\":\n",
    "    print(char)"
   ]
  },
  {
   "cell_type": "markdown",
   "metadata": {},
   "source": [
    "Since there are no restrictions on the code block under a `for`, it can contain other loops."
   ]
  },
  {
   "cell_type": "code",
   "execution_count": null,
   "metadata": {
    "collapsed": false
   },
   "outputs": [],
   "source": [
    "for word in [\"list\", \"items\"]:\n",
    "    for char in word:\n",
    "        if char in \"aeiou\":\n",
    "            while True:\n",
    "                print(\"I found a vowel!\")\n",
    "                print(\"Guess what it is!\")\n",
    "                guess = input()\n",
    "                if guess == char:\n",
    "                    break\n",
    "            print(\"Yes, that's it! How did you know?\")\n",
    "    print(f\"Done with {word}\")\n",
    "print(\"That's it folks!\")"
   ]
  },
  {
   "cell_type": "markdown",
   "metadata": {},
   "source": [
    "### Summary\n",
    "\n",
    "```python\n",
    "for object in container:\n",
    "    do_something\n",
    "```"
   ]
  },
  {
   "cell_type": "markdown",
   "metadata": {},
   "source": [
    "### Common mistakes\n",
    "\n",
    "- You can only iterate over container-like objects (*iterables*).\n",
    "  Something like `for i in 5` or `for n < 5` does not work.\n",
    "- As always, pay attention to proper indentation."
   ]
  },
  {
   "cell_type": "markdown",
   "metadata": {},
   "source": [
    "## Counters\n",
    "\n",
    "Counters may look similar to lists, but they work very differently.\n",
    "A Counter is a collection of **keys**, each one of which is associated with a specific numerical **value**.\n",
    "The default use for a Counter is to keep track of how often a specific item occurs in a list."
   ]
  },
  {
   "cell_type": "code",
   "execution_count": null,
   "metadata": {
    "collapsed": true
   },
   "outputs": [],
   "source": [
    "from collections import Counter\n",
    "\n",
    "words = [\"John\", \"likes\" , \"John\", \"and\", \"only\", \"John\"]\n",
    "print(Counter(words))"
   ]
  },
  {
   "cell_type": "markdown",
   "metadata": {},
   "source": [
    "The keys are used to retrieve specific values from the Counter.\n",
    "You cannot use indices because in contrast to lists, Counters have no fixed order."
   ]
  },
  {
   "cell_type": "code",
   "execution_count": null,
   "metadata": {
    "collapsed": true
   },
   "outputs": [],
   "source": [
    "from collections import Counter\n",
    "\n",
    "words = [\"John\", \"likes\" , \"John\", \"and\", \"only\", \"John\"]\n",
    "counts = Counter(words)\n",
    "\n",
    "for word in words:\n",
    "    print(f\"Count of {word}: {counts[word]}\")"
   ]
  },
  {
   "cell_type": "markdown",
   "metadata": {},
   "source": [
    "To get a list of the most common words and their respective counts, use the `Counter.most_common` function, or the `.most_common` method."
   ]
  },
  {
   "cell_type": "code",
   "execution_count": null,
   "metadata": {
    "collapsed": true
   },
   "outputs": [],
   "source": [
    "from collections import Counter\n",
    "\n",
    "words = [\"John\", \"likes\" , \"John\", \"and\", \"only\", \"John\", \"and\", \"that\", \"'s\", \"a\", \"fact\"]\n",
    "counts = Counter(words)\n",
    "\n",
    "# print the 2 most common items; function style\n",
    "print(Counter.most_common(counts, 2)\n",
    "\n",
    "# print the 2 most common items; method style\n",
    "print(counts.most_common(2))"
   ]
  },
  {
   "cell_type": "markdown",
   "metadata": {},
   "source": [
    "Counters can be iterated over with `for`.\n",
    "But this will only iterate over the keys, not the values."
   ]
  },
  {
   "cell_type": "code",
   "execution_count": null,
   "metadata": {
    "collapsed": false
   },
   "outputs": [],
   "source": [
    "from collections import Counter\n",
    "\n",
    "words = [\"John\", \"likes\" , \"John\", \"and\", \"only\", \"John\", \"and\", \"that\", \"'s\", \"a\", \"fact\"]\n",
    "counts = Counter(words)\n",
    "\n",
    "for c in counts:\n",
    "    print(c)"
   ]
  },
  {
   "cell_type": "markdown",
   "metadata": {},
   "source": [
    "For more fine-grained control, you might want to obtain a list from the counter first.\n",
    "For a list of all the keys, use `keys()`.\n",
    "For a list of all the values, use `values()`.\n",
    "Both are available as functions and methods."
   ]
  },
  {
   "cell_type": "code",
   "execution_count": null,
   "metadata": {
    "collapsed": true
   },
   "outputs": [],
   "source": [
    "from collections import Counter\n",
    "\n",
    "words = [\"John\", \"likes\" , \"John\", \"and\", \"only\", \"John\", \"and\", \"that\", \"'s\", \"a\", \"fact\"]\n",
    "counts = Counter(words)\n",
    "\n",
    "# print keys, as function\n",
    "print(Counter.keys(counts))\n",
    "# print keys, as method\n",
    "print(counts.keys())\n",
    "\n",
    "# print values, as function\n",
    "print(Counter.values(counts))\n",
    "# print values, as method\n",
    "print(counts.values())"
   ]
  },
  {
   "cell_type": "markdown",
   "metadata": {},
   "source": [
    "### Summary\n",
    "\n",
    "```python\n",
    "# Counters need to be imported\n",
    "from collections import Counter\n",
    "# create a counter counts from some_list\n",
    "counts = Counter(some_list)\n",
    "# get the n most common items\n",
    "Counter.most_common(counts, n)  # function style\n",
    "counts.most_common(n)           # method style\n",
    "# get the list of keys (i.e. items)\n",
    "Counter.keys(counts)  # function style\n",
    "counts.keys()         # method style\n",
    "# the the list of values (i.e. counts)\n",
    "Counter.values(counts)  # function style\n",
    "counts.values()         # method style\n",
    "```"
   ]
  },
  {
   "cell_type": "markdown",
   "metadata": {},
   "source": [
    "### Common mistakes\n",
    "\n",
    "- Counters use keys, not indices.\n",
    "  Something like `some_counter[1]` won't work.\n",
    "- If the key is a string, don't forget the quotes.\n",
    "  To look at the value of `\"some_string\"`, you have to use `some_counter[\"some_string\"]`, not `some_counter[some_string]`.\n",
    "- When using the `keys` and `values` methods, don't forget the parenthesis.\n",
    "  Just `some_counter.keys` won't work, it has to be `some_counter.keys()`.\n",
    "- By default, iterating over a counter with `for` iterates over the keys, not the values."
   ]
  },
  {
   "cell_type": "markdown",
   "metadata": {},
   "source": [
    "## Built-in functions\n",
    "\n",
    "Python has several built-in functions.\n",
    "Two of them are `print` and `input`, discussed at the beginning of this notebook.\n",
    "Other important ones are `len`, `sorted`, `max`, `min`, and `sum`."
   ]
  },
  {
   "cell_type": "markdown",
   "metadata": {},
   "source": [
    "The `len` function tells you the length of an item.\n",
    "It works with strings, lists, sets, Counters, and many other container-like objects."
   ]
  },
  {
   "cell_type": "code",
   "execution_count": null,
   "metadata": {
    "collapsed": true
   },
   "outputs": [],
   "source": [
    "# length of string, by total number of characters\n",
    "print(len(\"This is short, but not that short\"))\n",
    "\n",
    "# length of list, by number of items\n",
    "print(len([\"This\", \"is\", \"short\", \"but\", \"not\", \"that\", \"short\"]))\n",
    "\n",
    "# length of set, by number of items;\n",
    "# not the shorter length because sets do not contain duplicates\n",
    "print(len({\"This\", \"is\", \"short\", \"but\", \"not\", \"that\", \"short\"}))\n",
    "\n",
    "# length of Counter, by number of items;\n",
    "# not the shorter length because Counters do not contain duplicate keys\n",
    "print(len(Counter([\"This\", \"is\", \"short\", \"but\", \"not\", \"that\", \"short\"]))"
   ]
  },
  {
   "cell_type": "markdown",
   "metadata": {},
   "source": [
    "The `sorted` function orders objects."
   ]
  },
  {
   "cell_type": "code",
   "execution_count": null,
   "metadata": {
    "collapsed": true
   },
   "outputs": [],
   "source": [
    "sorted([\"flowers\", \"are\", \"pretty\"]"
   ]
  },
  {
   "cell_type": "markdown",
   "metadata": {},
   "source": [
    "It can only be used on objects that have an ordering, like strings and lists.\n",
    "It cannot be used with sets or Counters.\n",
    "It also cannot be used on lists that contain items of incomparable type.\n",
    "A list of strings is fine, and so is a list of numbers, but a list of numbers and strings cannot be sorted."
   ]
  },
  {
   "cell_type": "code",
   "execution_count": null,
   "metadata": {
    "collapsed": true
   },
   "outputs": [],
   "source": [
    "# fine\n",
    "sorted([\"Anne\", \"punched\", \"Peter\"])"
   ]
  },
  {
   "cell_type": "code",
   "execution_count": null,
   "metadata": {
    "collapsed": true
   },
   "outputs": [],
   "source": [
    "# fine\n",
    "sorted([.7, 5, -3])"
   ]
  },
  {
   "cell_type": "code",
   "execution_count": null,
   "metadata": {
    "collapsed": true
   },
   "outputs": [],
   "source": [
    "# bad\n",
    "sorted([\"Anne\", \"punched\", \"Peter\", 3, \"times\"])"
   ]
  },
  {
   "cell_type": "code",
   "execution_count": null,
   "metadata": {
    "collapsed": true
   },
   "outputs": [],
   "source": [
    "# fine, because 3 is now a string\n",
    "sorted([\"Anne\", \"punched\", \"Peter\", \"3\", \"times\"])"
   ]
  },
  {
   "cell_type": "code",
   "execution_count": null,
   "metadata": {
    "collapsed": true
   },
   "outputs": [],
   "source": [
    "# bad, because we have both strings and lists of strings\n",
    "sorted([\"Anne\", \"punched\", \"Peter\", [\"3\", \"times\"]])"
   ]
  },
  {
   "cell_type": "markdown",
   "metadata": {},
   "source": [
    "Numbers are sorted from smallest to largest.\n",
    "Strings are ordered as follows:\n",
    "\n",
    "1. punctuation\n",
    "1. words that start with upper case, in alphabetical order\n",
    "1. words that start with lower case, in alphabetical order\n",
    "\n",
    "The same ordering principles are used by the functions `max` and `min`.\n",
    "Each one takes an arbitrary number of arguments and returns a specific one of them.\n",
    "The `max` function returns the argument that would be last if the arguments were rearranged with `sorted`.\n",
    "Similarly, the `min` function returns the argument that would be first."
   ]
  },
  {
   "cell_type": "code",
   "execution_count": null,
   "metadata": {
    "collapsed": true
   },
   "outputs": [],
   "source": [
    "max(.7, 5, -3)\n",
    "min(.7, 5, -3)\n",
    "max(\"Anne\", \"punched\", \"Peter\")\n",
    "min(\"Anne\", \"punched\", \"Peter\")"
   ]
  },
  {
   "cell_type": "markdown",
   "metadata": {},
   "source": [
    "Since `max` and `min` presuppose an ordering, their arguments must be comparable in the same manner outlined above for `sorted`."
   ]
  },
  {
   "cell_type": "markdown",
   "metadata": {},
   "source": [
    "Finally, the `sum` function takes a list of numbers and returns their sum."
   ]
  },
  {
   "cell_type": "code",
   "execution_count": null,
   "metadata": {
    "collapsed": true
   },
   "outputs": [],
   "source": [
    "sum([3,17, .7, 8])"
   ]
  },
  {
   "cell_type": "code",
   "execution_count": null,
   "metadata": {
    "collapsed": true
   },
   "outputs": [],
   "source": [
    "# this does not work\n",
    "sum(3, 17, .7, 8)"
   ]
  },
  {
   "cell_type": "code",
   "execution_count": null,
   "metadata": {
    "collapsed": true
   },
   "outputs": [],
   "source": [
    "# nor does this\n",
    "sum([3, 17], [.7, 8])"
   ]
  },
  {
   "cell_type": "code",
   "execution_count": null,
   "metadata": {
    "collapsed": true
   },
   "outputs": [],
   "source": [
    "# strings cannot be summed\n",
    "sum([\"does\", \"not\", \"work\"])"
   ]
  },
  {
   "cell_type": "code",
   "execution_count": null,
   "metadata": {
    "collapsed": true
   },
   "outputs": [],
   "source": [
    "# but this is fine\n",
    "sum(Counter([\"does\", \"not\", \"not\", \"work\"]))"
   ]
  },
  {
   "cell_type": "markdown",
   "metadata": {},
   "source": [
    "## Custom functions\n",
    "\n",
    "Like almost every other programming language, Python allows you to define your own functions.\n",
    "Functions take a fixed number of arguments and return a specific output.\n",
    "You should always add a docstring that describes what the function does.\n",
    "For simple functions, docstrings can be very short."
   ]
  },
  {
   "cell_type": "code",
   "execution_count": null,
   "metadata": {
    "collapsed": false
   },
   "outputs": [],
   "source": [
    "# define a new function for adding 1\n",
    "def add_1(n):\n",
    "    \"\"\"Increment n by 1.\"\"\"\n",
    "    # return the result of increasing n by 1 \n",
    "    return n + 1\n",
    "\n",
    "\n",
    "# a definition by itself does not do anything;\n",
    "# but we can now call the function wherever we want\n",
    "m = 0\n",
    "print(\"The number is\", m)\n",
    "while m <= 5:\n",
    "    print(\"Call add_1 function to increment number by 1\")\n",
    "    m = add_1(m)\n",
    "    print(\"The number is now\", m)\n",
    "    print(\"---\")"
   ]
  },
  {
   "cell_type": "markdown",
   "metadata": {},
   "source": [
    "Functions can have multiple `return`statements.\n",
    "But as soon as the first `return` is reached, the function ends and outputs the value specified by this `return` statement."
   ]
  },
  {
   "cell_type": "code",
   "execution_count": null,
   "metadata": {
    "collapsed": false
   },
   "outputs": [],
   "source": [
    "def towards_10(n):\n",
    "    \"\"\"Gradually shift n towards 10.\"\"\"\n",
    "    if n < 10:\n",
    "        print(\"towards_10 info: n too small, incrementing by 3\")\n",
    "        return n + 3\n",
    "    elif n > 10:\n",
    "        print(\"towards_10 info: n too large, decrementing by 1\")\n",
    "        return n -1\n",
    "    else:\n",
    "        print(\"towards_10 info: n is already 10\")\n",
    "        return n\n",
    " \n",
    "\n",
    "m = 0\n",
    "print(\"The number is now\", m)\n",
    "print(\"---\")\n",
    "while True:\n",
    "    print(\"Call towards_10 function to get the number closer to 10\")\n",
    "    m = towards_10(m)\n",
    "    print(\"The number is now\", m)\n",
    "    print(\"---\")\n",
    "    if m == 10:\n",
    "        print(\"Call towards_10 function to get the number closer to 10\")\n",
    "        n = towards_10(m)\n",
    "        print(\"The number is now\", m)\n",
    "        print(\"---\")\n",
    "        break"
   ]
  },
  {
   "cell_type": "code",
   "execution_count": null,
   "metadata": {
    "collapsed": false
   },
   "outputs": [],
   "source": [
    "def contains_small_prime(number_list):\n",
    "    \"\"\"Check list for primes < 10.\"\"\"\n",
    "    for n in number_list:\n",
    "        if n in [2, 3, 5, 7]:\n",
    "            # we found a small prime;\n",
    "            # return True and stop here\n",
    "            return True\n",
    "    # we have made it through the whole for-loop without returning;\n",
    "    # hence the list does not contain a small prime\n",
    "    return False\n",
    "\n",
    "\n",
    "print(contains_small_prime([\"Alex\", \"Babs\"]))\n",
    "print(contains_small_prime([0, 593, 7]))"
   ]
  },
  {
   "cell_type": "markdown",
   "metadata": {},
   "source": [
    "Always keep in mind that a function ends as soon as the first `return` is encountered.\n",
    "You cannot use `return` inside a loop to get multiple outputs."
   ]
  },
  {
   "cell_type": "code",
   "execution_count": null,
   "metadata": {
    "collapsed": false
   },
   "outputs": [],
   "source": [
    "def broken_search_all_shorts(string_list):\n",
    "    \"\"\"Return all short strings in the list.\"\"\"\n",
    "    for s in string_list:\n",
    "        if len(s) < 3:\n",
    "            return s\n",
    "\n",
    "print(broken_search_all_shorts([\"a\", \"bee\", \"is\", \"not\", \"dangerous\"]))\n",
    "print(\"Intended output: a, bee, is, not\")\n",
    "print(\"But as you can see, the function stops with the first return.\")"
   ]
  },
  {
   "cell_type": "markdown",
   "metadata": {},
   "source": [
    "You can use `return` together with ternary `if` (see also the earlier section on `if`)."
   ]
  },
  {
   "cell_type": "code",
   "execution_count": null,
   "metadata": {
    "collapsed": false
   },
   "outputs": [],
   "source": [
    "# the long version without ternary if\n",
    "def same_length_concat(string1, string2):\n",
    "    \"Concatenate strings of same length, otherwise return first string.\"\n",
    "    if len(string1) == len(string2):\n",
    "        return string1 + string2\n",
    "    else:\n",
    "        return string1\n",
    "    \n",
    "\n",
    "print(same_length_concat(\"Hi \", \"Sue\"))\n",
    "print(same_length_concat(\"Hi \", \"John\"))"
   ]
  },
  {
   "cell_type": "code",
   "execution_count": null,
   "metadata": {
    "collapsed": true
   },
   "outputs": [],
   "source": [
    "# same functionality, but shorter and more readable\n",
    "def same_length_concat(string1, string2):\n",
    "    return string1 + string2 if len(string1) == len(string2) else string1\n",
    "\n",
    "\n",
    "print(same_length_concat(\"Hi \", \"Sue\"))\n",
    "print(same_length_concat(\"Hi \", \"John\"))"
   ]
  },
  {
   "cell_type": "markdown",
   "metadata": {},
   "source": [
    "Functions are blackboxes in the sense that nothing that happens inside the function is accessible from the outside.\n",
    "The only accessible material is whatever is output by `return`."
   ]
  },
  {
   "cell_type": "code",
   "execution_count": null,
   "metadata": {
    "collapsed": false
   },
   "outputs": [],
   "source": [
    "def blackbox():\n",
    "    \"\"\"Define variable a\"\"\"\n",
    "    var_a = \"This variable exists inside the function\"\n",
    "    print(var_a)\n",
    "\n",
    "\n",
    "# calling blackbox to define a\n",
    "blackbox()\n",
    "# but this still gives an error because a does not exist outside blackbox\n",
    "print(var_a)"
   ]
  },
  {
   "cell_type": "markdown",
   "metadata": {},
   "source": [
    "For the same reasons, variables inside functions do not overwrite the value of variables outside the function."
   ]
  },
  {
   "cell_type": "code",
   "execution_count": null,
   "metadata": {
    "collapsed": false
   },
   "outputs": [],
   "source": [
    "var_b = \"This variable exists outside the function\"\n",
    "print(var_b)\n",
    "\n",
    "\n",
    "def blackbox():\n",
    "    \"\"\"Define variable a\"\"\"\n",
    "    var_b = \"This variable exists inside the function\"\n",
    "    print(var_b)\n",
    "\n",
    "# call blackbox\n",
    "blackbox()\n",
    "# but the value of a is still the same\n",
    "print(var_b)"
   ]
  },
  {
   "cell_type": "markdown",
   "metadata": {},
   "source": [
    "### Summary\n",
    "\n",
    "```python\n",
    "def function_name(arg_1, arg_2, ..., arg_n):\n",
    "    # some code block, perhaps containing one or more returns\n",
    "```"
   ]
  },
  {
   "cell_type": "markdown",
   "metadata": {},
   "source": [
    "### Common mistakes\n",
    "\n",
    "- Don't confuse **defining** a function and **calling** a function.\n",
    "  First you define the function to specify what it does.\n",
    "  Later on, you can call it to execute the code in the function.\n",
    "  Just defininig the function does not do anything.\n",
    "  \n",
    "- Don't confuse `print` and `return`.\n",
    "  The `print` function is only used to show messages to the user, whereas `return` is needed to pass a value out of a function.\n",
    "  \n",
    "- The function ends as soon as it encounters the first `return`.\n",
    "  You cannot return multiple times within the same function call.\n",
    "  \n",
    "- Functions are blackboxes.\n",
    "  Variables defined inside a function cannot be used outside of it."
   ]
  },
  {
   "cell_type": "markdown",
   "metadata": {},
   "source": [
    "## Libraries/modules/packages\n",
    "\n",
    "Python comes with **libraries** that provide additional functionality for specialized purposes.\n",
    "A different name for libraries is **modules**.\n",
    "A **package** is a collection of modules.\n",
    "Packages and modules are treated exactly the same, it's just that packages tend to be much larger than modules."
   ]
  },
  {
   "cell_type": "code",
   "execution_count": null,
   "metadata": {
    "collapsed": true
   },
   "outputs": [],
   "source": [
    "# we load the random library\n",
    "import random\n",
    "\n",
    "# and now we use one of its specialized functions\n",
    "chosen_item = random.choice([0, 1, 2, 3])\n",
    "print(chosen_item)"
   ]
  },
  {
   "cell_type": "markdown",
   "metadata": {},
   "source": [
    "If you import some library `foo` with `import foo`, the function `bar` of library `foo` will be available as `foo.bar`.\n",
    "In some cases, this can create very long function names."
   ]
  },
  {
   "cell_type": "code",
   "execution_count": null,
   "metadata": {
    "collapsed": false
   },
   "outputs": [],
   "source": [
    "import urllib.request\n",
    "url = \"http://thomasgraf.net/images/graf.jpg\"\n",
    "urllib.request.urlretrieve(url, \"graf.jpg\")  # this only works if your CoCalc account has been upgraded already!"
   ]
  },
  {
   "cell_type": "markdown",
   "metadata": {},
   "source": [
    "In those cases, we can use `from foo import bar` instead."
   ]
  },
  {
   "cell_type": "code",
   "execution_count": null,
   "metadata": {
    "collapsed": false
   },
   "outputs": [],
   "source": [
    "from urllib.request import urlretrieve\n",
    "url = \"http://thomasgraf.net/images/graf.jpg\"\n",
    "urlretrieve(url, \"graf.jpg\")  # this only works if your CoCalc account has been upgraded already!"
   ]
  },
  {
   "cell_type": "markdown",
   "metadata": {},
   "source": [
    "This is particularly useful with the `pprint` library, which is often only used for its `pprint` function.\n",
    "The name `pprint` is short for *pretty print*."
   ]
  },
  {
   "cell_type": "code",
   "execution_count": null,
   "metadata": {
    "collapsed": false
   },
   "outputs": [],
   "source": [
    "import pprint\n",
    "long_list = [\"This\", \"long\", \"list\", \"contains\", \"many\", \"words\", \",\", \"including\", \"supercalifragilisticexpialidocious\"]\n",
    "print(\"long_list with `print`:\")\n",
    "print(long_list)\n",
    "print(\"\\nAnd now with `pprint`:\")\n",
    "pprint.pprint(long_list)"
   ]
  },
  {
   "cell_type": "code",
   "execution_count": null,
   "metadata": {
    "collapsed": false,
    "scrolled": true
   },
   "outputs": [],
   "source": [
    "from pprint import pprint\n",
    "long_list = [\"This\", \"long\", \"list\", \"contains\", \"many\", \"words\", \",\", \"including\", \"supercalifragilisticexpialidocious\"]\n",
    "print(\"long_list with `print`:\")\n",
    "print(long_list)\n",
    "print(\"\\nAnd now with `pprint`:\")\n",
    "pprint(long_list)   # now we can use the shorter command"
   ]
  },
  {
   "cell_type": "markdown",
   "metadata": {},
   "source": [
    "## Regular expressions"
   ]
  },
  {
   "cell_type": "markdown",
   "metadata": {},
   "source": [
    "## Comprehensions\n",
    "\n",
    "Comprehensions allow you to build up container-like objects like sets and lists without the use of a separate `for`-loop.\n",
    "The most common type is list comprehensions, but set comprehensions work almost exactly the same"
   ]
  },
  {
   "cell_type": "code",
   "execution_count": 17,
   "metadata": {
    "collapsed": false
   },
   "outputs": [
    {
     "name": "stdout",
     "output_type": "stream",
     "text": [
      "[2, 6, 34, 182]\n"
     ]
    }
   ],
   "source": [
    "# doubling all items in a list, long way\n",
    "number_list = [1, 3, 17, 91]\n",
    "doubled = []\n",
    "for n in number_list:\n",
    "    doubled.append(2 * n)\n",
    "print(doubled)"
   ]
  },
  {
   "cell_type": "code",
   "execution_count": null,
   "metadata": {
    "collapsed": true
   },
   "outputs": [],
   "source": [
    "# doubling all items in a list, with comprehension\n",
    "number_list = [1, 3, 17, 91]\n",
    "doubled = [2 * n for n in number_list]  # list comprehension uses [ and ]\n",
    "print(doubled)"
   ]
  },
  {
   "cell_type": "code",
   "execution_count": 18,
   "metadata": {
    "collapsed": false
   },
   "outputs": [
    {
     "name": "stdout",
     "output_type": "stream",
     "text": [
      "[34, 182]\n"
     ]
    }
   ],
   "source": [
    "# only add number and double it if n > 10\n",
    "number_list = [1, 3, 17, 91]\n",
    "doubled = [2 * n for n in number_list if n > 10]\n",
    "print(doubled)"
   ]
  },
  {
   "cell_type": "code",
   "execution_count": 19,
   "metadata": {
    "collapsed": false
   },
   "outputs": [
    {
     "name": "stdout",
     "output_type": "stream",
     "text": [
      "{2, 34, 182, 6}\n"
     ]
    }
   ],
   "source": [
    "# a set comprehension\n",
    "number_list = [1, 3, 17, 91, 17, 3, 1]\n",
    "doubled = {2 * n for n in number_list}  # set comprehension uses { and }\n",
    "print(doubled)"
   ]
  },
  {
   "cell_type": "code",
   "execution_count": 20,
   "metadata": {
    "collapsed": false
   },
   "outputs": [
    {
     "name": "stdout",
     "output_type": "stream",
     "text": [
      "['c', 'cc', 'ccc', 'python', 'pythonpython', 'pythonpythonpython', 'latex', 'latexlatex', 'latexlatexlatex', 'awk', 'awkawk', 'awkawkawk']\n"
     ]
    }
   ],
   "source": [
    "# a more complex list comprehension\n",
    "words = [\"C\", \"Python\", \"LaTeX\", \"awk\"]\n",
    "multipliers = [1, 2, 3]\n",
    "copies = [w.lower() * m for w in words for m in multipliers]\n",
    "print(copies)"
   ]
  },
  {
   "cell_type": "code",
   "execution_count": 21,
   "metadata": {
    "collapsed": false
   },
   "outputs": [
    {
     "name": "stdout",
     "output_type": "stream",
     "text": [
      "['c', 'cc', 'ccc', 'python', 'pythonpython', 'pythonpythonpython', 'latex', 'latexlatex', 'latexlatexlatex', 'awk', 'awkawk', 'awkawkawk']\n"
     ]
    }
   ],
   "source": [
    "# the previous exapmle without using comprehension\n",
    "words = [\"C\", \"Python\", \"LaTeX\", \"awk\"]\n",
    "multipliers = [1, 2, 3]\n",
    "copies = []\n",
    "for w in words:\n",
    "    for m in multipliers:\n",
    "        copies.append(w.lower() * m)\n",
    "print(copies)"
   ]
  },
  {
   "cell_type": "markdown",
   "metadata": {},
   "source": [
    "Comprehensions are not only more convenient than standard `for`-loops, but also **faster**.\n",
    "But they cannot do everything."
   ]
  },
  {
   "cell_type": "code",
   "execution_count": 23,
   "metadata": {
    "collapsed": false
   },
   "outputs": [
    {
     "name": "stdout",
     "output_type": "stream",
     "text": [
      "abcaabbccaaabbbccc\n"
     ]
    }
   ],
   "source": [
    "# there are no string comprehensions\n",
    "abc = \"\"\n",
    "for m in [1, 2, 3]:\n",
    "    for char in [\"a\", \"b\", \"c\"]:\n",
    "        abc = abc + char * m\n",
    "print(abc)"
   ]
  },
  {
   "cell_type": "code",
   "execution_count": 24,
   "metadata": {
    "collapsed": false
   },
   "outputs": [
    {
     "name": "stdout",
     "output_type": "stream",
     "text": [
      "[1, 2, 3, 5, 8]\n"
     ]
    }
   ],
   "source": [
    "# some lists cannot be built with comprehensions\n",
    "memory = [1, 2]\n",
    "for n in [3, 4, 5, 6, 7, 8]:\n",
    "    if n == memory[-1] + memory[-2]:\n",
    "        memory.append(n)\n",
    "print(memory)"
   ]
  },
  {
   "cell_type": "markdown",
   "metadata": {},
   "source": [
    "### Summary\n",
    "\n",
    "```python\n",
    "# list comprehension\n",
    "[some_func(var) for var in some_container if some_condition]\n",
    "# set comprehension\n",
    "{some_func(var) for var in some_container if some_condition}\n",
    "```"
   ]
  },
  {
   "cell_type": "markdown",
   "metadata": {},
   "source": [
    "### Common mistakes\n",
    "\n",
    "- Don't underuse comprehensions.\n",
    "  They can make your code a lot more readable and faster.\n",
    "  Whenver you want to define an empty list and add elements to it with a `for`-loop, ask yourself if a comprehension would do instead.\n",
    "- Don't overuse comprehensions.\n",
    "  Nested comprehensions are allowed, but can be hard to figure out."
   ]
  },
  {
   "cell_type": "markdown",
   "metadata": {},
   "source": [
    "## Miscellaneous"
   ]
  },
  {
   "cell_type": "markdown",
   "metadata": {},
   "source": [
    "### Basic mathematics"
   ]
  },
  {
   "cell_type": "code",
   "execution_count": 6,
   "metadata": {
    "collapsed": false
   },
   "outputs": [
    {
     "name": "stdout",
     "output_type": "stream",
     "text": [
      "8\n",
      "8.0\n",
      "8.0\n"
     ]
    }
   ],
   "source": [
    "# addition\n",
    "print(5 + 3)     # produces an integer\n",
    "print(5.0 + 3)   # produces a float (= decimal number)\n",
    "print(5 + 3.0)   # also produces a float"
   ]
  },
  {
   "cell_type": "code",
   "execution_count": 7,
   "metadata": {
    "collapsed": false
   },
   "outputs": [
    {
     "name": "stdout",
     "output_type": "stream",
     "text": [
      "2\n",
      "2.0\n",
      "2.0\n"
     ]
    }
   ],
   "source": [
    "# subtraction\n",
    "print(5 - 3)\n",
    "print(5.0 - 3)\n",
    "print(5 - 3.0)"
   ]
  },
  {
   "cell_type": "code",
   "execution_count": 8,
   "metadata": {
    "collapsed": false
   },
   "outputs": [
    {
     "name": "stdout",
     "output_type": "stream",
     "text": [
      "15\n",
      "15.0\n",
      "15.0\n"
     ]
    }
   ],
   "source": [
    "# multiplication\n",
    "print(5 * 3)\n",
    "print(5.0 * 3)\n",
    "print(5 * 3.0)"
   ]
  },
  {
   "cell_type": "code",
   "execution_count": 10,
   "metadata": {
    "collapsed": false
   },
   "outputs": [
    {
     "name": "stdout",
     "output_type": "stream",
     "text": [
      "125\n",
      "125.0\n",
      "125.0\n"
     ]
    }
   ],
   "source": [
    "# exponentation\n",
    "print(5 ** 3)\n",
    "print(5.0 ** 3)\n",
    "print(5 ** 3.0)"
   ]
  },
  {
   "cell_type": "code",
   "execution_count": 9,
   "metadata": {
    "collapsed": false
   },
   "outputs": [
    {
     "name": "stdout",
     "output_type": "stream",
     "text": [
      "1.6666666666666667\n",
      "1.6666666666666667\n",
      "1.6666666666666667\n"
     ]
    }
   ],
   "source": [
    "# division\n",
    "print(5 / 3)    # produces a float, not an integer!\n",
    "print(5.0 / 3)  # produces a float, as expected\n",
    "print(5 / 3.0)  # produces a float, also as expected"
   ]
  },
  {
   "cell_type": "code",
   "execution_count": 14,
   "metadata": {
    "collapsed": false
   },
   "outputs": [
    {
     "name": "stdout",
     "output_type": "stream",
     "text": [
      "1\n"
     ]
    }
   ],
   "source": [
    "print(int(5 / 3))  # this converts the float to an integer\n",
    "                   # -> cuts off all the decimals"
   ]
  },
  {
   "cell_type": "markdown",
   "metadata": {},
   "source": [
    "### Augmented assignments\n",
    "\n",
    "When changing the value of a variable, use augmented assignments if possible.\n",
    "They are faster and more convenient."
   ]
  },
  {
   "cell_type": "code",
   "execution_count": null,
   "metadata": {
    "collapsed": true
   },
   "outputs": [],
   "source": [
    "# clunky\n",
    "some_var = \"hi\"\n",
    "some_var = some_var + \" there\"\n",
    "print(some_var)"
   ]
  },
  {
   "cell_type": "code",
   "execution_count": 1,
   "metadata": {
    "collapsed": false
   },
   "outputs": [
    {
     "name": "stdout",
     "output_type": "stream",
     "text": [
      "hi there\n"
     ]
    }
   ],
   "source": [
    "# augmented assignment\n",
    "some_var = \"hi\"\n",
    "some_var += \" there\"\n",
    "print(some_var)"
   ]
  },
  {
   "cell_type": "code",
   "execution_count": null,
   "metadata": {
    "collapsed": true
   },
   "outputs": [],
   "source": [
    "# clunky\n",
    "some_var = \"ma\"\n",
    "some_var = some_var * 2\n",
    "print(some_var)"
   ]
  },
  {
   "cell_type": "code",
   "execution_count": 2,
   "metadata": {
    "collapsed": false
   },
   "outputs": [
    {
     "name": "stdout",
     "output_type": "stream",
     "text": [
      "mama\n"
     ]
    }
   ],
   "source": [
    "# augmented assignment\n",
    "some_var = \"ma\"\n",
    "some_var *= 2\n",
    "print(some_var)"
   ]
  },
  {
   "cell_type": "code",
   "execution_count": null,
   "metadata": {
    "collapsed": true
   },
   "outputs": [],
   "source": [
    "# clunky\n",
    "some_var = 0\n",
    "some_var = some_var + 1\n",
    "print(some_var)"
   ]
  },
  {
   "cell_type": "code",
   "execution_count": 1,
   "metadata": {
    "collapsed": false
   },
   "outputs": [
    {
     "name": "stdout",
     "output_type": "stream",
     "text": [
      "hi there\n"
     ]
    }
   ],
   "source": [
    "# augmented assignment\n",
    "some_var = 0\n",
    "some_var += 1\n",
    "print(some_var)"
   ]
  },
  {
   "cell_type": "code",
   "execution_count": null,
   "metadata": {
    "collapsed": true
   },
   "outputs": [],
   "source": [
    "# clunky\n",
    "some_var = 2\n",
    "some_var = some_var * 3\n",
    "print(some_var)"
   ]
  },
  {
   "cell_type": "code",
   "execution_count": 3,
   "metadata": {
    "collapsed": false
   },
   "outputs": [
    {
     "name": "stdout",
     "output_type": "stream",
     "text": [
      "6\n"
     ]
    }
   ],
   "source": [
    "# augmented assignment\n",
    "some_var = 2\n",
    "some_var *= 3\n",
    "print(some_var)"
   ]
  },
  {
   "cell_type": "markdown",
   "metadata": {},
   "source": [
    "```python\n",
    "# some augmented assignments\n",
    "some_var += n   # addition/concatenation\n",
    "some_var *= n   # multiplication/string copying\n",
    "some_var -= n   # subtraction/does not work with strings\n",
    "some_var /= n   # division/does not work with strings\n",
    "some_var **= n  # exponentation/does not work with strings\n",
    "```"
   ]
  },
  {
   "cell_type": "markdown",
   "metadata": {},
   "source": [
    "### Type annotations for functions\n",
    "\n",
    "In Python, each object has a **type** associated with it.\n",
    "\n",
    "**Object** | **Type**\n",
    "-:         | :-\n",
    "string     | `str`\n",
    "list       | `list'\n",
    "set        | `set`\n",
    "Counter    | `collections.Counter`\n",
    "integer    | `int`\n",
    "decimal numbers | `float`"
   ]
  },
  {
   "cell_type": "code",
   "execution_count": null,
   "metadata": {
    "collapsed": false
   },
   "outputs": [],
   "source": [
    "type(\"hi\")"
   ]
  },
  {
   "cell_type": "code",
   "execution_count": null,
   "metadata": {
    "collapsed": false
   },
   "outputs": [],
   "source": [
    "type([\"some\", \"list\", 2, 3, [\"with some stuff\", \"in it\"]])"
   ]
  },
  {
   "cell_type": "code",
   "execution_count": null,
   "metadata": {
    "collapsed": false
   },
   "outputs": [],
   "source": [
    "type({\"a\", \"set\"})"
   ]
  },
  {
   "cell_type": "code",
   "execution_count": null,
   "metadata": {
    "collapsed": false
   },
   "outputs": [],
   "source": [
    "from collections import Counter\n",
    "type(Counter([\"a\", \"counter\", \"from\", \"a\", \"list\"]))"
   ]
  },
  {
   "cell_type": "code",
   "execution_count": null,
   "metadata": {
    "collapsed": false
   },
   "outputs": [],
   "source": [
    "type(3)"
   ]
  },
  {
   "cell_type": "code",
   "execution_count": null,
   "metadata": {
    "collapsed": false
   },
   "outputs": [],
   "source": [
    "type(3.0)"
   ]
  },
  {
   "cell_type": "markdown",
   "metadata": {},
   "source": [
    "Sometimes it can be useful to add type information to a function to avoid ambiguities"
   ]
  },
  {
   "cell_type": "code",
   "execution_count": null,
   "metadata": {
    "collapsed": false
   },
   "outputs": [],
   "source": [
    "# Is the function below meant for numbers or strings?\n",
    "# It works with both...\n",
    "def mystery_function(a, b):\n",
    "    return a + b * 2\n",
    "\n",
    "\n",
    "print(mystery_function(5, 3))\n",
    "print(mystery_function(\"ba\", \"na\"))"
   ]
  },
  {
   "cell_type": "code",
   "execution_count": null,
   "metadata": {
    "collapsed": false
   },
   "outputs": [],
   "source": [
    "# Oh, I see:\n",
    "# a is a string, and\n",
    "# b is a string, and\n",
    "# the function outputs a string.\n",
    "def mystery_function(a: str, b: str) -> str:\n",
    "    return a + b * 2\n",
    "\n",
    "\n",
    "# but this information is just for us,\n",
    "# Python still allows any arbitrary argument\n",
    "print(mystery_function(5, 3))\n",
    "print(mystery_function(\"ba\", \"na\"))"
   ]
  },
  {
   "cell_type": "markdown",
   "metadata": {},
   "source": [
    "Type annotation is not essential for normal usage, but in combination with other tools like *pytest* it can help avoid some bugs.\n",
    "Still, most Python programmers don't use type annotations and instead describe the types in the function's docstring if necessary.\n",
    "In this course, however, we will sometimes use type annotations where they increase clarity."
   ]
  }
 ],
 "metadata": {
  "kernelspec": {
   "display_name": "Python 3",
   "language": "python",
   "name": "python3"
  },
  "language_info": {
   "codemirror_mode": {
    "name": "ipython",
    "version": 3
   },
   "file_extension": ".py",
   "mimetype": "text/x-python",
   "name": "python",
   "nbconvert_exporter": "python",
   "pygments_lexer": "ipython3",
   "version": "3.5.3"
  }
 },
 "nbformat": 4,
 "nbformat_minor": 2
}
