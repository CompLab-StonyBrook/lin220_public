{
 "cells": [
  {
   "cell_type": "markdown",
   "metadata": {},
   "source": [
    "# Stylistic remarks\n",
    "\n",
    "Suppose somebody were to walk into a hair salon and say \"I would like to procure an encutment of all my hair\".\n",
    "The owner of the salon would be able to figure out that the person wants a hair cut, so in principle this sentence works just fine.\n",
    "But it's clearly odd, it does not follow the style of English conversations.\n",
    "\n",
    "Programming languages also have their own style.\n",
    "You do not need to follow the style to get the job done, but in the long run it pays off to learn the stylistic conventions.\n",
    "Otherwise, your code will be very hard for others to read (and, in the case of this class: grade).\n",
    "\n",
    "Below are some general guidelines you should follow."
   ]
  },
  {
   "cell_type": "markdown",
   "metadata": {},
   "source": [
    "## Import first\n",
    "\n",
    "All `import` statements should appear at the very beginning.\n",
    "Don't load a package in the middle of your code."
   ]
  },
  {
   "cell_type": "code",
   "execution_count": null,
   "metadata": {
    "collapsed": true
   },
   "outputs": [],
   "source": [
    "# the following is not a nice way of doing things\n",
    "\n",
    "reply = \"some input from the user\"\n",
    "import re\n",
    "reply = re.sub(r\"[\\.\\?!-;,]\", r\"\", reply)"
   ]
  },
  {
   "cell_type": "code",
   "execution_count": null,
   "metadata": {
    "collapsed": true
   },
   "outputs": [],
   "source": [
    "# this is better\n",
    "import re\n",
    "\n",
    "reply = \"some input from the user\"\n",
    "reply = re.sub(r\"[\\.\\?!-;,]\", r\"\", reply)"
   ]
  },
  {
   "cell_type": "markdown",
   "metadata": {},
   "source": [
    "## Next functions, with two empty lines\n",
    "\n",
    "As a convention, every function definition has two (2) empty lines around it.\n",
    "This clearly separates the function from the rest of the code.\n",
    "You should also put all function definitions at the beginning, right after the `import` statements."
   ]
  },
  {
   "cell_type": "code",
   "execution_count": null,
   "metadata": {
    "collapsed": true
   },
   "outputs": [],
   "source": [
    "# the function definition is easy to miss,\n",
    "# and where does it even end?\n",
    "import random\n",
    "\n",
    "# pick two random numbers between 0 and 10\n",
    "a = random.int(10)\n",
    "b = random.int(10)\n",
    "def cond_subtraction(m, n):\n",
    "    if m >= n:\n",
    "        return m - n\n",
    "    else:\n",
    "        return 0\n",
    "while True:\n",
    "    print(a, b)\n",
    "    if cond_subtraction(a, b) == 0:\n",
    "        a += 1\n",
    "    else:\n",
    "        break"
   ]
  },
  {
   "cell_type": "code",
   "execution_count": null,
   "metadata": {
    "collapsed": false
   },
   "outputs": [],
   "source": [
    "# now we have a much cleaner outline of the program\n",
    "import random\n",
    "\n",
    "\n",
    "def cond_subtraction(m, n):\n",
    "    if m >= n:\n",
    "        return m - n\n",
    "    else:\n",
    "        return 0\n",
    "\n",
    "\n",
    "# pick two random numbers between 0 and 10\n",
    "a = random.int(10)\n",
    "b = random.int(10)\n",
    "\n",
    "while True:\n",
    "    print(a, b)\n",
    "    if cond_subtraction(a, b) == 0:\n",
    "        a += 1\n",
    "    else:\n",
    "        print(f\"{a} - {b} =\", cond_subtraction(a, b))\n",
    "        break"
   ]
  },
  {
   "cell_type": "markdown",
   "metadata": {},
   "source": [
    "## Space between arguments\n",
    "\n",
    "This is a very minor nitpick, and one that many programmers disagree with.\n",
    "But the Python style guidelines stipulate that a comma that separates two arguments should be followed by a space."
   ]
  },
  {
   "cell_type": "code",
   "execution_count": null,
   "metadata": {
    "collapsed": false
   },
   "outputs": [],
   "source": [
    "# this prints just fine,\n",
    "# but is not in line with the style guidelines\n",
    "print(\"Arguments\",\"without\",\"spaces\")"
   ]
  },
  {
   "cell_type": "code",
   "execution_count": null,
   "metadata": {
    "collapsed": false
   },
   "outputs": [],
   "source": [
    "# now with the official style guideline;\n",
    "# note that the output is exactly the same\n",
    "print(\"Arguments\", \"with\", \"spaces\")"
   ]
  },
  {
   "cell_type": "markdown",
   "metadata": {},
   "source": [
    "## Avoid long lines\n",
    " \n",
    "For historical reasons, it has become customary to keep lines shorter than 80 characters.\n",
    "You don't have to slavishly follow this limit, but try to keep your lines short by adding linebreaks."
   ]
  },
  {
   "cell_type": "code",
   "execution_count": null,
   "metadata": {
    "collapsed": true
   },
   "outputs": [],
   "source": [
    "# this is a very long comment that will go on forever; you see, it's still going, and there's no chance of it stopping anytime soon; well, actually, this is the end"
   ]
  },
  {
   "cell_type": "code",
   "execution_count": null,
   "metadata": {
    "collapsed": true
   },
   "outputs": [],
   "source": [
    "# this is a very long comment that will go on forever;\n",
    "# you see, it's still going, and there's no chance of it stopping anytime soon;\n",
    "# well, actually, this is the end"
   ]
  },
  {
   "cell_type": "markdown",
   "metadata": {},
   "source": [
    "With comments this is easy enough to do.\n",
    "When your actual code gets too long, there are some poins where you can easily add a linebreak without confusing Python.\n",
    "With list comprehensions, it's particularly easy.\n",
    "In other cases, you might have to add `\\` at the end of the line.\n",
    "If you find this confusing, just ignore the issue of overly long lines.\n",
    "It's better to have somewhat clunky code that works than code that looks nice but misbehaves."
   ]
  },
  {
   "cell_type": "code",
   "execution_count": null,
   "metadata": {
    "collapsed": true
   },
   "outputs": [],
   "source": [
    "# a very long list comprehension\n",
    "test = [some_variable_with_a_giant_name for some_variable_with_a_giant_name in range(10) if some_variable_with_a_giant_name != 7]"
   ]
  },
  {
   "cell_type": "code",
   "execution_count": null,
   "metadata": {
    "collapsed": true
   },
   "outputs": [],
   "source": [
    "# a more readable version of the same list comprehension\n",
    "test = [some_variable_with_a_giant_name\n",
    "        for some_variable_with_a_giant_name in range(10)\n",
    "        if some_variable_with_a_giant_name != 7]"
   ]
  },
  {
   "cell_type": "code",
   "execution_count": null,
   "metadata": {
    "collapsed": true
   },
   "outputs": [],
   "source": [
    "some_variable_with_a_giant_name = \"Hi\"\n",
    "\n",
    "if len(some_variable_with_a_giant_name) < 5 and some_variable_with_a_giant_name not in [\"Hello\", \"Goodbye\"]:\n",
    "    print(\"something\")"
   ]
  },
  {
   "cell_type": "code",
   "execution_count": null,
   "metadata": {
    "collapsed": false
   },
   "outputs": [],
   "source": [
    "some_variable_with_a_giant_name = \"Hi\"\n",
    "\n",
    "if len(some_variable_with_a_giant_name) < 5 and\\\n",
    "   some_variable_with_a_giant_name not in [\"Hello\", \"Goodbye\"]:\n",
    "    print(\"something\")"
   ]
  }
 ],
 "metadata": {
  "kernelspec": {
   "display_name": "Python 3",
   "language": "python",
   "name": "python3"
  },
  "language_info": {
   "codemirror_mode": {
    "name": "ipython",
    "version": 3
   },
   "file_extension": ".py",
   "mimetype": "text/x-python",
   "name": "python",
   "nbconvert_exporter": "python",
   "pygments_lexer": "ipython3",
   "version": "3.5.3"
  }
 },
 "nbformat": 4,
 "nbformat_minor": 2
}
