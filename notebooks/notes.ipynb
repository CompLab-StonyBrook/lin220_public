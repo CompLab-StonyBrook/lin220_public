{
 "cells": [
  {
   "cell_type": "markdown",
   "metadata": {},
   "source": [
    "# More Python basics\n",
    "\n",
    "- set\n",
    "    - not covered: set methods\n",
    "- more library loading\n",
    "    - import as    \n",
    "- working with strings\n",
    "    - not covered: join, split  \n",
    "- working with strings/lists\n",
    "    - not covered: strides\n",
    "- regular expressions\n",
    "    - not covered: re.find, re.match, re.split, advanced flags, check Pythex for notation\n",
    "- working with files\n",
    "    - download\n",
    "    - read\n",
    "    - write\n",
    "    - encoding"
   ]
  },
  {
   "cell_type": "markdown",
   "metadata": {},
   "source": [
    "# To be covered later\n",
    "\n",
    "- unpacking\n",
    "- continue\n",
    "- set methods\n",
    "- OOP\n",
    "    - classes\n",
    "    - attributes\n",
    "    - methods\n",
    "- traps and common mistakes with variables\n",
    "- regex\n",
    "    - ^, $, [^ ], |, flags\n",
    "- generators VS lists\n",
    "- references VS copies VS deep copies\n",
    "- zip\n",
    "- all/any\n",
    "\n",
    "- pandas\n",
    "- scikit-learn\n",
    "- nltk\n",
    "- tensorflow\n",
    "- itertools\n",
    "\n",
    "- operator overloading [ex]\n",
    "- decorators [ex]\n",
    "- exception handling [ex]\n",
    "- for else [ex]\n",
    "- unit tests with hypothesis and pytest [ex for designing your own]\n",
    "- yield for generators [ex]"
   ]
  }
 ],
 "metadata": {
  "kernelspec": {
   "display_name": "Python 3",
   "language": "python",
   "name": "python3"
  },
  "language_info": {
   "codemirror_mode": {
    "name": "ipython",
    "version": 3
   },
   "file_extension": ".py",
   "mimetype": "text/x-python",
   "name": "python",
   "nbconvert_exporter": "python",
   "pygments_lexer": "ipython3",
   "version": "3.7.2+"
  }
 },
 "nbformat": 4,
 "nbformat_minor": 2
}
