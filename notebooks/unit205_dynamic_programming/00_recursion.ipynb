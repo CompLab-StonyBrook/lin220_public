{
 "cells": [
  {
   "cell_type": "markdown",
   "metadata": {},
   "source": [
    "# Dynamic programming and memoization\n",
    "\n",
    "In class we looked at the Levenshtein distance between two strings and how it can be computed efficiently with dynamic programming.\n",
    "Dynamic programming comprises two key techniques:\n",
    "\n",
    "1. Break down large problems into small problems.\n",
    "1. Store the solutions to small problems so that they do not have to be recomputed (**memoization**).\n",
    "\n",
    "All of you have actually used dynamic programming before.\n",
    "In grade school, you probably had to solve equations like `5 + (3 * 4) - (4 * (2 + 1))`.\n",
    "After a few exercises like that, you realized that it's easier if you don't just try to solve that in one fell swoop.\n",
    "Instead, you broke it down into smaller problems:\n",
    "\n",
    "- `3 * 4` is `12`.\n",
    "- `2 + 1` is `3`.\n",
    "- `4 * 3` is the same as `3 * 4`, so you can just reuse the `12` you've computed before.\n",
    "- `12 - 12` is `0`.\n",
    "- `5 + 0` is `5`.\n",
    "\n",
    "This unit will cover how dynamic programming can be used in Python with dictionaries.\n",
    "The first notebook (i.e. this one) will introduce recursive functions as an example of where memoization can greatly improve your code's efficiency.\n",
    "The second notebook then explains how memoization works, and the last one applies these techniques to the Levenshtein distance."
   ]
  },
  {
   "cell_type": "markdown",
   "metadata": {},
   "source": [
    "## Background: Computing the factorial\n",
    "\n",
    "The **factorial** `n!` of a positive integer `n` is the result of multiplying `n` with the factorial of `n-1`.\n",
    "The exception to this rule is `1`, its factorial is just `1`.\n",
    "With numbers less than `1`, the factorial is usually undefined, but for simplicity we will assume that it is also `1`.\n",
    "A few examples:\n",
    "\n",
    "- `5! = 5 * 4! = 5 * 4 * 3! = 5 * 4 * 3 * 2! = 5 * 4 * 3 * 2 * 1! = 5 * 4 * 3 * 2 * 1= 120`\n",
    "- `-5! = 1`.\n",
    "- `1! = 1`.\n",
    "\n",
    "The factorial grows very, very fast.\n",
    "To see how fast, we can write a Python function for computing the factorial.\n",
    "It's actually very easy as we can just use `range`."
   ]
  },
  {
   "cell_type": "code",
   "execution_count": null,
   "metadata": {},
   "outputs": [],
   "source": [
    "def factorial(n):\n",
    "    \"\"\"Return the factorial of n.\"\"\"\n",
    "    # for numbers less than or equal to 1, just return 1\n",
    "    if n <= 1:\n",
    "        return 1\n",
    "    else:\n",
    "        for i in range(n):\n",
    "            if i > 0:\n",
    "                n *= i\n",
    "        return n"
   ]
  },
  {
   "cell_type": "code",
   "execution_count": null,
   "metadata": {},
   "outputs": [],
   "source": [
    "for i in range(10):\n",
    "    print(f\"{i}! = {factorial(i)}\")"
   ]
  },
  {
   "cell_type": "code",
   "execution_count": null,
   "metadata": {},
   "outputs": [],
   "source": [
    "# a really large factorial\n",
    "print(f\"{10000}! = {factorial(10000)}\")"
   ]
  },
  {
   "cell_type": "markdown",
   "metadata": {},
   "source": [
    "The factorial grows faster than any exponential.\n",
    "That is to say, even a mindboggling function like `f(x) = 10,000,000^x` will return smaller numbers than the factorial once one reaches large values for `x`."
   ]
  },
  {
   "cell_type": "markdown",
   "metadata": {},
   "source": [
    "A brief remark one the code above.\n",
    "The `if > 0` condition is used to exclude `0` from the values in `range(n)`.\n",
    "After all, we do not want to multiply by `0` since that would give us `0`.\n",
    "But the `if` is still a little clunky.\n",
    "Instead, we can tell `range` directly to exclude it.\n",
    "By passing `range(1, n)`, we instruct `range` to start at `1` instead of `0`."
   ]
  },
  {
   "cell_type": "code",
   "execution_count": null,
   "metadata": {},
   "outputs": [],
   "source": [
    "print(list(range(1, 5)))"
   ]
  },
  {
   "cell_type": "markdown",
   "metadata": {},
   "source": [
    "Quite generally, `range(x, y)` means \"start counting from `x` and go up to (but excluding) `y`\"."
   ]
  },
  {
   "cell_type": "code",
   "execution_count": null,
   "metadata": {},
   "outputs": [],
   "source": [
    "print(list(range(-5, 5)))"
   ]
  },
  {
   "cell_type": "markdown",
   "metadata": {},
   "source": [
    "As you can see `range(x)` is just a shorthand for `range(0, x)`.\n",
    "\n",
    "Anyways, back to the factorial.\n",
    "It is a function with ludicrously fast growth, and we can implement it very easily in Python with `range` and multiplication.\n",
    "But our function is actually a bit different from the definition we saw at the beginning of this section.\n",
    "There, it said that the factorial of `n` is `n` multiplied with the factorial of `n-1`.\n",
    "Let's try to translate this in a literal fashion into Python code."
   ]
  },
  {
   "cell_type": "code",
   "execution_count": null,
   "metadata": {},
   "outputs": [],
   "source": [
    "def factorial(n):\n",
    "    \"\"\"Return the factorial of n.\"\"\"\n",
    "    # base case: factorial of 1 and lower\n",
    "    if n <= 1:\n",
    "        return 1\n",
    "    else:\n",
    "        return n * factorial(n-1)"
   ]
  },
  {
   "cell_type": "markdown",
   "metadata": {},
   "source": [
    "This looks a bit peculiar.\n",
    "A return value of `n * factorial(n-1)`, will that actually work?\n",
    "Can a function call itself?\n",
    "Yes, it actually can, and the code actually work."
   ]
  },
  {
   "cell_type": "code",
   "execution_count": null,
   "metadata": {},
   "outputs": [],
   "source": [
    "for i in range(10):\n",
    "    print(f\"{i}! = {factorial(i)}\")"
   ]
  },
  {
   "cell_type": "code",
   "execution_count": null,
   "metadata": {},
   "outputs": [],
   "source": [
    "# don't worry about sys.setrecursionlimit for now,\n",
    "# we'll discuss it at the end of the next notebok\n",
    "import sys\n",
    "sys.setrecursionlimit(10000)\n",
    "\n",
    "# a really large factorial\n",
    "print(f\"{10000}! = {factorial(10000)}\")"
   ]
  },
  {
   "cell_type": "markdown",
   "metadata": {},
   "source": [
    "We've just encountered our first **recursive function**."
   ]
  },
  {
   "cell_type": "markdown",
   "metadata": {},
   "source": [
    "## Recursive functions: elegance + inefficiency\n",
    "\n",
    "### Factorial with recursion\n",
    "\n",
    "A recursive function is a function that calls itself during the computation.\n",
    "Just look at how the recursive implementation of the factorial computes `factorial (5)`:\n",
    "\n",
    "1. `factorial(5)` is `5 * a`. To determine `a`, we have to calculate `factorial(4)`.\n",
    "1. `factorial(4)` is `4 * b`, where `b` is whatever is returned by `factorial(3)`.\n",
    "1. `factorial(3)` is `3 * c`, where `c` is the output of `factorial(2)`.\n",
    "1. `factorial(2)` is `2 * d`, and now `d` is `factorial(1)`.\n",
    "1. `factorial(1)` returns `1`.\n",
    "1. `factorial(2)` then returns `2 * 1`, i.e. `2`.\n",
    "1. `factorial(3)` next returns `3 * 2`, which is `6`.\n",
    "1. `factorial(4)` then returns `24`, the result of `4 * 6`.\n",
    "1. `factorial(5)` finally computes the final result: `5 * 24`, which is `120`.\n",
    "\n",
    "We can represent this process as a diagram of nested function calls:\n",
    "\n",
    "```\n",
    "factorial(5)\n",
    "  |\n",
    "5 * factorial(4)\n",
    "      |\n",
    "    4 * factorial(3)\n",
    "          |\n",
    "        3 * factorial(2)\n",
    "            |\n",
    "          2 * factorial(1)\n",
    "                  |\n",
    "                  1\n",
    "```\n",
    "\n",
    "As you can see here, we keep drilling deeper and deeper into this structure until we finally find a case where `factorial` does not require computing another instance of `factorial`.\n",
    "This is the **base case**.\n",
    "In our code, the base case is established by the condition `if n <= 1`.\n",
    "If we removed this part, `factorial` would just keep calling itself without ever returning a value.\n",
    "It's the same like a `while`-loop that never stops.\n",
    "\n",
    "To see this, run the cell below with a broken version of `factorial` that lacks the base case.\n",
    "For safety reasons, the code limits Python to 100 recursion steps.\n",
    "Even computing the factorial of `2` will hit this limit because the function just keeps calling itself with lower and lower integers (1, 0, -1, -2, ...) but never hits a base case."
   ]
  },
  {
   "cell_type": "code",
   "execution_count": null,
   "metadata": {},
   "outputs": [],
   "source": [
    "# limit Python to 100 recursion steps\n",
    "import sys\n",
    "sys.setrecursionlimit(100)\n",
    "\n",
    "def broken_factorial(n):\n",
    "    \"\"\"Return the factorial of n.\"\"\"\n",
    "    return n * broken_factorial(n-1)\n",
    "\n",
    "broken_factorial(2)"
   ]
  },
  {
   "cell_type": "markdown",
   "metadata": {},
   "source": [
    "As you can see, you always need a base step or you will just keep recursing forever.\n",
    "Remember, a recursive function always needs two parts:\n",
    "\n",
    "1. a **base step** that returns the value for the simplest case,\n",
    "1. a **recursion step** that computes the value of a complex case in terms of a simpler case.\n",
    "\n",
    "Recursive functions can be very elegant, in particular for mathematical problems.\n",
    "If you open up a mathematics textbook, you will come across many defintions that exhibit a similar kind of recursion.\n",
    "This makes recursive functions a very natural way of implementation.\n",
    "But recursive functions can also be very inefficient, as we'll see next."
   ]
  },
  {
   "cell_type": "markdown",
   "metadata": {},
   "source": [
    "### Inefficient recursion: Fibonacci numbers\n",
    "\n",
    "The Fibonacci series is a sequence of numbers of the following form:\n",
    "\n",
    "```\n",
    "1, 1, 2, 3, 5, 8, 13, 21, 34, 55, 89, ...\n",
    "```\n",
    "\n",
    "This is an intuitively pleasing pattern.\n",
    "We start with `1` and `1`, and then each number is the sum of the previous two.\n",
    "The Fibonacci series is related to the [Golden ratio](https://en.wikipedia.org/wiki/Golden_ratio) and shows up a lot in nature.\n",
    "So it is an interesting series, and it would be nice to have a way to compute the `n`-th Fibonacci number.\n",
    "\n",
    "Since the definition of the Fibonacci series is recursive, a recursive function seems like a natural candidate."
   ]
  },
  {
   "cell_type": "code",
   "execution_count": null,
   "metadata": {},
   "outputs": [],
   "source": [
    "def fibonacci(n):\n",
    "    \"\"\"Recursive implementation of Fibonacci series.\n",
    "    \n",
    "    Only defined for n >= 1.\"\"\"\n",
    "    # base case for the first two numbers\n",
    "    if n == 1 or n == 2:\n",
    "        return 1\n",
    "    # recursion step\n",
    "    else:\n",
    "        return fibonacci(n-1) + fibonacci(n-2)"
   ]
  },
  {
   "cell_type": "markdown",
   "metadata": {},
   "source": [
    "This is the literal Python counterpart to the mathematical definition above.\n",
    "But it is also really, really, really slow.\n",
    "Even computing the 50th Fibonacci number will take forever.\n",
    "Try it yourself: run the cell below, and go fix yourself a coffee.\n",
    "I'm not joking, take a break, relax, come back in 20 minutes, and perhaps it will be done by then."
   ]
  },
  {
   "cell_type": "code",
   "execution_count": null,
   "metadata": {},
   "outputs": [],
   "source": [
    "print(fibonacci(50))"
   ]
  },
  {
   "cell_type": "markdown",
   "metadata": {},
   "source": [
    "Why is this so slow while the recursive implementation of `factorial` didn't even choke on `factorial(10000)`?\n",
    "The answer lies in the recursion used by `fibonacci` and how it differs from `factorial`.\n",
    "Look at the diagram below for `fibonacci(5)`.\n",
    "\n",
    "```\n",
    "fibonacci(5)\n",
    "     |\n",
    "fibonacci(3) + fibonacci(4)\n",
    "     |              |\n",
    "     |         fibonacci(3) + fibonacci(2)\n",
    "     |              |              |\n",
    "     |              |              1\n",
    "     |              |\n",
    "     |         fibonacci(2) + fibonacci(1)\n",
    "     |              |              |\n",
    "     |              1              1\n",
    "     |\n",
    "     |\n",
    "fibonacci(2) + fibonacci(1)\n",
    "     |              |\n",
    "     1              1\n",
    "```\n",
    "\n",
    "Notice how we keep recomputing the same value over and over again?\n",
    "For instance, `fibonacci(3)` is computed for both `fibonacci(5)` and `fibonacci(4)`.\n",
    "We can make a table to list how often each Fibonacci number is computed when calling `fibonacci(5)`.\n",
    "\n",
    "| Fibonacci number | times computed |\n",
    "| :-               | :-             |\n",
    "| 5                | 1              |\n",
    "| 4                | 1              |\n",
    "| 3                | 2              |\n",
    "| 2                | 3              |\n",
    "| 1                | 2              |\n",
    "\n",
    "You might think that's not a big deal.\n",
    "After all, `fibonacci(3)` is just `1 + 1`.\n",
    "But the problem is that the times we recompute numbers blows up astronomically as we try to compute larger Fibonacci numbers.\n",
    "Here's the corresponding table for `fibonacci(7)`.\n",
    "\n",
    "| Fibonacci number | times computed |\n",
    "| :-               | :-             |\n",
    "| 7                | 1              |\n",
    "| 6                | 1              |\n",
    "| 5                | 2              |\n",
    "| 4                | 3              |\n",
    "| 3                | 5              |\n",
    "| 2                | 8              |\n",
    "| 1                | 5              |\n",
    "\n",
    "Do you notice something?\n",
    "If we ignore the value for 1, then the second column by itself is an instance of the Fibonacci series!\n",
    "in order to compute the n-th Fibonacci number, the number of times we have to compute the (n-m)-th Fibonacci number is the (m+1)-th Fibonacci number.\n",
    "For instance, if we're looking for the 7th Fibonacci number, then the value for 3 is computed 5 times, and the 5th Fibonacci number (5 = 7 - 3 + 1) is 5.\n",
    "This can't be good, right?\n",
    "\n",
    "Quite right.\n",
    "To show you how bad this is, the table below lists how often the first 7 numbers are recomputed for `fibonacci(50)`.\n",
    "\n",
    "| Fibonacci number | times computed |\n",
    "| :-               | :-             |\n",
    "| 1                | 4,807,526,976  |\n",
    "| 2                | 7,778,742,049  |\n",
    "| 3                | 4,807,526,976  |\n",
    "| 4                | 2,971,215,073  |\n",
    "| 5                | 1,836,311,903  |\n",
    "| 6                | 1,134,903,170  |\n",
    "| 7                |   701,408,733  |\n",
    "\n",
    "The total number of computations to get the 50th Fibonacci number with our recursive function is truly mind-boggling: 25,172,538,049.\n",
    "That's 25 billion, 172 million, 538 thousand and 49 computations.\n",
    "Just for the 50th Fibonacci number.\n",
    "No wonder this is taking forever!\n",
    "\n",
    "But keep in mind that this isn't the intrinsic difficulty of computing the 50th Fibonacci number.\n",
    "It's just that our solution with a recursive function is a really bad way of doing it.\n",
    "We keep recomputing the same things over and over again, and that makes the function incredibly slow.\n",
    "\n",
    "If we had a way not to constantly recompute results, it should only take a split second.\n",
    "That's exactly what **memoization** is all about, and the next notebook explains in detail how it works."
   ]
  },
  {
   "cell_type": "markdown",
   "metadata": {},
   "source": [
    "## Bullet point summary\n",
    "\n",
    "- A **recursive function** is a function that may call itself during the computation.\n",
    "- Recursive functions can be very elegant, but this elegance can hide tremendous inefficiency."
   ]
  }
 ],
 "metadata": {
  "kernelspec": {
   "display_name": "Python 3",
   "language": "python",
   "name": "python3"
  },
  "language_info": {
   "codemirror_mode": {
    "name": "ipython",
    "version": 3
   },
   "file_extension": ".py",
   "mimetype": "text/x-python",
   "name": "python",
   "nbconvert_exporter": "python",
   "pygments_lexer": "ipython3",
   "version": "3.7.2+"
  }
 },
 "nbformat": 4,
 "nbformat_minor": 2
}
