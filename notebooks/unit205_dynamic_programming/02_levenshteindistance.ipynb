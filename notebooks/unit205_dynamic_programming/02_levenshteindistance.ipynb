{
 "cells": [
  {
   "cell_type": "markdown",
   "metadata": {},
   "source": [
    "# Computing the Levenshtein distance\n",
    "\n",
    "As covered in the lecture materials, the **edit distance** between two strings `s` and `t` measures the shortest sequence of edits that transforms `s` into `t`.\n",
    "Depending on what kind of edits are allowed, one obtains different metrics.\n",
    "For the Levenshtein distance, three kinds of operations are allowed: substitution, deletion, and insertion.\n",
    "Computing the Levenshtein distance is an optimization problem.\n",
    "That is to say, it's not enough to find some sequence of edits, one has to find the shortest one.\n",
    "Optimization problems can be very challenging.\n",
    "The naive approach would be to look at all possible sequences of edits and then pick the shortest one among them.\n",
    "But this is very inefficient, and just like with our `fibonacci` function the inefficiency stems from the fact that  many sequences of edits would share parts that would be needlessly recomputed with each new sequence.\n",
    "\n",
    "For this reason, any implementation of the Levenshtein distance needs to use dynamic programming techniques.\n",
    "The rest of this notebook assumes that you already know the graph-based approach covered in the lecture notes.\n",
    "If you don't, go back and reread that part.\n",
    "Once you understand how it works, come back and we'll see how it can be implemented in Python."
   ]
  },
  {
   "cell_type": "markdown",
   "metadata": {},
   "source": [
    "## Representing the problem\n",
    "\n",
    "The graph-based approach computes the Levenshtein distance between strings `s` and `t` as a grid of nodes that are connected by edges.\n",
    "The size of the grid depends on `s` and `t`.\n",
    "The number of columns is `len(s) + 1`, and the number of rows is `len(t) + 1`.\n",
    "Run the cell below to get an approxiation of what the grid looks like for the strings `\"fire\"` and `\"fry\"`"
   ]
  },
  {
   "cell_type": "code",
   "execution_count": null,
   "metadata": {},
   "outputs": [],
   "source": [
    "from tabulate import tabulate\n",
    "\n",
    "s = \"fire\"\n",
    "t = \"fry\"\n",
    "\n",
    "grid = [[(x,y) for x in range(len(s) + 1)] for y in range(len(t)+ 1)]\n",
    "print(tabulate(grid))"
   ]
  },
  {
   "cell_type": "markdown",
   "metadata": {},
   "source": [
    "As the code above already suggests, we can generate this grid with a list expression where each node is a `tuple(x, y)` such that `x` indicates the column and `y` the row."
   ]
  },
  {
   "cell_type": "code",
   "execution_count": null,
   "metadata": {},
   "outputs": [],
   "source": [
    "def construct_simple_grid(s, t):\n",
    "    \"\"\"Construct Levenshtein grid for strings s and t.\"\"\"\n",
    "    return [(x,y) \n",
    "            for x in range(len(s) + 1)\n",
    "            for y in range(len(t) + 1)]"
   ]
  },
  {
   "cell_type": "code",
   "execution_count": null,
   "metadata": {},
   "outputs": [],
   "source": [
    "print(construct_simple_grid(\"fire\", \"fry\"))"
   ]
  },
  {
   "cell_type": "markdown",
   "metadata": {},
   "source": [
    "Note that this list expression contains two `for` loops back to back.\n",
    "This is perfectly fine.\n",
    "The list expression is equivalent to the following:"
   ]
  },
  {
   "cell_type": "code",
   "execution_count": null,
   "metadata": {},
   "outputs": [],
   "source": [
    "grid = []\n",
    "for x in range(len(s) + 1):\n",
    "    for y in range(len(t) + 1):\n",
    "        grid.append((x, y))"
   ]
  },
  {
   "cell_type": "markdown",
   "metadata": {},
   "source": [
    "A node can be reached by at most three edges in this grid:\n",
    "\n",
    "1. An edge coming form the left (`x-1`) deletes a symbol of `s`.\n",
    "1. An edge coming from above (`y-1`) inserts a symbol of `t`.\n",
    "1. An edge coming from above left (`x-1` and `y-1`) replaces a symbol of `s` with a symbol of `t`.\n",
    "\n",
    "Which symbols are chosen depends on what node in the grid we are looking at.\n",
    "But this does not really matter for the most part.\n",
    "Deletion and insertion always come with a cost of 1 because they modify the string, no matter what exactly gets deleted or inserted.\n",
    "Only for substitution does the choice of symbols matter.\n",
    "Substitution can have a reduced cost of 0 if it replaces a symbol with the very same symbol.\n",
    "\n",
    "As a concrete example, consider the node `(1, 1)` in the grid for `\"fire\"` and `\"fry\"`.\n",
    "You can print it here again for your convenience."
   ]
  },
  {
   "cell_type": "code",
   "execution_count": null,
   "metadata": {},
   "outputs": [],
   "source": [
    "from tabulate import tabulate\n",
    "\n",
    "s = \"fire\"\n",
    "t = \"fry\"\n",
    "\n",
    "grid = [[(x,y) for x in range(len(s) + 1)] for y in range(len(t)+ 1)]\n",
    "print(tabulate(grid))"
   ]
  },
  {
   "cell_type": "markdown",
   "metadata": {},
   "source": [
    "If one enters the node from above left, coming from `(0,0)`, this is tantamount to replacing `\"fire\"[0]` in `\"fire\"` with  `\"fry\"[0]`.\n",
    "But since that's exactly the same letter, the cost is `0`.\n",
    "\n",
    "In general then, all edges have a cost of `1`, with one specific exception for substitution edges: if the edge originates in `(m, n)` and `s[m] == t[n]`, then its cost is `0`.\n",
    "\n",
    "Let's implement this.\n",
    "We will construct a dictionary where each node of the grid is a key.\n",
    "The value is itself a dictionary with three keys.\n",
    "Each one of the three keys is a neighboring node in the grid, and its value is the cost of entering the current node from said neighboring node."
   ]
  },
  {
   "cell_type": "code",
   "execution_count": 2,
   "metadata": {},
   "outputs": [],
   "source": [
    "def construct_grid(s, t):\n",
    "    \"\"\"Compute the default cost for each edge.\"\"\"\n",
    "    # grid is now a dictionary instead of a list\n",
    "    grid = {(x,y): {}\n",
    "            for x in range(len(s) + 1)\n",
    "            for y in range(len(t) + 1)}\n",
    "    for x, y in grid:\n",
    "        # add deletion edge if there is a node to the left\n",
    "        if x > 0:\n",
    "            grid[(x,y)][(x-1, y)] = 1\n",
    "        # add insertion edge is there is a node above\n",
    "        if y > 0:\n",
    "            grid[(x,y)][(x, y-1)] = 1\n",
    "        # add substitution edge; check if cost is 0\n",
    "        if x > 0 and y > 0:\n",
    "            grid[(x,y)][(x-1, y-1)] =\\\n",
    "                0 if s[x-1] == t[y-1] else 1\n",
    "    return grid"
   ]
  },
  {
   "cell_type": "code",
   "execution_count": null,
   "metadata": {},
   "outputs": [],
   "source": [
    "from pprint import pprint\n",
    "\n",
    "s = \"fire\"\n",
    "t = \"fry\"\n",
    "pprint(construct_grid(s, t), width=1)"
   ]
  },
  {
   "cell_type": "markdown",
   "metadata": {},
   "source": [
    "Alright, we now have a function `construct_grid` that returns a dictionary.\n",
    "The dictionary encodes all the information we need about the grid:\n",
    "\n",
    "1. its nodes,\n",
    "1. for each node, the cost of entering it from a neighboring node via deletion, insertion, or substitution.\n",
    "\n",
    "Everything is in place to calculate the Levenshtein distance of two nodes."
   ]
  },
  {
   "cell_type": "markdown",
   "metadata": {},
   "source": [
    "## A recursive implementation of Levenshtein distance\n",
    "\n",
    "We will start with a recursive implementation.\n",
    "I know, I know, Pythonistas should shun recursion like the devil holy water.\n",
    "But the recursive implementation is a lot easier to understand than the alternatives, so we'll start with that one.\n",
    "\n",
    "The Levenshtein distance is the cost of the optimal path from the top left of the grid to the bottom right.\n",
    "Also, for the current node `c` the cost of the optimal path from the top left to `c` is obtained as follows:\n",
    "\n",
    "1. For each neighboring node `n` of `c`, take the cost of the optimal path from the top left to `n` and add the cost of the edge from `n` to `c`.\n",
    "   Let's call this the cost to `c` through `n`.\n",
    "1. Once you have compute the cost to `c` through `n` for each neighbor `n`, pick the smallest.\n",
    "   This is the cost of reaching `c` from the top left of the grid.\n",
    "   \n",
    "Implementing this as a recursive function is easy-peasy."
   ]
  },
  {
   "cell_type": "code",
   "execution_count": null,
   "metadata": {},
   "outputs": [],
   "source": [
    "def cost(node, grid):\n",
    "    \"\"\"Calculate the cost of the optimal path to node through the grid.\"\"\"\n",
    "    if node == (0,0):\n",
    "        return 0\n",
    "    else:\n",
    "        lowest = min([cost(neighbor, grid) + edge_cost\n",
    "                      for neighbor, edge_cost in grid[node].items()])\n",
    "        return lowest\n",
    "    \n",
    "\n",
    "def levenshtein_distance(s, t):\n",
    "    \"\"\"Calculate Levenshtein distance between s and t.\"\"\"\n",
    "    return cost((len(s), len(t)), construct_grid(s, t))"
   ]
  },
  {
   "cell_type": "markdown",
   "metadata": {},
   "source": [
    "All the work is done by `cost`.\n",
    "Like every recursive function, it has a base case and a recursion step.\n",
    "The base case is when the node is `(0, 0)`, the top left corner of the grid.\n",
    "The cost of reaching this node is 0 since we start there.\n",
    "\n",
    "In the recursion step, we use a list expression to collect the cost of all the paths that lead to the node.\n",
    "We then use `min` to pick the lowest cost among them.\n",
    "The cost of these paths is computed recursively: for each neighboring node, call `cost` with the node as its argument and add the cost of the edge from the neighbor on top of that."
   ]
  },
  {
   "cell_type": "code",
   "execution_count": null,
   "metadata": {},
   "outputs": [],
   "source": [
    "pairs = [(\"fire\", \"fry\"),\n",
    "         (\"fyre\", \"fry\"),\n",
    "         (\"apple\", \"banana\"),\n",
    "         (\"aaa\", \"bbb\"),\n",
    "         (\"long string\", \"\")]\n",
    "for s, t in pairs:\n",
    "    print(f\"Levenshtein distance of \\\"{s}\\\" and \\\"{t}\\\" is {levenshtein_distance(s, t)}\")"
   ]
  },
  {
   "cell_type": "markdown",
   "metadata": {},
   "source": [
    "This code constantly recomputes cost values.\n",
    "Consider once more the grid for *fire* and *fry*."
   ]
  },
  {
   "cell_type": "code",
   "execution_count": null,
   "metadata": {},
   "outputs": [],
   "source": [
    "from tabulate import tabulate\n",
    "\n",
    "s = \"fire\"\n",
    "t = \"fry\"\n",
    "\n",
    "grid = [[(x,y) for x in range(len(s) + 1)] for y in range(len(t)+ 1)]\n",
    "print(tabulate(grid))"
   ]
  },
  {
   "cell_type": "markdown",
   "metadata": {},
   "source": [
    "How often do we compute the cost of the optimal path for `(1, 1)`?\n",
    "Well, for starters, it is needed to compute the cost for the optimal path for its three neighboring nodes, which are `(2, 1)`, `(1, 2)`, and `(2, 2)`.\n",
    "In addition, it gets recomputed whenever the path for one those three nodes is recomputed.\n",
    "This is at least the case when one of their neighboring nodes has its path computed:\n",
    "\n",
    "- For `(2, 1)` that's `(3, 1)`, `(2, 2)`, and `(3, 2)`.\n",
    "- For `(1, 2)`, it's `(2, 2)` (again), `(1, 3)`, and `(2, 3)`.\n",
    "- Finally, it's `(3,2)`, `(2, 3)`, and `(3, 3)` for `(2, 2)`\n",
    "\n",
    "I think you can see the pattern here.\n",
    "Every node in the rectangle with `(1, 1)` as its top left corner will trigger another computation of the optimal path for `(1, 1)`.\n",
    "Many of those nodes will even do it multiple times, like `(2, 2)`.\n",
    "This is incredibly wasteful.\n",
    "\n",
    "Why, then, were the Levenshtein distances computed so fast for the examples above?\n",
    "Just because the example strings are very short.\n",
    "If we check the Levenshtein distance of much longer words, it will take much longer than the short examples suggest may have led you to believe."
   ]
  },
  {
   "cell_type": "code",
   "execution_count": null,
   "metadata": {},
   "outputs": [],
   "source": [
    "# this will take a while... a long while\n",
    "from pprint import pprint\n",
    "\n",
    "s = \"supercalifragilisticexpialidocious\"\n",
    "t = s\n",
    "print(f\"Levenshtein distance of \\\"{s}\\\" and \\\"{t}\\\" is {levenshtein_distance(s, t)}\")"
   ]
  },
  {
   "cell_type": "markdown",
   "metadata": {},
   "source": [
    "Time for some memoization."
   ]
  },
  {
   "cell_type": "markdown",
   "metadata": {},
   "source": [
    "## Adding memoization\n",
    "\n",
    "Just as with the recursive function for Fibonacci numbers, we want to avoid recomputing values by storing them in a dictionary.\n",
    "And just like last time, we have to add a few hooks so that values get computed only if they aren't already in the dictionary."
   ]
  },
  {
   "cell_type": "code",
   "execution_count": 3,
   "metadata": {},
   "outputs": [],
   "source": [
    "def cost(node, grid):\n",
    "    \"\"\"Calculate the cost of the optimal path to node through the grid.\"\"\"\n",
    "    if node == (0, 0) or node in memo:\n",
    "        return memo[node]\n",
    "    else:\n",
    "        lowest = min([cost(neighbor, grid) + edge_cost\n",
    "                      for neighbor, edge_cost in grid[node].items()])\n",
    "        memo[node] = lowest\n",
    "        return lowest\n",
    "    \n",
    "\n",
    "def levenshtein_distance(s, t):\n",
    "    \"\"\"Calculate Levenshtein distance between s and t.\"\"\"\n",
    "    return cost((len(s), len(t)), construct_grid(s, t))"
   ]
  },
  {
   "cell_type": "code",
   "execution_count": 7,
   "metadata": {},
   "outputs": [
    {
     "name": "stdout",
     "output_type": "stream",
     "text": [
      "Levenshtein distance of \"supercalifragilisticexpialidocious\" and \"supercalifragilisticexpialidocious\" is 0\n"
     ]
    }
   ],
   "source": [
    "memo = {(0, 0): 0}\n",
    "s = \"supercalifragilisticexpialidocious\"\n",
    "t = s\n",
    "print(f\"Levenshtein distance of \\\"{s}\\\" and \\\"{t}\\\" is {levenshtein_distance(s, t)}\")"
   ]
  },
  {
   "cell_type": "markdown",
   "metadata": {},
   "source": [
    "Look at that, lightning speed with only a few minor changes.\n",
    "First we extend the base clause so that it captures both `(0, 0)` and any node for which we already have a value in `memo`.\n",
    "Then we add a single line `memo[node] = lowest` to add the cost of a newly computed path to `memo`.\n",
    "Two minor changes, but a tremendous speed-up.\n",
    "Simple, easy code that's also fast - what isn't there to like?"
   ]
  },
  {
   "cell_type": "markdown",
   "metadata": {},
   "source": [
    "## A non-recursive implementation\n",
    "\n",
    "Since we spent quite a bit of space in the previous notebook on why recursive functions are a dubious choice at best in Python, let's compare the recursive implementation with one that uses loops instead.\n",
    "\n",
    "The strategy is a bit more convoluted here.\n",
    "As before we will use a dictionary representation of the grid, with all nodes, edges, and costs.\n",
    "We will also use memo to keep a running tally of the minimum cost for reaching any given node.\n",
    "But in putting the things together we have to use quite a few more `for`-loops and `if`-statements to make things work the way we want."
   ]
  },
  {
   "cell_type": "code",
   "execution_count": null,
   "metadata": {},
   "outputs": [],
   "source": [
    "def cost(s, t, grid):\n",
    "    # use a dictionary for keeping track of cost,\n",
    "    # and set start values for (0, 0)\n",
    "    memo = {(0, 0): 0}\n",
    "    \n",
    "    # iterate through grid; row first, then column;\n",
    "    # the order of loops must be the opposite\n",
    "    for y in range(len(t) + 1):\n",
    "        for x in range(len(s) + 1):\n",
    "            cn = (x, y)  # shorthand for current node\n",
    "            # start computing cost of node if it doesn't exist yet\n",
    "            if memo.get(cn) != 0:\n",
    "                for neighbor, edge_cost in grid[cn].items():\n",
    "                    total_cost = edge_cost + memo[neighbor]\n",
    "                    # if this is the lowest cost so far, add it to memo\n",
    "                    if memo.get(cn) is None or total_cost <= memo.get(cn):\n",
    "                        memo[cn] = total_cost\n",
    "                    \n",
    "    # return stored value for bottom right corner of grid\n",
    "    return memo[(len(s), len(t))]\n",
    "\n",
    "def levenshtein_distance(s, t):\n",
    "    \"\"\"Calculate Levenshtein distance between s and t.\"\"\"\n",
    "    return cost(s, t, construct_grid(s, t))"
   ]
  },
  {
   "cell_type": "code",
   "execution_count": null,
   "metadata": {},
   "outputs": [],
   "source": [
    "pairs = [(\"fire\", \"fry\"),\n",
    "         (\"fyre\", \"fry\"),\n",
    "         (\"apple\", \"banana\"),\n",
    "         (\"aaa\", \"bbb\"),\n",
    "         (\"long string\", \"\")]\n",
    "for s, t in pairs:\n",
    "    print(f\"Levenshtein distance of \\\"{s}\\\" and \\\"{t}\\\" is {levenshtein_distance(s, t)}\")"
   ]
  },
  {
   "cell_type": "code",
   "execution_count": null,
   "metadata": {},
   "outputs": [],
   "source": [
    "s = \"supercalifragilisticexpialidocious\"\n",
    "t = s\n",
    "print(f\"Levenshtein distance of \\\"{s}\\\" and \\\"{t}\\\" is {levenshtein_distance(s, t)}\")"
   ]
  },
  {
   "cell_type": "markdown",
   "metadata": {},
   "source": [
    "Okay, it seems to work, and it's also very fast.\n",
    "But the code is a lot messier and not nearly as transparent as the recursive implementation.\n",
    "This is actually one of the few cases where a recursive implementation makes sense even with Python.\n",
    "The main problem with Python's recursion is the limited recursion depth.\n",
    "But the Levenshtein distance is usually used to compare words, and words aren't particularly long in most languages.\n",
    "Even a deliberately long fatansy word like *supercalifragilisticexpialidocious* doesn't come anywhere near Python's recursion depth limit.\n",
    "Considering that the recursive implementation is more intuitive and can easily be expanded, there is little reason to use the more convoluted implementation with `for`-loops.\n",
    "\n",
    "No matter which implementation you prefer, though, both are instances of dynamic programming.\n",
    "In both cases, the problem of finding the optimal path is broken down into small subproblems (finding shorter optimal paths) and then stored for later retrieval (through the use of `memo`)."
   ]
  },
  {
   "cell_type": "markdown",
   "metadata": {},
   "source": [
    "## Bullet point summary\n",
    "\n",
    "- Use the grid representation of the Levenshtein distance to allow for dynamic programming techniques.\n",
    "- Sometimes, recursive functions might be the right choice after all."
   ]
  }
 ],
 "metadata": {
  "kernelspec": {
   "display_name": "Python 3",
   "language": "python",
   "name": "python3"
  },
  "language_info": {
   "codemirror_mode": {
    "name": "ipython",
    "version": 3
   },
   "file_extension": ".py",
   "mimetype": "text/x-python",
   "name": "python",
   "nbconvert_exporter": "python",
   "pygments_lexer": "ipython3",
   "version": "3.7.3rc1"
  }
 },
 "nbformat": 4,
 "nbformat_minor": 2
}
