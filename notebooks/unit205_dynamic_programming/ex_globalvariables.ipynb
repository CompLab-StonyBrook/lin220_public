{
 "cells": [
  {
   "cell_type": "markdown",
   "metadata": {},
   "source": [
    "# Global variables\n",
    "\n",
    "Consider once more the code for the recursive implementation of the Levenshtein distance."
   ]
  },
  {
   "cell_type": "code",
   "execution_count": null,
   "metadata": {},
   "outputs": [],
   "source": [
    "def construct_grid(s, t):\n",
    "    \"\"\"Compute the default cost for each edge.\"\"\"\n",
    "    # grid is now a dictionary instead of a list\n",
    "    grid = {(x,y): {}\n",
    "            for x in range(len(s) + 1)\n",
    "            for y in range(len(t) + 1)}\n",
    "    for x, y in grid:\n",
    "        # add deletion edge if there is a node to the left\n",
    "        if x > 0:\n",
    "            grid[(x,y)][(x-1, y)] = 1\n",
    "        # add insertion edge is there is a node above\n",
    "        if y > 0:\n",
    "            grid[(x,y)][(x, y-1)] = 1\n",
    "        # add substitution edge; check if cost is 0\n",
    "        if x > 0 and y > 0:\n",
    "            grid[(x,y)][(x-1, y-1)] =\\\n",
    "                0 if s[x-1] == t[y-1] else 1\n",
    "    return grid"
   ]
  },
  {
   "cell_type": "code",
   "execution_count": null,
   "metadata": {},
   "outputs": [],
   "source": [
    "def cost(node, grid):\n",
    "    \"\"\"Calculate the cost of the optimal path to node through the grid.\"\"\"\n",
    "    if node == (0, 0) or node in memo:\n",
    "        return memo[node]\n",
    "    else:\n",
    "        lowest = min([cost(neighbor, grid) + edge_cost\n",
    "                      for neighbor, edge_cost in grid[node].items()])\n",
    "        memo[node] = lowest\n",
    "        return lowest"
   ]
  },
  {
   "cell_type": "code",
   "execution_count": null,
   "metadata": {},
   "outputs": [],
   "source": [
    "def levenshtein_distance(s, t):\n",
    "    \"\"\"Calculate Levenshtein distance between s and t.\"\"\"\n",
    "    return cost((len(s), len(t)), construct_grid(s, t))"
   ]
  },
  {
   "cell_type": "markdown",
   "metadata": {},
   "source": [
    "Notice how `memo` isn't actually instantiated anywhere?\n",
    "So if we don't take care to instantiate it before calling the function, we'll just get an error."
   ]
  },
  {
   "cell_type": "code",
   "execution_count": null,
   "metadata": {},
   "outputs": [],
   "source": [
    "pairs = [(\"fire\", \"fry\"),\n",
    "         (\"fyre\", \"fry\"),\n",
    "         (\"apple\", \"banana\"),\n",
    "         (\"aaa\", \"bbb\"),\n",
    "         (\"long string\", \"\")]\n",
    "for s, t in pairs:\n",
    "    print(f\"Levenshtein distance of \\\"{s}\\\" and \\\"{t}\\\" is {levenshtein_distance(s, t)}\")"
   ]
  },
  {
   "cell_type": "markdown",
   "metadata": {},
   "source": [
    "It would be much easier if we could instantiate `memo` as part of the `levenshtein_distance` function."
   ]
  },
  {
   "cell_type": "code",
   "execution_count": null,
   "metadata": {},
   "outputs": [],
   "source": [
    "def levenshtein_distance(s, t):\n",
    "    \"\"\"Calculate Levenshtein distance between s and t.\"\"\"\n",
    "    memo = {(0, 0): 0}\n",
    "    return cost((len(s), len(t)), construct_grid(s, t))"
   ]
  },
  {
   "cell_type": "markdown",
   "metadata": {},
   "source": [
    "But this doesn't work either."
   ]
  },
  {
   "cell_type": "code",
   "execution_count": null,
   "metadata": {},
   "outputs": [],
   "source": [
    "pairs = [(\"fire\", \"fry\"),\n",
    "         (\"fyre\", \"fry\"),\n",
    "         (\"apple\", \"banana\"),\n",
    "         (\"aaa\", \"bbb\"),\n",
    "         (\"long string\", \"\")]\n",
    "for s, t in pairs:\n",
    "    print(f\"Levenshtein distance of \\\"{s}\\\" and \\\"{t}\\\" is {levenshtein_distance(s, t)}\")"
   ]
  },
  {
   "cell_type": "markdown",
   "metadata": {},
   "source": [
    "The problem is that variables within a function `f` are only accessible within this function.\n",
    "They cannot be accessed from outside.\n",
    "This even holds for functions that are defined outside `f` but are called by `f`.\n",
    "\n",
    "But why, then, does it work if `memo` is not defined inside a function?\n",
    "Variables defined outside functions are **global variables**.\n",
    "A global variable can be accessed by any part of the code any time.\n",
    "We can tell Python explicitly that a variable is global by using the `global` command."
   ]
  },
  {
   "cell_type": "code",
   "execution_count": null,
   "metadata": {},
   "outputs": [],
   "source": [
    "def levenshtein_distance(s, t):\n",
    "    \"\"\"Calculate Levenshtein distance between s and t.\"\"\"\n",
    "    global memo  # memo is a global variable\n",
    "    memo = {(0, 0): 0}\n",
    "    return cost((len(s), len(t)), construct_grid(s, t))"
   ]
  },
  {
   "cell_type": "code",
   "execution_count": null,
   "metadata": {},
   "outputs": [],
   "source": [
    "pairs = [(\"fire\", \"fry\"),\n",
    "         (\"fyre\", \"fry\"),\n",
    "         (\"apple\", \"banana\"),\n",
    "         (\"aaa\", \"bbb\"),\n",
    "         (\"long string\", \"\")]\n",
    "for s, t in pairs:\n",
    "    print(f\"Levenshtein distance of \\\"{s}\\\" and \\\"{t}\\\" is {levenshtein_distance(s, t)}\")"
   ]
  },
  {
   "cell_type": "markdown",
   "metadata": {},
   "source": [
    "Now things work the way they should.\n",
    "But keep in mind that `memo` is still accessible to any arbitrary piece of code."
   ]
  },
  {
   "cell_type": "code",
   "execution_count": null,
   "metadata": {},
   "outputs": [],
   "source": [
    "print(memo)"
   ]
  },
  {
   "cell_type": "markdown",
   "metadata": {},
   "source": [
    "This can cause all kinds of problems if you aren't careful.\n",
    "For instance, another function might expect `memo` to be empty, so now that it's been filled up with values from `levenshtein_distance` this function might misbehave.\n",
    "\n",
    "To be on the safe side, delete a global variable once you don't need it anymore.\n",
    "This can be done with `del`."
   ]
  },
  {
   "cell_type": "code",
   "execution_count": null,
   "metadata": {},
   "outputs": [],
   "source": [
    "def levenshtein_distance(s, t):\n",
    "    \"\"\"Calculate Levenshtein distance between s and t.\"\"\"\n",
    "    global memo  # memo is a global variable\n",
    "    memo = {(0, 0): 0}\n",
    "    distance = cost((len(s), len(t)), construct_grid(s, t))\n",
    "    del memo  # delete global variable\n",
    "    return distance"
   ]
  },
  {
   "cell_type": "code",
   "execution_count": null,
   "metadata": {},
   "outputs": [],
   "source": [
    "pairs = [(\"fire\", \"fry\"),\n",
    "         (\"fyre\", \"fry\"),\n",
    "         (\"apple\", \"banana\"),\n",
    "         (\"aaa\", \"bbb\"),\n",
    "         (\"long string\", \"\")]\n",
    "for s, t in pairs:\n",
    "    print(f\"Levenshtein distance of \\\"{s}\\\" and \\\"{t}\\\" is {levenshtein_distance(s, t)}\")"
   ]
  },
  {
   "cell_type": "code",
   "execution_count": null,
   "metadata": {},
   "outputs": [],
   "source": [
    "# memo is now undefined\n",
    "print(memo)"
   ]
  },
  {
   "cell_type": "markdown",
   "metadata": {},
   "source": [
    "## Bullet point summary\n",
    "\n",
    "- Variables defined inside a function `f` cannot be accessed from anywhere outside `f`.\n",
    "- They are also inaccessible to any other functions that are defined outside `f`, even if `f` calls those functions.\n",
    "- Global variables are accessible from anywhere.\n",
    "- Use `global var` to define a global variable `var`.\n",
    "- Make sure to delete global variables with `del var`.\n",
    "  Otherwise, they might cause weird bugs that are hard to track down."
   ]
  }
 ],
 "metadata": {
  "kernelspec": {
   "display_name": "Python 3",
   "language": "python",
   "name": "python3"
  },
  "language_info": {
   "codemirror_mode": {
    "name": "ipython",
    "version": 3
   },
   "file_extension": ".py",
   "mimetype": "text/x-python",
   "name": "python",
   "nbconvert_exporter": "python",
   "pygments_lexer": "ipython3",
   "version": "3.7.3rc1"
  }
 },
 "nbformat": 4,
 "nbformat_minor": 2
}
