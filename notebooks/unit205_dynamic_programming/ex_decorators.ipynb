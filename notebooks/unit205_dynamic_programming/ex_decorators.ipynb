{
 "cells": [
  {
   "cell_type": "markdown",
   "metadata": {},
   "source": [
    "# Adding memoization via decorators\n",
    "\n",
    "While memoization makes our code a lot faster, it also clutters it a bit with all the steps for retrieving values from the memo or storing them there.\n",
    "This can make the code harder to read, and it also distracts from the central flow inside the function.\n",
    "Python provides a special mechanism to modify functions through other functions, which are called **decorators**.\n",
    "With decorators, we can add memoization to a function without changing any of its internals.\n",
    "\n",
    "First, take one more look at the recursive implementation of Levenshtein distance, with memoization."
   ]
  },
  {
   "cell_type": "code",
   "execution_count": null,
   "metadata": {},
   "outputs": [],
   "source": [
    "def levenshtein_distance(s, t):\n",
    "    \"\"\"Calculate Levenshtein distance between s and t.\"\"\"\n",
    "    return cost((len(s), len(t)), construct_grid(s, t))"
   ]
  },
  {
   "cell_type": "code",
   "execution_count": null,
   "metadata": {},
   "outputs": [],
   "source": [
    "def construct_grid(s, t):\n",
    "    \"\"\"Compute the default cost for each edge.\"\"\"\n",
    "    # grid is now a dictionary instead of a list\n",
    "    grid = {(x,y): {}\n",
    "            for x in range(len(s) + 1)\n",
    "            for y in range(len(t) + 1)}\n",
    "    for x, y in grid:\n",
    "        # add deletion edge if there is a node to the left\n",
    "        if x > 0:\n",
    "            grid[(x,y)][(x-1, y)] = 1\n",
    "        # add insertion edge is there is a node above\n",
    "        if y > 0:\n",
    "            grid[(x,y)][(x, y-1)] = 1\n",
    "        # add substitution edge; check if cost is 0\n",
    "        if x > 0 and y > 0:\n",
    "            grid[(x,y)][(x-1, y-1)] =\\\n",
    "                0 if s[x-1] == t[y-1] else 1\n",
    "    return grid"
   ]
  },
  {
   "cell_type": "code",
   "execution_count": null,
   "metadata": {},
   "outputs": [],
   "source": [
    "def cost(node, grid):\n",
    "    \"\"\"Calculate the cost of the optimal path to node through the grid.\"\"\"\n",
    "    if node == (0, 0) or memo.get(node) is not None:\n",
    "        return memo[node]\n",
    "    else:\n",
    "        lowest = min([cost(neighbor, grid) + edge_cost\n",
    "                      for neighbor, edge_cost in grid[node].items()])\n",
    "        memo[node] = lowest\n",
    "        return lowest"
   ]
  },
  {
   "cell_type": "markdown",
   "metadata": {},
   "source": [
    "All the memoization steps take place inside `cost`, where they are intermingled with the steps for computing the cost as the sum of the cost to get to the neighbor and the cost of the edge from a neighbor.\n",
    "\n",
    "Instead, we can factor out all the memoization steps into a special function `memoize`.\n",
    "Intuitively, `memoize` will be used to sandwich `cost` between pieces of code that handle the memoization.\n",
    "Here's what this looks like."
   ]
  },
  {
   "cell_type": "code",
   "execution_count": null,
   "metadata": {},
   "outputs": [],
   "source": [
    "def memoize(cost_function):\n",
    "    \"\"\"Add memoization to the cost function.\"\"\"\n",
    "    memo = {(0, 0): 0}\n",
    "    def cost_wrapper(node, grid):\n",
    "        if node == (0, 0) or node in memo:\n",
    "            return memo[node]\n",
    "        else:\n",
    "            lowest = cost_function(node, grid)\n",
    "            memo[node] = lowest\n",
    "            return lowest\n",
    "    return cost_wrapper\n",
    "\n",
    "@memoize\n",
    "def cost(node, grid):\n",
    "    \"\"\"Calculate the cost of the optimal path to node through the grid.\n",
    "    \n",
    "    This version has no memoization.\"\"\"\n",
    "    if node == (0, 0):\n",
    "        return 0\n",
    "    else:\n",
    "        lowest = min([cost(neighbor, grid) + edge_cost\n",
    "                      for neighbor, edge_cost in grid[node].items()])\n",
    "        return lowest"
   ]
  },
  {
   "cell_type": "markdown",
   "metadata": {},
   "source": [
    "And it does indeed add memoization, as is witnessed by how little time it takes to compute the example below."
   ]
  },
  {
   "cell_type": "code",
   "execution_count": null,
   "metadata": {},
   "outputs": [],
   "source": [
    "s = \"supercalifragilisticexpialidocious\"\n",
    "t = s\n",
    "print(f\"Levenshtein distance of \\\"{s}\\\" and \\\"{t}\\\" is {levenshtein_distance(s, t)}\")"
   ]
  },
  {
   "cell_type": "markdown",
   "metadata": {},
   "source": [
    "But how does it work?\n",
    "The line `@memoize` tells Python that we want to use the function `memoize` to construct a modified version of `cost`.\n",
    "After that, `memoize` will take the `cost` function as an argument and use it to construct a new function `cost_wrapper`.\n",
    "First it defines `memo` as `{(0, 0): 0}`.\n",
    "This is followed up by the function definition for `cost_wrapper`, right inside `memoize`:\n",
    "\n",
    "- Just like `cost`, it takes the arguments `node` and `grid`.\n",
    "- If there is already a stored value for `node` in `memo`, `cost_wrapper` returns that.\n",
    "- Otherwise, `cost_wrapper` uses `cost` to compute the value.\n",
    "  Once it has been computed, it gets added to `memo` and is returned as the output.\n",
    "  \n",
    "After the definition of `cost_wrapper`, `memoize` ends with `return cost_wrapper` to indicate that the function we fed into `memoize` - i.e. `cost` - should be replaced by `cost_wrapper` instead."
   ]
  },
  {
   "cell_type": "markdown",
   "metadata": {},
   "source": [
    "Your head is probably swirling at this point, so let's go through this step by step, replacing pieces of code in a manner that is similar to what Python is doing under the hood."
   ]
  },
  {
   "cell_type": "code",
   "execution_count": null,
   "metadata": {},
   "outputs": [],
   "source": [
    "@memoize\n",
    "def cost(node, grid):\n",
    "    ...\n",
    "# call memoize with cost as the argument, and replace cost by the output of memoize\n",
    "cost = memoize(cost)\n",
    "\n",
    "# what is memoize(cost)? it's whatever is returned by memoize: cost_wrapper!\n",
    "cost = cost_wrapper\n",
    "\n",
    "# what is cost_wrapper?\n",
    "def cost_wrapper(node, grid):\n",
    "    if node == (0, 0) or node in memo:\n",
    "        return memo[node]\n",
    "    else:\n",
    "        lowest = cost(node, grid)\n",
    "        memo[node] = lowest\n",
    "        return lowest\n",
    "    \n",
    "# we can make the computation of lowest more explicit based on cost\n",
    "def cost_wrapper(node, grid):\n",
    "    if node == (0, 0) or node in memo:\n",
    "        return memo[node]\n",
    "    else:\n",
    "        lowest = min([cost(neighbor, grid) + edge_cost\n",
    "                      for neighbor, edge_cost in grid[node].items()])\n",
    "        memo[node] = lowest\n",
    "        return lowest\n",
    "\n",
    "# but every instance of cost is now cost_wrapper,\n",
    "# so the definition is actually\n",
    "def cost_wrapper(node, grid):\n",
    "    if node == (0, 0) or node in memo:\n",
    "        return memo[node]\n",
    "    else:\n",
    "        lowest = min([cost_wrapper(neighbor, grid) + edge_cost\n",
    "                      for neighbor, edge_cost in grid[node].items()])\n",
    "        memo[node] = lowest\n",
    "        return lowest"
   ]
  },
  {
   "cell_type": "markdown",
   "metadata": {},
   "source": [
    "This isn't quite how Python handles decorators, but it is a reasonable approximation of the general principle. Now compare this final version of `cost_wrapper` with the memoized version of `cost` that we had in the earlier notebook."
   ]
  },
  {
   "cell_type": "code",
   "execution_count": null,
   "metadata": {},
   "outputs": [],
   "source": [
    "def cost(node, grid):\n",
    "    \"\"\"Calculate the cost of the optimal path to node through the grid.\"\"\"\n",
    "    if node == (0, 0) or node in memo:\n",
    "        return memo[node]\n",
    "    else:\n",
    "        lowest = min([cost(neighbor, grid) + edge_cost\n",
    "                      for neighbor, edge_cost in grid[node].items()])\n",
    "        memo[node] = lowest\n",
    "        return lowest"
   ]
  },
  {
   "cell_type": "markdown",
   "metadata": {},
   "source": [
    "The two are exactly the same!\n",
    "The only cosmetic difference is that every instance of `cost` is replaced with `cost_wrapper`.\n",
    "So by using the `memoize` decorator, we have automatically translated the version of `cost` without memoization into the version that does memoize.\n",
    "\n",
    "But the two are actually not quite identical, the decorator approach has one advantage.\n",
    "As discussed in the other expansion unit, our memoized implementation of the Levenshtein distance requires `memo` to be instantiated outside the function, or to be a global variable.\n",
    "With the decorator, we do not need to worry about this.\n",
    "Since `memo` is instantiated inside `memoize`, it is accessible to any function that is defined within `memoize`.\n",
    "In other words, `cost_wrapper` (and only `cost_wrapper`) can access `memo` at any time.\n",
    "The user does not need to worry about creating `memo` first, it is all part of the decoration process.\n",
    "\n",
    "Decorators have many applications besides memoization.\n",
    "Any kind of general purpose code that you want to use with a variety of functions is a good candidate for a decorator.\n",
    "For instance, checking that a function's arguments are of the right type, or supplying more complex default values for arguments.\n",
    "But we'll stop here because odds are that this has already been plenty to absorb.\n",
    "Don't worry if it still seems very opaque too you, decorators are a very advanced feature of Python and it takes quite a while to get the hang of them.\n",
    "Appropriate usage of decorators is a telltale sign that somebody has serious Python programming chops."
   ]
  },
  {
   "cell_type": "markdown",
   "metadata": {},
   "source": [
    "## Bullet point summary\n",
    "\n",
    "- Decorators are used to modify and/or expand other functions.\n",
    "- Intuitively, a decorator wraps additional code around an existing function.\n",
    "- More technically, a decorator is a function that takes a function as input and returns another function as output.\n",
    "- Decorators are invoked with `@` and must appear right above the definition of the function that should be decorated.\n",
    "\n",
    "```python\n",
    "@some_decorator\n",
    "def function_to_be_decorated(arg1, ..., argn):\n",
    "```\n",
    "\n",
    "- A decorator can contain arbitrary code, but it must contain the definition of some function `foo`, which is also the decorator's return value."
   ]
  }
 ],
 "metadata": {
  "kernelspec": {
   "display_name": "Python 3",
   "language": "python",
   "name": "python3"
  },
  "language_info": {
   "codemirror_mode": {
    "name": "ipython",
    "version": 3
   },
   "file_extension": ".py",
   "mimetype": "text/x-python",
   "name": "python",
   "nbconvert_exporter": "python",
   "pygments_lexer": "ipython3",
   "version": "3.7.3rc1"
  }
 },
 "nbformat": 4,
 "nbformat_minor": 2
}
