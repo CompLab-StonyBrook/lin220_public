{
 "cells": [
  {
   "cell_type": "markdown",
   "metadata": {},
   "source": [
    "# Checking your code with unit tests\n",
    "\n",
    "In software development, **unit tests** are allowed to verify that the code works as desired.\n",
    "A unit test is a bit like an answer sheet for an exam: somebody works out the correct answers in advance for specific inputs, and then one checks that the code does indeed produce these answers.\n",
    "If the code deviates from the predetermined answers, the error is pointed out so that the programmer can see where the code goes wrong.\n",
    "Careful, though: unit tests can only tell you **where** your code produces wrong answers, not **why** it produces wrong answers.\n",
    "That's still for you to figure out."
   ]
  },
  {
   "cell_type": "markdown",
   "metadata": {},
   "source": [
    "## A toy example\n",
    "\n",
    "Suppose we want to implement our own addition operation as follows."
   ]
  },
  {
   "cell_type": "code",
   "execution_count": null,
   "metadata": {
    "collapsed": true
   },
   "outputs": [],
   "source": [
    "def addition(m, n):\n",
    "    \"\"\"And m and n in a roundabout manner.\"\"\"\n",
    "    return (m - 1) + (n + 1)"
   ]
  },
  {
   "cell_type": "markdown",
   "metadata": {},
   "source": [
    "In order to check the code for correctness, we can now just run it on various values for `m` and `n`.\n",
    "So our unit test might look something like this:\n",
    "\n",
    "| `m` | `n` | sum |\n",
    "| --: | --: | --: |\n",
    "| 0   | 0   | 0   |\n",
    "| 137 | -5  | 132 |\n",
    "| 2   | 1000000 | 1000002 |\n",
    "\n",
    "In a sense, this is exactly what you do anyways when you test your own code: provide some example inputs and make sure that the function returns what you want it to return.\n",
    "In practice, though, the whole points of unit tests is that you do not have to do things by hand.\n",
    "Instead, the whole testing process is automated so that hundreds and thousands of tests can be run in a few seconds.\n",
    "\n",
    "**Caution:**\n",
    "Passing a unit test is not a guarantee that your code works flawlessly.\n",
    "Somebody had to design those unit tests, after all, so if they made a mistake in the tests or forgot something, something might slip past the test.\n",
    "It's similar to an exam: just because you got an A does not mean that you could solve every conceivable assignment.\n",
    "It just means that you succeeded on the given assignments, the implicit assumption being that these assignments are a thorough test of your understanding."
   ]
  },
  {
   "cell_type": "markdown",
   "metadata": {},
   "source": [
    "## Unit testing on CoCalc\n",
    "\n",
    "All future homeworks will come with predefined unit tests.\n",
    "This allows you to check your homework solutions for correctness before they get handed in.\n",
    "In order to use them, you have to follow a specific order of steps.\n",
    "\n",
    "1. **Use functions**  \n",
    "   First, all your code has to take the form of functions.\n",
    "   That's because only functions can be automatically unit-tested.\n",
    "   So whatever code you want to test, make sure it only consists of function definition.\n",
    "1. **Name your functions correctly**  \n",
    "   Second, your functions must have the correct name.\n",
    "   Each homework will tell you the names of crucial functions.\n",
    "   If you deviate from these names by even one character, the unit tests won't be able to find the function they're supposed to test\n",
    "1. **Write to student_solutions.py**  \n",
    "   All functions must be written to a file `student_solutions.py`.\n",
    "   This is very easy, and will be explained in a moment.\n",
    "1. **Run the unit tests**  \n",
    "   This is also very easy and will be explained in a second."
   ]
  },
  {
   "cell_type": "markdown",
   "metadata": {},
   "source": [
    "Let's work through a concrete example.\n",
    "Suppose your assignment is to reimplement addition and subtraction.\n",
    "The function names you are supposed to use are `addition` and `subtraction` (obvious choices, hmm?).\n",
    "One student, *Crazy C*, comes up with the following solution."
   ]
  },
  {
   "cell_type": "code",
   "execution_count": null,
   "metadata": {
    "collapsed": true
   },
   "outputs": [],
   "source": [
    "def addition(m, n):\n",
    "    return m + n  # so far, so good\n",
    "\n",
    "\n",
    "# but here things get weird\n",
    "def subtraction(m, n):\n",
    "    return tripled(m) - tripled(n)\n",
    "\n",
    "\n",
    "def tripled(n):\n",
    "    return 3 * n\n",
    "\n",
    "print(addition(5, 3))\n",
    "print(subtraction(1, 1))"
   ]
  },
  {
   "cell_type": "markdown",
   "metadata": {},
   "source": [
    "Crazy C has done a few things right:\n",
    "All the important code takes the form of function definitions, and two of the functions have the requested names `addition` and `subtraction`.\n",
    "We're not too happy about the missing docstrings, but we'll ignore this for now.\n",
    "\n",
    "Crazy C now has to test this code.\n",
    "At the bottom of the notebook with the assignment, there is a code cell with the following text:\n",
    "\n",
    "```python\n",
    "%% writefile tests/student_solutions.py\n",
    "# copy-paste your code here, then run the cell\n",
    "```\n",
    "\n",
    "Crazy C does as instructed."
   ]
  },
  {
   "cell_type": "code",
   "execution_count": null,
   "metadata": {
    "collapsed": false
   },
   "outputs": [],
   "source": [
    "%%writefile tests/student_solutions.py\n",
    "# copy-paste your code here, then run the cell\n",
    "\n",
    "def addition(m, n):\n",
    "    return m + n\n",
    "\n",
    "def subtraction(m, n):\n",
    "    return tripled(m) - tripled(n)"
   ]
  },
  {
   "cell_type": "markdown",
   "metadata": {},
   "source": [
    "This creates a new file called `student_solutions.py` in the subfolder `tests`.\n",
    "The file contains the contents of the cell.\n",
    "Without this file, the unit tests won't work because we can't directly run unit tests on a Jupyter notebook.\n",
    "Instead, we have to write all the code to a separate Python file.\n",
    "\n",
    "Next, there is a cell that looks as follows:"
   ]
  },
  {
   "cell_type": "code",
   "execution_count": null,
   "metadata": {
    "collapsed": false
   },
   "outputs": [],
   "source": [
    "# test addition\n",
    "!pytest-3 tests/addition.py"
   ]
  },
  {
   "cell_type": "markdown",
   "metadata": {},
   "source": [
    "Crazy C runs the cell, and after some waiting there is an output `1 passed`, informing her that the addition test has been passed.\n",
    "\n",
    "Right below, there is another cell - this one seems to be for subtraction."
   ]
  },
  {
   "cell_type": "code",
   "execution_count": null,
   "metadata": {
    "collapsed": false
   },
   "outputs": [],
   "source": [
    "!pytest-3 tests/subtraction.py"
   ]
  },
  {
   "cell_type": "markdown",
   "metadata": {},
   "source": [
    "Running this example gives a lot more output.\n",
    "But the essential part is at the bottom: `1 failed`.\n",
    "The unit test was not passed correctly.\n",
    "Why is that?\n",
    "Looking a little bit higher, we see `NameError: name 'tripled' is not defined`.\n",
    "\n",
    "Upon reflection, Crazy C realizes what's wrong: not all the relevant code was copy-pasted into the cell with the `%%writefile` line.\n",
    "Since the function `subtraction` uses the function `tripled`, the code for this also must be copied into the cell.\n",
    "Time to update the cell and run it again:"
   ]
  },
  {
   "cell_type": "code",
   "execution_count": null,
   "metadata": {
    "collapsed": false
   },
   "outputs": [],
   "source": [
    "%%writefile tests/student_solutions.py\n",
    "# copy-paste your code here, then run the cell\n",
    "\n",
    "def addition(m, n):\n",
    "    return m + n\n",
    "\n",
    "def subtraction(m, n):\n",
    "    return tripled(m) - tripled(n)\n",
    "\n",
    "def tripled(n):\n",
    "    return 3 * n"
   ]
  },
  {
   "cell_type": "markdown",
   "metadata": {},
   "source": [
    "Okay, the old version of `student_solutions` has been overwritten with the new code.\n",
    "Time to run the subtraction test again."
   ]
  },
  {
   "cell_type": "code",
   "execution_count": null,
   "metadata": {
    "collapsed": false
   },
   "outputs": [],
   "source": [
    "!pytest-3 tests/subtraction.py"
   ]
  },
  {
   "cell_type": "markdown",
   "metadata": {},
   "source": [
    "Still no dice.\n",
    "The `NameError` has disappeared, but it has been replaced by an `AssertionError`.\n",
    "These errors show up when the student code can be run, but does not produce the correct output.\n",
    "What is the problem here?\n",
    "The highlighted lines show the problem:\n",
    "\n",
    "```python\n",
    "assert(1 - 0) == 3\n",
    " +  where 3 = subtraction(1, 0)\n",
    "```\n",
    "\n",
    "When the first argument for `subtraction` is `1` and the second argument is `0`, `subtraction` returns 3.\n",
    "But obviously the correct solution for `1 - 0` is `1`, not `3`.\n",
    "Crazy C is confused at first, but decides after a moment of clarity that the problem is with the use of `tripled`.\n",
    "So once again the code is modified, written to a file, and the test repeated."
   ]
  },
  {
   "cell_type": "code",
   "execution_count": null,
   "metadata": {
    "collapsed": false
   },
   "outputs": [],
   "source": [
    "%%writefile tests/student_solutions.py\n",
    "# copy-paste your code here, then run the cell\n",
    "\n",
    "def addition(m, n):\n",
    "    return m + n\n",
    "\n",
    "def subtraction(m, n):\n",
    "    return m - n"
   ]
  },
  {
   "cell_type": "code",
   "execution_count": null,
   "metadata": {
    "collapsed": false
   },
   "outputs": [],
   "source": [
    "!pytest-3 tests/subtraction.py"
   ]
  },
  {
   "cell_type": "markdown",
   "metadata": {},
   "source": [
    "Finally, the code passes the subtraction test.\n",
    "Since all tests have been passed correctly, the homework is ready for collection."
   ]
  },
  {
   "cell_type": "markdown",
   "metadata": {},
   "source": [
    "## When and what to test\n",
    "\n",
    "### Test early and often\n",
    "\n",
    "Don't wait with running tests until the end of the assignment.\n",
    "As soon as you have finished a function, test it.\n",
    "If it performs correctly, you know for a fact that you have a solid base to build on.\n",
    "If your function doesn't pass the test, you can fix it right away.\n",
    "Waiting too long with fixing a function means that you might have to rewrite a lot of code that was designed for an earlier version of the function.\n",
    "And the larger your code base, the longer it will take to figure out what's wrong.\n",
    "\n",
    "### Test everything to avoid regressions\n",
    "\n",
    "After a test fails, you'll have to modify your code.\n",
    "Once you've made your changes, make sure to rerun the whole test suite.\n",
    "Otherwise, you might miss **regressions**.\n",
    "A regression occurs when your code suddenly produces mistakes it didn't make before.\n",
    "Basically, by trying to plug one hole in your code you might have accidentally created a new one.\n",
    "If you only run the tests that have failed in a previous attempt, any new bugs you might have introduced could go unnoticed.\n",
    "So always test all your pieces of code that you have already written, not just the ones that failed a test earlier on."
   ]
  },
  {
   "cell_type": "markdown",
   "metadata": {},
   "source": [
    "## Bullet-point summary\n",
    "\n",
    "- Unit tests can automatically test code for correctness.\n",
    "  A unit test ensures that certain inputs match the intended output.\n",
    "- Passing a unit test is not a perfect guarantee of correctness.\n",
    "  There might be edge cases that the test did not check for.\n",
    "- For homeworks, follow the standard procedure:\n",
    "  1. Copy-paste your code into the cell with ``%%writefile tests/student_solutions.py``.\n",
    "  1. Make sure to include all relevant functions.\n",
    "  1. Make sure all functions are named correctly.\n",
    "  1. Run the tests.\n",
    "     If a test fails, modify your code and repeat from the step 1.\n",
    "- Test early and often.\n",
    "- Always run all tests after making changes to avoid **regressions**."
   ]
  }
 ],
 "metadata": {
  "kernelspec": {
   "display_name": "Python 3",
   "language": "python",
   "name": "python3"
  },
  "language_info": {
   "codemirror_mode": {
    "name": "ipython",
    "version": 3
   },
   "file_extension": ".py",
   "mimetype": "text/x-python",
   "name": "python",
   "nbconvert_exporter": "python",
   "pygments_lexer": "ipython3",
   "version": "3.5.3"
  }
 },
 "nbformat": 4,
 "nbformat_minor": 2
}
